{
  "nbformat": 4,
  "nbformat_minor": 0,
  "metadata": {
    "colab": {
      "name": "Group1_ 2020SIT742Task2Sol (1).ipynb",
      "provenance": [],
      "collapsed_sections": [],
      "include_colab_link": true
    },
    "kernelspec": {
      "display_name": "Python 3",
      "language": "python",
      "name": "python3"
    },
    "language_info": {
      "codemirror_mode": {
        "name": "ipython",
        "version": 3
      },
      "file_extension": ".py",
      "mimetype": "text/x-python",
      "name": "python",
      "nbconvert_exporter": "python",
      "pygments_lexer": "ipython3",
      "version": "3.7.7"
    }
  },
  "cells": [
    {
      "cell_type": "markdown",
      "metadata": {
        "id": "view-in-github",
        "colab_type": "text"
      },
      "source": [
        "<a href=\"https://colab.research.google.com/github/turnbulla/sit742-1/blob/master/Group1__2020SIT742Task2Sol_(1).ipynb\" target=\"_parent\"><img src=\"https://colab.research.google.com/assets/colab-badge.svg\" alt=\"Open In Colab\"/></a>"
      ]
    },
    {
      "cell_type": "markdown",
      "metadata": {
        "colab_type": "text",
        "id": "5PD5Pz3u-6vb"
      },
      "source": [
        "# SIT742: Modern Data Science \n",
        "**(2020 Assessment Task 02: Exploration FIFA2019 Data)**\n",
        "\n",
        "---\n",
        "- Materials in this module include resources collected from various open-source online repositories.\n",
        "- You are free to use, change and distribute this package.\n",
        "\n",
        "Prepared by **SIT742 Teaching Team**\n",
        "\n",
        "\n",
        "---\n",
        "\n",
        "<div class=\"alert alert-block alert-info\">\n",
        "Enter your information in the following cell. Please make sure you fill your Student ID and Name correctly.  \n",
        "</div>\n",
        "\n",
        "**Student Group Information:** Please fill your information below\n",
        "\n",
        "- Names with Student IDs:  Amy Turnbull (218314908); Basia Wozny (201311535); Luke Andrews (218365381)\n",
        "- Group ID:  SIT742T2Group1\n",
        "- Emails:   turnbulla@deakin.edu.au; bwozny@deakin.edu.au; andrewsl@deakin.edu.au \n",
        "\n",
        "---"
      ]
    },
    {
      "cell_type": "markdown",
      "metadata": {
        "colab_type": "text",
        "id": "2ljGko6N-6vf"
      },
      "source": [
        "## Overview\n",
        "\n",
        "Recently, [Kaggle](https://www.kaggle.com) (a data science community and competition platform) released one data set '[FIFA19](https://www.kaggle.com/karangadiya/fifa19)‘, which consists of 18K+ FIFA 19 player with around 90 attributes extracted from FIFA database. In this assessment task, we make it available as the data set:\n",
        "- [2020T2Data.csv](https://github.com/tulip-lab/sit742/raw/master/Assessment/2020/data/2020T2Data.csv): The data set for this assignment task.\n",
        "\n",
        "In this task, you will need to **use Spark packages**\n",
        "\n",
        "- **Part 1**: Exploratory Data Analysis\n",
        "\n",
        "- **Part 2**: Clustering Analysis, and identify the position profiles of each cluster\n",
        "\n",
        "- **Part 3**: Classification Analysis, and evaluate the performance of different algorithms using cross validation;\n",
        "\n",
        "\n",
        "You will be required to complete the coding to answer the questions with a neat and clean format, and your commenting and adherence to code standards will be considered when marking. Further information on Python standards, please visit https://www.python.org/dev/peps/pep-0008/ \n",
        "\n",
        "\n",
        "**Note**: You are not necessary to stick to the partial code provided, and you can write your own complete code to implement the required tasks. But you should provide sufficient comments.\n",
        "\n"
      ]
    },
    {
      "cell_type": "markdown",
      "metadata": {
        "colab_type": "text",
        "id": "G1vjEdvs-6vh"
      },
      "source": [
        "## Part 1 - What we could know about FIFA 2019 Players? \n",
        "\n",
        "### 1.0. Libraries and data files\n",
        "<a id=\"Load data\"></a>\n",
        "***\n",
        "\n",
        "Import the necessary Spark environment, and load the data set [2020T2Data.csv](https://github.com/tulip-lab/sit742/raw/master/Assessment/2020/data/2020T2Data.csv).\n"
      ]
    },
    {
      "cell_type": "code",
      "metadata": {
        "colab_type": "code",
        "id": "auVRAscVRVrI",
        "outputId": "70baa23f-73a5-44e5-bb3a-31820c6fceac",
        "colab": {
          "base_uri": "https://localhost:8080/",
          "height": 173
        }
      },
      "source": [
        "!pip install wget\n",
        "!apt-get install openjdk-8-jdk-headless -qq > /dev/null\n",
        "!wget -q https://archive.apache.org/dist/spark/spark-2.4.0/spark-2.4.0-bin-hadoop2.7.tgz\n",
        "!tar xf spark-2.4.0-bin-hadoop2.7.tgz\n",
        "!pip install -q findspark\n",
        "import os,wget\n",
        "os.environ[\"JAVA_HOME\"] = \"/usr/lib/jvm/java-8-openjdk-amd64\"\n",
        "os.environ[\"SPARK_HOME\"] = \"/content/spark-2.4.0-bin-hadoop2.7\"\n",
        "\n",
        "\n",
        "link_to_data = 'https://github.com/tulip-lab/sit742/raw/master/Assessment/2020/data/2020T2Data.csv'\n",
        "DataSet = wget.download(link_to_data)"
      ],
      "execution_count": 1,
      "outputs": [
        {
          "output_type": "stream",
          "text": [
            "Collecting wget\n",
            "  Downloading https://files.pythonhosted.org/packages/47/6a/62e288da7bcda82b935ff0c6cfe542970f04e29c756b0e147251b2fb251f/wget-3.2.zip\n",
            "Building wheels for collected packages: wget\n",
            "  Building wheel for wget (setup.py) ... \u001b[?25l\u001b[?25hdone\n",
            "  Created wheel for wget: filename=wget-3.2-cp36-none-any.whl size=9682 sha256=4b199d8d959ece3c775d9840a493c6b3c47d4be41a01087fe7736d4ec7c0781e\n",
            "  Stored in directory: /root/.cache/pip/wheels/40/15/30/7d8f7cea2902b4db79e3fea550d7d7b85ecb27ef992b618f3f\n",
            "Successfully built wget\n",
            "Installing collected packages: wget\n",
            "Successfully installed wget-3.2\n"
          ],
          "name": "stdout"
        }
      ]
    },
    {
      "cell_type": "code",
      "metadata": {
        "colab_type": "code",
        "id": "3Gxm5nc6Rz-a",
        "colab": {}
      },
      "source": [
        "import findspark\n",
        "findspark.init()\n",
        "from pyspark.sql import SparkSession"
      ],
      "execution_count": 0,
      "outputs": []
    },
    {
      "cell_type": "markdown",
      "metadata": {
        "colab_type": "text",
        "id": "dSPbqoEGR30v"
      },
      "source": [
        "### 1.1 Data Exploration\n",
        "\n",
        "*Remind: You must only use **PySpark** to complete the following data processing and model building. Otherwise, you lose all marks.*\n",
        "\n",
        "<a id=\"loading\"></a>\n",
        "***\n",
        "\n",
        "<div class=\"alert alert-block alert-info\">\n",
        "\n",
        "**Code**: \n",
        "    import the csv file as a Spark dataframe and name it as df\n",
        "\n",
        "</div>\n",
        "\n"
      ]
    },
    {
      "cell_type": "code",
      "metadata": {
        "colab_type": "code",
        "id": "uuGY6lgWR7B3",
        "colab": {}
      },
      "source": [
        "# Import the '2020T2Data.csv' as a Spark dataframe and name it as df\n",
        "spark = SparkSession.builder.appName('SIT742T2').getOrCreate()\n",
        "df = spark.read.csv(\"2020T2Data.csv\", header=True, inferSchema=True)"
      ],
      "execution_count": 0,
      "outputs": []
    },
    {
      "cell_type": "markdown",
      "metadata": {
        "colab_type": "text",
        "id": "2sXsdZ2wbrAg"
      },
      "source": [
        "****\n",
        "\n",
        "\n",
        "<div class=\"alert alert-block alert-info\">\n",
        "\n",
        "**Code**: \n",
        "    Check statistics (min, mean and max) for features on Age, Overall. Then find out the Avg Overall on Position, Avg Overall on Nationality (Sort by avg Overall on Nationality)\n",
        "\n",
        "<div class=\"alert alert-block alert-warning\">\n",
        "    \n",
        "**Report**: \n",
        "    **1.1.A** Please answer questions with proper section title  '1.1.A':     \n",
        "    <ol>\n",
        "        <li> Which are the (min, mean and max) for Age </li>\n",
        "        <li> Which are the (min, mean and max) for Overall </li>\n",
        "        <li> Find the position having highest Avg Overall (sort Avg Overall by position) </li>\n",
        "        <li> Find the top 3 countries with highest Avg Overall (sort Avg Overall by countries)  </li>\n",
        "    </ol>\n",
        "</div>\n",
        "</div>"
      ]
    },
    {
      "cell_type": "code",
      "metadata": {
        "colab_type": "code",
        "id": "mdWVric-aY-h",
        "outputId": "175ee306-3afc-45ed-a42d-95765e5f001f",
        "colab": {
          "base_uri": "https://localhost:8080/",
          "height": 121
        }
      },
      "source": [
        "from pyspark.sql import functions as F\n",
        "\n",
        "# Min, Mean, Max for Age\n",
        "df.agg(F.min('Age'), F.avg('Age'), F.max('Age')).show()"
      ],
      "execution_count": 29,
      "outputs": [
        {
          "output_type": "stream",
          "text": [
            "+--------+------------------+--------+\n",
            "|min(Age)|          avg(Age)|max(Age)|\n",
            "+--------+------------------+--------+\n",
            "|      16|25.122205745043114|      45|\n",
            "+--------+------------------+--------+\n",
            "\n"
          ],
          "name": "stdout"
        }
      ]
    },
    {
      "cell_type": "code",
      "metadata": {
        "colab_type": "code",
        "id": "-KMLB3sAfkpK",
        "outputId": "05885c9d-72d2-4562-f9c3-e7da10ac7310",
        "colab": {
          "base_uri": "https://localhost:8080/",
          "height": 121
        }
      },
      "source": [
        "# Min, Mean & Max for Overall\n",
        "df.agg(F.min('Overall'), F.avg('Overall'), F.max('Overall')).show()"
      ],
      "execution_count": 9,
      "outputs": [
        {
          "output_type": "stream",
          "text": [
            "+------------+-----------------+------------+\n",
            "|min(Overall)|     avg(Overall)|max(Overall)|\n",
            "+------------+-----------------+------------+\n",
            "|          46|66.23869940132916|          94|\n",
            "+------------+-----------------+------------+\n",
            "\n"
          ],
          "name": "stdout"
        }
      ]
    },
    {
      "cell_type": "code",
      "metadata": {
        "colab_type": "code",
        "id": "S4SMaNc4gX3E",
        "outputId": "fdbb1292-78f0-4f6d-8457-228edb049c2f",
        "colab": {
          "base_uri": "https://localhost:8080/",
          "height": 138
        }
      },
      "source": [
        "# Position having highest Avg Overall\n",
        "df.groupby('Position').agg(F.avg('Overall')).sort(\n",
        "    'avg(Overall)', ascending=False).show(1)"
      ],
      "execution_count": 10,
      "outputs": [
        {
          "output_type": "stream",
          "text": [
            "+--------+-----------------+\n",
            "|Position|     avg(Overall)|\n",
            "+--------+-----------------+\n",
            "|      LF|73.86666666666666|\n",
            "+--------+-----------------+\n",
            "only showing top 1 row\n",
            "\n"
          ],
          "name": "stdout"
        }
      ]
    },
    {
      "cell_type": "code",
      "metadata": {
        "colab_type": "code",
        "id": "B6PYyigEjZwI",
        "outputId": "60b06f05-45c2-4fc0-94a6-bf4e15e02664",
        "colab": {
          "base_uri": "https://localhost:8080/",
          "height": 173
        }
      },
      "source": [
        "# Top 3 countries with highest Avg Overall\n",
        "df.groupby('Nationality').agg(F.avg('Overall')).sort(\n",
        "    'avg(Overall)', ascending=False).show(3)"
      ],
      "execution_count": 11,
      "outputs": [
        {
          "output_type": "stream",
          "text": [
            "+--------------------+-----------------+\n",
            "|         Nationality|     avg(Overall)|\n",
            "+--------------------+-----------------+\n",
            "|United Arab Emirates|             77.0|\n",
            "|Central African Rep.|73.33333333333333|\n",
            "|              Israel|72.14285714285714|\n",
            "+--------------------+-----------------+\n",
            "only showing top 3 rows\n",
            "\n"
          ],
          "name": "stdout"
        }
      ]
    },
    {
      "cell_type": "markdown",
      "metadata": {
        "colab_type": "text",
        "id": "kT8OESOsmQfv"
      },
      "source": [
        "****\n",
        "\n",
        "<div class=\"alert alert-block alert-info\">\n",
        "\n",
        "**Code**: \n",
        "    You are required to find out the Avg Potentials on Country by Positions, and show the top 10 by ordering your results on Country with alphabet? (Hint: you may need to use pivot)\n",
        "\n",
        "<div class=\"alert alert-block alert-warning\">\n",
        "    \n",
        "**Report**: \n",
        "    **1.1.B** Please answer questions with proper section title  '1.1.B':     \n",
        "    <ol>\n",
        "        <li> Show the results on Avg Potentials on Country by Position with ordering the results on country by alphabet</li>\n",
        "        <li> Find position having highest Avg Potential for Australia </li>\n",
        "    </ol>\n",
        "    \n",
        "</div>\n",
        "</div>"
      ]
    },
    {
      "cell_type": "code",
      "metadata": {
        "colab_type": "code",
        "id": "R1RsTYgImPFD",
        "outputId": "7c7f7b4a-9050-494e-f3d0-db3776bc9f41",
        "colab": {
          "base_uri": "https://localhost:8080/",
          "height": 356
        }
      },
      "source": [
        "# Avg Potentials on Country by Position - Top 10\n",
        "(df\n",
        " .groupby('Nationality', 'Position')\n",
        " .agg(F.avg('Potential'))\n",
        " .groupby('Nationality')\n",
        " .pivot('Position')\n",
        " .sum('avg(Potential)')\n",
        " .sort('Nationality')\n",
        " .limit(10)\n",
        " .toPandas()  # Output to Pandas purely for aesthetics as SparkDF wraps output\n",
        " )"
      ],
      "execution_count": 12,
      "outputs": [
        {
          "output_type": "execute_result",
          "data": {
            "text/html": [
              "<div>\n",
              "<style scoped>\n",
              "    .dataframe tbody tr th:only-of-type {\n",
              "        vertical-align: middle;\n",
              "    }\n",
              "\n",
              "    .dataframe tbody tr th {\n",
              "        vertical-align: top;\n",
              "    }\n",
              "\n",
              "    .dataframe thead th {\n",
              "        text-align: right;\n",
              "    }\n",
              "</style>\n",
              "<table border=\"1\" class=\"dataframe\">\n",
              "  <thead>\n",
              "    <tr style=\"text-align: right;\">\n",
              "      <th></th>\n",
              "      <th>Nationality</th>\n",
              "      <th>null</th>\n",
              "      <th>CAM</th>\n",
              "      <th>CB</th>\n",
              "      <th>CDM</th>\n",
              "      <th>CF</th>\n",
              "      <th>CM</th>\n",
              "      <th>GK</th>\n",
              "      <th>LAM</th>\n",
              "      <th>LB</th>\n",
              "      <th>LCB</th>\n",
              "      <th>LCM</th>\n",
              "      <th>LDM</th>\n",
              "      <th>LF</th>\n",
              "      <th>LM</th>\n",
              "      <th>LS</th>\n",
              "      <th>LW</th>\n",
              "      <th>LWB</th>\n",
              "      <th>RAM</th>\n",
              "      <th>RB</th>\n",
              "      <th>RCB</th>\n",
              "      <th>RCM</th>\n",
              "      <th>RDM</th>\n",
              "      <th>RF</th>\n",
              "      <th>RM</th>\n",
              "      <th>RS</th>\n",
              "      <th>RW</th>\n",
              "      <th>RWB</th>\n",
              "      <th>ST</th>\n",
              "    </tr>\n",
              "  </thead>\n",
              "  <tbody>\n",
              "    <tr>\n",
              "      <th>0</th>\n",
              "      <td>Afghanistan</td>\n",
              "      <td>NaN</td>\n",
              "      <td>66.000000</td>\n",
              "      <td>NaN</td>\n",
              "      <td>NaN</td>\n",
              "      <td>NaN</td>\n",
              "      <td>71.000000</td>\n",
              "      <td>NaN</td>\n",
              "      <td>None</td>\n",
              "      <td>64.000000</td>\n",
              "      <td>NaN</td>\n",
              "      <td>NaN</td>\n",
              "      <td>NaN</td>\n",
              "      <td>NaN</td>\n",
              "      <td>70.000000</td>\n",
              "      <td>NaN</td>\n",
              "      <td>NaN</td>\n",
              "      <td>NaN</td>\n",
              "      <td>None</td>\n",
              "      <td>NaN</td>\n",
              "      <td>NaN</td>\n",
              "      <td>NaN</td>\n",
              "      <td>NaN</td>\n",
              "      <td>NaN</td>\n",
              "      <td>NaN</td>\n",
              "      <td>NaN</td>\n",
              "      <td>NaN</td>\n",
              "      <td>NaN</td>\n",
              "      <td>NaN</td>\n",
              "    </tr>\n",
              "    <tr>\n",
              "      <th>1</th>\n",
              "      <td>Albania</td>\n",
              "      <td>70.0</td>\n",
              "      <td>70.750000</td>\n",
              "      <td>74.333333</td>\n",
              "      <td>69.500000</td>\n",
              "      <td>NaN</td>\n",
              "      <td>71.750000</td>\n",
              "      <td>77.500000</td>\n",
              "      <td>None</td>\n",
              "      <td>66.000000</td>\n",
              "      <td>NaN</td>\n",
              "      <td>71.000000</td>\n",
              "      <td>72.666667</td>\n",
              "      <td>NaN</td>\n",
              "      <td>73.666667</td>\n",
              "      <td>NaN</td>\n",
              "      <td>64.000000</td>\n",
              "      <td>NaN</td>\n",
              "      <td>None</td>\n",
              "      <td>75.000000</td>\n",
              "      <td>68.000000</td>\n",
              "      <td>75.000000</td>\n",
              "      <td>NaN</td>\n",
              "      <td>NaN</td>\n",
              "      <td>64.000000</td>\n",
              "      <td>71.000000</td>\n",
              "      <td>72.500000</td>\n",
              "      <td>NaN</td>\n",
              "      <td>72.250000</td>\n",
              "    </tr>\n",
              "    <tr>\n",
              "      <th>2</th>\n",
              "      <td>Algeria</td>\n",
              "      <td>NaN</td>\n",
              "      <td>74.250000</td>\n",
              "      <td>69.500000</td>\n",
              "      <td>70.250000</td>\n",
              "      <td>NaN</td>\n",
              "      <td>77.666667</td>\n",
              "      <td>67.600000</td>\n",
              "      <td>None</td>\n",
              "      <td>73.750000</td>\n",
              "      <td>69.000000</td>\n",
              "      <td>76.000000</td>\n",
              "      <td>73.000000</td>\n",
              "      <td>NaN</td>\n",
              "      <td>74.666667</td>\n",
              "      <td>NaN</td>\n",
              "      <td>73.666667</td>\n",
              "      <td>NaN</td>\n",
              "      <td>None</td>\n",
              "      <td>63.000000</td>\n",
              "      <td>74.500000</td>\n",
              "      <td>76.000000</td>\n",
              "      <td>71.333333</td>\n",
              "      <td>NaN</td>\n",
              "      <td>74.750000</td>\n",
              "      <td>NaN</td>\n",
              "      <td>76.600000</td>\n",
              "      <td>82.0</td>\n",
              "      <td>73.750000</td>\n",
              "    </tr>\n",
              "    <tr>\n",
              "      <th>3</th>\n",
              "      <td>Andorra</td>\n",
              "      <td>NaN</td>\n",
              "      <td>NaN</td>\n",
              "      <td>64.000000</td>\n",
              "      <td>NaN</td>\n",
              "      <td>NaN</td>\n",
              "      <td>NaN</td>\n",
              "      <td>NaN</td>\n",
              "      <td>None</td>\n",
              "      <td>NaN</td>\n",
              "      <td>NaN</td>\n",
              "      <td>NaN</td>\n",
              "      <td>NaN</td>\n",
              "      <td>NaN</td>\n",
              "      <td>NaN</td>\n",
              "      <td>NaN</td>\n",
              "      <td>NaN</td>\n",
              "      <td>NaN</td>\n",
              "      <td>None</td>\n",
              "      <td>NaN</td>\n",
              "      <td>NaN</td>\n",
              "      <td>NaN</td>\n",
              "      <td>NaN</td>\n",
              "      <td>NaN</td>\n",
              "      <td>NaN</td>\n",
              "      <td>NaN</td>\n",
              "      <td>NaN</td>\n",
              "      <td>NaN</td>\n",
              "      <td>NaN</td>\n",
              "    </tr>\n",
              "    <tr>\n",
              "      <th>4</th>\n",
              "      <td>Angola</td>\n",
              "      <td>NaN</td>\n",
              "      <td>NaN</td>\n",
              "      <td>79.000000</td>\n",
              "      <td>NaN</td>\n",
              "      <td>NaN</td>\n",
              "      <td>NaN</td>\n",
              "      <td>NaN</td>\n",
              "      <td>None</td>\n",
              "      <td>75.000000</td>\n",
              "      <td>72.000000</td>\n",
              "      <td>NaN</td>\n",
              "      <td>NaN</td>\n",
              "      <td>NaN</td>\n",
              "      <td>72.000000</td>\n",
              "      <td>NaN</td>\n",
              "      <td>70.500000</td>\n",
              "      <td>NaN</td>\n",
              "      <td>None</td>\n",
              "      <td>NaN</td>\n",
              "      <td>65.000000</td>\n",
              "      <td>NaN</td>\n",
              "      <td>NaN</td>\n",
              "      <td>NaN</td>\n",
              "      <td>68.000000</td>\n",
              "      <td>66.000000</td>\n",
              "      <td>NaN</td>\n",
              "      <td>NaN</td>\n",
              "      <td>75.666667</td>\n",
              "    </tr>\n",
              "    <tr>\n",
              "      <th>5</th>\n",
              "      <td>Antigua &amp; Barbuda</td>\n",
              "      <td>NaN</td>\n",
              "      <td>NaN</td>\n",
              "      <td>NaN</td>\n",
              "      <td>NaN</td>\n",
              "      <td>NaN</td>\n",
              "      <td>NaN</td>\n",
              "      <td>NaN</td>\n",
              "      <td>None</td>\n",
              "      <td>NaN</td>\n",
              "      <td>NaN</td>\n",
              "      <td>NaN</td>\n",
              "      <td>NaN</td>\n",
              "      <td>NaN</td>\n",
              "      <td>65.000000</td>\n",
              "      <td>NaN</td>\n",
              "      <td>NaN</td>\n",
              "      <td>NaN</td>\n",
              "      <td>None</td>\n",
              "      <td>71.500000</td>\n",
              "      <td>NaN</td>\n",
              "      <td>NaN</td>\n",
              "      <td>NaN</td>\n",
              "      <td>NaN</td>\n",
              "      <td>NaN</td>\n",
              "      <td>NaN</td>\n",
              "      <td>NaN</td>\n",
              "      <td>NaN</td>\n",
              "      <td>63.000000</td>\n",
              "    </tr>\n",
              "    <tr>\n",
              "      <th>6</th>\n",
              "      <td>Argentina</td>\n",
              "      <td>70.0</td>\n",
              "      <td>74.782609</td>\n",
              "      <td>72.858586</td>\n",
              "      <td>72.763636</td>\n",
              "      <td>79.0</td>\n",
              "      <td>73.086957</td>\n",
              "      <td>71.762887</td>\n",
              "      <td>None</td>\n",
              "      <td>72.220339</td>\n",
              "      <td>73.914286</td>\n",
              "      <td>74.520000</td>\n",
              "      <td>73.375000</td>\n",
              "      <td>82.0</td>\n",
              "      <td>74.406250</td>\n",
              "      <td>75.230769</td>\n",
              "      <td>75.185185</td>\n",
              "      <td>75.75</td>\n",
              "      <td>None</td>\n",
              "      <td>71.980000</td>\n",
              "      <td>73.054054</td>\n",
              "      <td>72.944444</td>\n",
              "      <td>73.500000</td>\n",
              "      <td>87.0</td>\n",
              "      <td>73.274194</td>\n",
              "      <td>73.800000</td>\n",
              "      <td>73.206897</td>\n",
              "      <td>72.0</td>\n",
              "      <td>72.928000</td>\n",
              "    </tr>\n",
              "    <tr>\n",
              "      <th>7</th>\n",
              "      <td>Armenia</td>\n",
              "      <td>NaN</td>\n",
              "      <td>NaN</td>\n",
              "      <td>NaN</td>\n",
              "      <td>NaN</td>\n",
              "      <td>NaN</td>\n",
              "      <td>NaN</td>\n",
              "      <td>NaN</td>\n",
              "      <td>None</td>\n",
              "      <td>NaN</td>\n",
              "      <td>NaN</td>\n",
              "      <td>NaN</td>\n",
              "      <td>NaN</td>\n",
              "      <td>NaN</td>\n",
              "      <td>69.500000</td>\n",
              "      <td>73.000000</td>\n",
              "      <td>NaN</td>\n",
              "      <td>NaN</td>\n",
              "      <td>None</td>\n",
              "      <td>72.000000</td>\n",
              "      <td>NaN</td>\n",
              "      <td>NaN</td>\n",
              "      <td>NaN</td>\n",
              "      <td>NaN</td>\n",
              "      <td>83.000000</td>\n",
              "      <td>NaN</td>\n",
              "      <td>70.500000</td>\n",
              "      <td>NaN</td>\n",
              "      <td>70.000000</td>\n",
              "    </tr>\n",
              "    <tr>\n",
              "      <th>8</th>\n",
              "      <td>Australia</td>\n",
              "      <td>NaN</td>\n",
              "      <td>71.250000</td>\n",
              "      <td>69.095238</td>\n",
              "      <td>66.812500</td>\n",
              "      <td>NaN</td>\n",
              "      <td>67.714286</td>\n",
              "      <td>67.000000</td>\n",
              "      <td>None</td>\n",
              "      <td>68.285714</td>\n",
              "      <td>67.600000</td>\n",
              "      <td>70.000000</td>\n",
              "      <td>70.500000</td>\n",
              "      <td>NaN</td>\n",
              "      <td>69.545455</td>\n",
              "      <td>64.000000</td>\n",
              "      <td>66.444444</td>\n",
              "      <td>71.00</td>\n",
              "      <td>None</td>\n",
              "      <td>66.214286</td>\n",
              "      <td>69.500000</td>\n",
              "      <td>72.500000</td>\n",
              "      <td>77.000000</td>\n",
              "      <td>NaN</td>\n",
              "      <td>70.538462</td>\n",
              "      <td>66.500000</td>\n",
              "      <td>68.600000</td>\n",
              "      <td>66.0</td>\n",
              "      <td>67.440000</td>\n",
              "    </tr>\n",
              "    <tr>\n",
              "      <th>9</th>\n",
              "      <td>Austria</td>\n",
              "      <td>64.0</td>\n",
              "      <td>73.166667</td>\n",
              "      <td>70.281250</td>\n",
              "      <td>69.631579</td>\n",
              "      <td>68.0</td>\n",
              "      <td>68.705882</td>\n",
              "      <td>68.159091</td>\n",
              "      <td>None</td>\n",
              "      <td>69.470588</td>\n",
              "      <td>71.583333</td>\n",
              "      <td>72.444444</td>\n",
              "      <td>75.500000</td>\n",
              "      <td>NaN</td>\n",
              "      <td>69.294118</td>\n",
              "      <td>82.000000</td>\n",
              "      <td>72.333333</td>\n",
              "      <td>69.00</td>\n",
              "      <td>None</td>\n",
              "      <td>69.090909</td>\n",
              "      <td>70.090909</td>\n",
              "      <td>69.600000</td>\n",
              "      <td>72.857143</td>\n",
              "      <td>66.0</td>\n",
              "      <td>70.304348</td>\n",
              "      <td>70.666667</td>\n",
              "      <td>71.000000</td>\n",
              "      <td>66.0</td>\n",
              "      <td>68.629630</td>\n",
              "    </tr>\n",
              "  </tbody>\n",
              "</table>\n",
              "</div>"
            ],
            "text/plain": [
              "         Nationality  null        CAM  ...         RW   RWB         ST\n",
              "0        Afghanistan   NaN  66.000000  ...        NaN   NaN        NaN\n",
              "1            Albania  70.0  70.750000  ...  72.500000   NaN  72.250000\n",
              "2            Algeria   NaN  74.250000  ...  76.600000  82.0  73.750000\n",
              "3            Andorra   NaN        NaN  ...        NaN   NaN        NaN\n",
              "4             Angola   NaN        NaN  ...        NaN   NaN  75.666667\n",
              "5  Antigua & Barbuda   NaN        NaN  ...        NaN   NaN  63.000000\n",
              "6          Argentina  70.0  74.782609  ...  73.206897  72.0  72.928000\n",
              "7            Armenia   NaN        NaN  ...  70.500000   NaN  70.000000\n",
              "8          Australia   NaN  71.250000  ...  68.600000  66.0  67.440000\n",
              "9            Austria  64.0  73.166667  ...  71.000000  66.0  68.629630\n",
              "\n",
              "[10 rows x 29 columns]"
            ]
          },
          "metadata": {
            "tags": []
          },
          "execution_count": 12
        }
      ]
    },
    {
      "cell_type": "code",
      "metadata": {
        "id": "1phwHssRWQfO",
        "colab_type": "code",
        "outputId": "c40a2c28-6134-4720-9340-eaa3aa8dc43f",
        "colab": {
          "base_uri": "https://localhost:8080/",
          "height": 138
        }
      },
      "source": [
        "# Identify the position having highest Avg Potential for Australia\n",
        "df.filter(df['Nationality'] == 'Australia').groupby('Nationality', 'Position').agg(\n",
        "    F.avg('Potential')).sort('avg(Potential)', ascending=False).show(1)"
      ],
      "execution_count": 0,
      "outputs": [
        {
          "output_type": "stream",
          "text": [
            "+-----------+--------+--------------+\n",
            "|Nationality|Position|avg(Potential)|\n",
            "+-----------+--------+--------------+\n",
            "|  Australia|     RDM|          77.0|\n",
            "+-----------+--------+--------------+\n",
            "only showing top 1 row\n",
            "\n"
          ],
          "name": "stdout"
        }
      ]
    },
    {
      "cell_type": "markdown",
      "metadata": {
        "colab_type": "text",
        "id": "lGWtR6Ast7o8"
      },
      "source": [
        "Interesting, is there a age that the player is fully released his potential? If there is, could you find out?\n",
        "\n",
        "****\n",
        "\n",
        "<div class=\"alert alert-block alert-info\">\n",
        "\n",
        "**Code**: \n",
        "    You are required to plot the finding visually by having Age as the x-axis and avg potential on age with avg overall on age at y-axis. (Hint: you may need to select and aggregate on data first and then turn it into pandas for plotting)\n",
        "\n",
        "<div class=\"alert alert-block alert-warning\">\n",
        "    \n",
        "**Report**: \n",
        "    **1.1.C** Please include the following plot into your report with proper section title  '1.1.C':     \n",
        "    <ol>\n",
        "        <li> Plot the finding visually by having Age as the x-axis; the avg potential on age and the avg overall on age at y-axis. </li>\n",
        "        <li> Find the age when the players are fully released their potential in general?\n",
        "    </ol>\n",
        "    \n",
        "</div>\n",
        "</div>"
      ]
    },
    {
      "cell_type": "code",
      "metadata": {
        "colab_type": "code",
        "id": "mRvkk376u-dE",
        "outputId": "129c6b87-7ea6-4aff-b887-2aa53f569c64",
        "colab": {
          "base_uri": "https://localhost:8080/",
          "height": 294
        }
      },
      "source": [
        "import matplotlib.pyplot as plt\n",
        "import numpy as np\n",
        "import pandas as pd\n",
        "\n",
        "# Aggregate average Potential & average Overall by Age and put in pandas DF\n",
        "data = df.groupby('Age').agg(F.avg('Potential'),\n",
        "                             F.avg('Overall')).sort('Age').toPandas()\n",
        "# Plot Titles and Labels\n",
        "fig, ax = plt.subplots()\n",
        "ax.set_title('Avg Potential & Avg Overall by Age')\n",
        "ax.set_xlabel('Age')\n",
        "ax.set_ylabel('Average Potential / Overall')\n",
        "\n",
        "# Plot Avg Potential & Overall\n",
        "ax.plot(data['Age'], data['avg(Potential)'],\n",
        "        label='Avg Potential')\n",
        "ax.plot(data['Age'], data['avg(Overall)'],\n",
        "        label='Avg Overall')\n",
        "ax.legend(loc=8) \n",
        "plt.show()"
      ],
      "execution_count": 0,
      "outputs": [
        {
          "output_type": "display_data",
          "data": {
            "image/png": "[encoded data removed]",
            "text/plain": [
              "<Figure size 432x288 with 1 Axes>"
            ]
          },
          "metadata": {
            "tags": [],
            "needs_background": "light"
          }
        }
      ]
    },
    {
      "cell_type": "code",
      "metadata": {
        "id": "yCessBaiaF6b",
        "colab_type": "code",
        "colab": {
          "base_uri": "https://localhost:8080/",
          "height": 1000
        },
        "outputId": "594cf8fb-cbc7-4329-f006-3c2e44485574"
      },
      "source": [
        "# Code for additional findings and observations from dataset (Part 4)\n",
        "\n",
        "# Top 10 countries with highest avg Overall\n",
        "df.groupby('Nationality','Name').agg(F.max('Overall')).sort(\n",
        "    'max(Overall)', ascending=False).show(10)\n",
        "\n",
        "df.groupby('Nationality','Name').agg(F.max('Potential')).sort(\n",
        "    'max(Potential)', ascending=False).show(10)\n",
        "\n",
        "df.groupby('Nationality','Name').agg(F.min('Overall')).sort(\n",
        "    'min(Overall)', ascending=True).show(10)\n",
        "\n",
        "df.groupby('Nationality','Name').agg(F.min('Potential')).sort(\n",
        "    'min(Potential)', ascending=True).show(10)"
      ],
      "execution_count": 40,
      "outputs": [
        {
          "output_type": "stream",
          "text": [
            "+-----------+-----------------+------------+\n",
            "|Nationality|             Name|max(Overall)|\n",
            "+-----------+-----------------+------------+\n",
            "|   Portugal|Cristiano Ronaldo|          94|\n",
            "|  Argentina|         L. Messi|          94|\n",
            "|     Brazil|        Neymar Jr|          92|\n",
            "|      Spain|     Sergio Ramos|          91|\n",
            "|    Croatia|        L. Modri?|          91|\n",
            "|    Belgium|        E. Hazard|          91|\n",
            "|    Belgium|     K. De Bruyne|          91|\n",
            "|      Spain|           De Gea|          91|\n",
            "|    Uruguay|       L. Su��rez|          91|\n",
            "|     Poland|   R. Lewandowski|          90|\n",
            "+-----------+-----------------+------------+\n",
            "only showing top 10 rows\n",
            "\n",
            "+-----------+-----------------+--------------+\n",
            "|Nationality|             Name|max(Potential)|\n",
            "+-----------+-----------------+--------------+\n",
            "|     France|       K. Mbapp��|            95|\n",
            "|  Argentina|        P. Dybala|            94|\n",
            "|   Portugal|Cristiano Ronaldo|            94|\n",
            "|  Argentina|         L. Messi|            94|\n",
            "|      Italy|    G. Donnarumma|            93|\n",
            "|   Slovenia|         J. Oblak|            93|\n",
            "|     Brazil|        Neymar Jr|            93|\n",
            "|      Spain|           De Gea|            93|\n",
            "|     France|     O. Demb��l��|            92|\n",
            "|    Germany|    M. ter Stegen|            92|\n",
            "+-----------+-----------------+--------------+\n",
            "only showing top 10 rows\n",
            "\n",
            "+-------------------+--------------------+------------+\n",
            "|        Nationality|                Name|min(Overall)|\n",
            "+-------------------+--------------------+------------+\n",
            "|            England|           G. Nugent|          46|\n",
            "|           China PR|        Zhang Yufeng|          47|\n",
            "|            England|J. Norville-Williams|          47|\n",
            "|Republic of Ireland|            D. Walsh|          47|\n",
            "|             Canada|        M. Baldisimo|          47|\n",
            "|            England|           B. Worman|          47|\n",
            "|            England|           S. Squire|          47|\n",
            "|            England|        J. Lundstram|          47|\n",
            "|              Wales|          L. Collins|          47|\n",
            "|            Germany|           C. Ehlich|          47|\n",
            "+-------------------+--------------------+------------+\n",
            "only showing top 10 rows\n",
            "\n",
            "+------------+-------------+--------------+\n",
            "| Nationality|         Name|min(Potential)|\n",
            "+------------+-------------+--------------+\n",
            "|     England|K. Pilkington|            48|\n",
            "|       Japan|  Y. Uchimura|            48|\n",
            "|      Poland|  J. Miszczuk|            50|\n",
            "|       Japan|    A. Suzuki|            50|\n",
            "|    China PR|Wang Xuanhong|            51|\n",
            "|    China PR|Teng Shangkun|            51|\n",
            "|       Japan|     N. Hatta|            52|\n",
            "|      Sweden|     P. Azizi|            52|\n",
            "|Saudi Arabia|   M. Mansour|            52|\n",
            "|    China PR|    Xue Yanan|            52|\n",
            "+------------+-------------+--------------+\n",
            "only showing top 10 rows\n",
            "\n"
          ],
          "name": "stdout"
        }
      ]
    },
    {
      "cell_type": "markdown",
      "metadata": {
        "colab_type": "text",
        "id": "gMqIOge42NI7"
      },
      "source": [
        "## Part 2 - Unsupervised Learning: Kmeans\n",
        "\n",
        "<a id=\"kmeans\"></a>\n",
        "***\n",
        "\n",
        "In this part, you are required to build a Kmeans clustering for exploring the player segmentation. \n",
        "\n",
        "\n",
        "### 2.1 Data Preparation\n",
        "\n",
        "*Remind: You must only use **pyspark** to complete the following data processing and model building. Otherwise, you lose all marks.*"
      ]
    },
    {
      "cell_type": "markdown",
      "metadata": {
        "colab_type": "text",
        "id": "eHi1rU4p-6wK"
      },
      "source": [
        "\n",
        "****\n",
        "\n",
        "<div class=\"alert alert-block alert-info\">\n",
        "\n",
        "**Code**: \n",
        "    You will need to remove the Goal Keepers (Position = 'GK') and use the position attribute, ID attribute (for later processing) and skill-set attributes (Height(CM),\n",
        "Weight(KG),\n",
        "Crossing,\n",
        "Finishing,\n",
        "HeadingAccuracy,\n",
        "ShortPassing,\n",
        "Volleys,\n",
        "Dribbling,\n",
        "Curve,\n",
        "FKAccuracy,\n",
        "LongPassing,\n",
        "BallControl,\n",
        "Acceleration,\n",
        "SprintSpeed,\n",
        "Agility,\n",
        "Reactions,\n",
        "Balance,\n",
        "ShotPower,\n",
        "Jumping,\n",
        "Stamina,\n",
        "Strength,\n",
        "LongShots,\n",
        "Aggression,\n",
        "Interceptions,\n",
        "Positioning,\n",
        "Vision,\n",
        "Penalties,\n",
        "Composure,\n",
        "Marking,\n",
        "StandingTackle,\n",
        "SlidingTackle) \n",
        "\n",
        "</div>\n",
        "\n"
      ]
    },
    {
      "cell_type": "code",
      "metadata": {
        "colab_type": "code",
        "id": "X2LHjTMv3w_7",
        "colab": {}
      },
      "source": [
        "# Select relevant features and filter the data by removing the GK\n",
        "\n",
        "# remove Goal Keepers\n",
        "df = df.filter(df.Position != 'GK')\n",
        "\n",
        "# Keep only columns specified above\n",
        "df = df.select('ID', 'Position', 'Height(CM)', 'Weight(KG)', 'Crossing', 'Finishing',\n",
        "               'HeadingAccuracy', 'ShortPassing', 'Volleys', 'Dribbling', 'Curve',\n",
        "               'FKAccuracy', 'LongPassing', 'BallControl', 'Acceleration', 'SprintSpeed',\n",
        "               'Agility', 'Reactions', 'Balance', 'ShotPower', 'Jumping', 'Stamina',\n",
        "               'Strength', 'LongShots', 'Aggression', 'Interceptions', 'Positioning',\n",
        "               'Vision', 'Penalties', 'Composure', 'Marking', 'StandingTackle', 'SlidingTackle')"
      ],
      "execution_count": 0,
      "outputs": []
    },
    {
      "cell_type": "markdown",
      "metadata": {
        "colab_type": "text",
        "id": "kVLBzBId9iCk"
      },
      "source": [
        "To make the later stage easier, we define the position group by using the position feature (attributes on Position).\n",
        "- DEF = [LB,LWB,RB,LCB,RCB,CB,RWB] ,\n",
        "- FWD = [RF,LF,LW,RS,RW,LS,CF,ST] ,\n",
        "- MID = [LCM,LM,RDM,CAM,RAM,RCM,CM,CDM,RM,LAM,LDM]\n",
        "\n",
        "****\n",
        "\n",
        "<div class=\"alert alert-block alert-info\">\n",
        "\n",
        "**Code**: \n",
        "    You are required to create a new column called Position_Group with only DEF/FWD/MID in the dataframe you created in previous question\n",
        "\n",
        "</div>\n",
        "\n",
        "</div>"
      ]
    },
    {
      "cell_type": "code",
      "metadata": {
        "colab_type": "code",
        "id": "X4N6edcq5kE_",
        "colab": {}
      },
      "source": [
        "from pyspark.sql.functions import when, col\n",
        "\n",
        "# Lists of positions for DEF, FWD, MID\n",
        "DEF = ['LB', 'LWB', 'RB', 'LCB', 'RCB', 'CB', 'RWB']\n",
        "FWD = ['RF', 'LF', 'LW', 'RS', 'RW', 'LS', 'CF', 'ST']\n",
        "MID = ['LCM', 'LM', 'RDM', 'CAM', 'RAM',\n",
        "       'RCM', 'CM', 'CDM', 'RM', 'LAM', 'LDM']\n",
        "\n",
        "# Create df_kmeans_new Spark DF with new column of Position_Group based on Positions\n",
        "df_kmeans_new = df.withColumn('Position_Group', when(col('Position').isin(DEF), 'DEF').when(\n",
        "    col('Position').isin(FWD), 'FWD').when(col('Position').isin(MID), 'MID').otherwise(0))"
      ],
      "execution_count": 0,
      "outputs": []
    },
    {
      "cell_type": "markdown",
      "metadata": {
        "colab_type": "text",
        "id": "R-NyFp7IBtGZ"
      },
      "source": [
        "Now, we remove the Position_Group and Position to create the feature for Kmeans\n",
        "\n",
        "\n"
      ]
    },
    {
      "cell_type": "code",
      "metadata": {
        "colab_type": "code",
        "id": "2x_o_w54B-mN",
        "outputId": "73ea5ed9-fde7-466c-a14c-101b94bec6eb",
        "colab": {
          "base_uri": "https://localhost:8080/",
          "height": 173
        }
      },
      "source": [
        "from pyspark.ml.clustering import KMeans\n",
        "from pyspark.ml.feature import VectorAssembler\n",
        "\n",
        "# Define Features\n",
        "FEATURES_COL = ['Height(CM)', 'Weight(KG)',\n",
        "                'Crossing', 'Finishing', 'HeadingAccuracy',\n",
        "                'ShortPassing', 'Volleys', 'Dribbling', 'Curve',\n",
        "                'FKAccuracy', 'LongPassing', 'BallControl',\n",
        "                'Acceleration', 'SprintSpeed', 'Agility',\n",
        "                'Reactions', 'Balance', 'ShotPower', 'Jumping',\n",
        "                'Stamina', 'Strength', 'LongShots', 'Aggression',\n",
        "                'Interceptions', 'Positioning', 'Vision', 'Penalties',\n",
        "                'Composure', 'Marking', 'StandingTackle', 'SlidingTackle']\n",
        "\n",
        "# Set columns to float values (numeric) for Vec Assembler to vectorize\n",
        "for i in df_kmeans_new.columns:\n",
        "    if i in FEATURES_COL:\n",
        "        df_kmeans_new = df_kmeans_new.withColumn(\n",
        "            i, df_kmeans_new[i].cast('float'))\n",
        "\n",
        "# Create vectors for K-Means\n",
        "vecAssembler = VectorAssembler(inputCols=FEATURES_COL, outputCol='features')\n",
        "df_kmeans_ = vecAssembler.transform(df_kmeans_new).select('ID', 'features')\n",
        "df_kmeans_.show(3)"
      ],
      "execution_count": 0,
      "outputs": [
        {
          "output_type": "stream",
          "text": [
            "+------+--------------------+\n",
            "|    ID|            features|\n",
            "+------+--------------------+\n",
            "|158023|[173.735992431640...|\n",
            "| 20801|[188.975997924804...|\n",
            "|190871|[179.832000732421...|\n",
            "+------+--------------------+\n",
            "only showing top 3 rows\n",
            "\n"
          ],
          "name": "stdout"
        }
      ]
    },
    {
      "cell_type": "markdown",
      "metadata": {
        "colab_type": "text",
        "id": "UniVGeYIDa_k"
      },
      "source": [
        "Now in order to evaluate your Kmeans Model, please plot the elbow plot\n",
        "\n",
        "\n",
        "<div class=\"alert alert-block alert-info\">\n",
        "\n",
        "**Code**: \n",
        "    You are required to plot the elbow plot, with a varying K from 2 to 20.\n",
        "\n",
        "<div class=\"alert alert-block alert-warning\">\n",
        "    \n",
        "**Report**: \n",
        "    **2.1** In your report with proper section title  '2.1', Please include the elbow plot. \n",
        "\n",
        "</div>\n",
        "</div>\n",
        "\n"
      ]
    },
    {
      "cell_type": "code",
      "metadata": {
        "colab_type": "code",
        "id": "UDia7JYyDLhg",
        "colab": {}
      },
      "source": [
        "from pyspark.ml.feature import StandardScaler\n",
        "\n",
        "# Scale features\n",
        "standardscaler = StandardScaler().setInputCol(\n",
        "    'features').setOutputCol('Scaled_features')\n",
        "df_kmeans_ = standardscaler.fit(df_kmeans_).transform(df_kmeans_)\n",
        "\n",
        "# K-Means Clustering with K 2 to 20\n",
        "cost = np.zeros(20)\n",
        "for k in range(2, 20):\n",
        "    kmeans = KMeans(featuresCol='Scaled_features').setK(\n",
        "        k).setSeed(1) \n",
        "    model = kmeans.fit(df_kmeans_)  \n",
        "    cost[k] = model.computeCost(df_kmeans_)"
      ],
      "execution_count": 0,
      "outputs": []
    },
    {
      "cell_type": "code",
      "metadata": {
        "colab_type": "code",
        "id": "Mr-bSnj5EA1l",
        "outputId": "f346dcf0-b6b3-4fc5-d38b-156f1384b2f6",
        "colab": {
          "base_uri": "https://localhost:8080/",
          "height": 408
        }
      },
      "source": [
        "fig, ax = plt.subplots(1,1, figsize =(8,6))\n",
        "ax.set_xlabel('k')\n",
        "ax.set_ylabel('cost')\n",
        "\n",
        "# Elbow Plot\n",
        "k = np.arange(2, 20)  \n",
        "ax.set_xticks(k)\n",
        "ax.grid(which='both')\n",
        "ax.set_title('K Means || Elbow Plot', pad=10)\n",
        "ax.plot(k, cost[2:])  \n",
        "plt.show()"
      ],
      "execution_count": 0,
      "outputs": [
        {
          "output_type": "display_data",
          "data": {
            "image/png": "[encoded data removed]",
            "text/plain": [
              "<Figure size 576x432 with 1 Axes>"
            ]
          },
          "metadata": {
            "tags": [],
            "needs_background": "light"
          }
        }
      ]
    },
    {
      "cell_type": "markdown",
      "metadata": {
        "colab_type": "text",
        "id": "XupecQFHE5Za"
      },
      "source": [
        "\n",
        "### 2.2 K-Means\n",
        "\n",
        "Could you tell out the optimized K value? \n",
        "\n",
        "\n",
        "\n",
        "\n",
        "****\n",
        "\n",
        "<div class=\"alert alert-block alert-info\">\n",
        "\n",
        "**Code**: \n",
        "    You are required to choose a K value as 8 and then summarize each cluster with the count on each Position_Group.\n",
        "\n",
        "<div class=\"alert alert-block alert-warning\">\n",
        "    \n",
        "**Report**: \n",
        "    **2.2** In your report with proper section title  '2.2', Please summarize the following:     \n",
        "    <ol>\n",
        "        <li> What you could find from those clusters (by cluster central point)? </li>\n",
        "        <li> Is there relationship between Position_Group and a particular Cluster?</li>\n",
        "    </ol>\n",
        "\n",
        "</div>\n",
        "</div>\n",
        "\n",
        "\n"
      ]
    },
    {
      "cell_type": "code",
      "metadata": {
        "colab_type": "code",
        "id": "LxSOxcowE6vB",
        "outputId": "e183554a-3f3f-43c3-d60f-ab01f3d1187e",
        "colab": {
          "base_uri": "https://localhost:8080/",
          "height": 866
        }
      },
      "source": [
        "k = 8\n",
        "\n",
        "# Fit Model with 8 clusters\n",
        "kmeans = KMeans(featuresCol='Scaled_features', predictionCol='Cluster').setK(\n",
        "    k).setSeed(1)\n",
        "model = kmeans.fit(df_kmeans_)\n",
        "\n",
        "# What could you find from those clusters (by cluster central point)?\n",
        "centers = model.clusterCenters()\n",
        "print(\"Cluster Centers: \")\n",
        "for center in centers:\n",
        "    print(center)"
      ],
      "execution_count": 0,
      "outputs": [
        {
          "output_type": "stream",
          "text": [
            "Cluster Centers: \n",
            "[12.86817693 11.10200496  4.75045229  3.47131848  5.21152748  7.45324199\n",
            "  3.80203258  5.5662137   4.32122781  4.02309394  5.60643378  7.21997529\n",
            "  5.85572486  5.9479587   5.72218948  8.0395043   5.75212153  5.36083933\n",
            "  5.95641577  6.80751896  5.5032507   4.16079647  4.92899645  3.61475673\n",
            "  4.3975886   5.26081126  4.71931267  6.88239164  3.81542869  3.56799591\n",
            "  3.41664946]\n",
            "[13.19219167 11.15119981  2.7751417   1.63113835  4.69631607  4.96402374\n",
            "  1.92760151  3.3905916   2.09627508  1.99977915  3.30114233  4.67952342\n",
            "  5.32841783  5.46979216  4.52897027  6.07052366  5.0499447   2.97660585\n",
            "  5.85469687  5.50629298  5.17204855  1.77350253  3.94175807  2.958681\n",
            "  2.38433536  2.83590093  3.01466215  4.66274647  3.28016779  3.12511817\n",
            "  3.03965981]\n",
            "[13.57640723 11.7261205   3.71054839  2.3623914   5.69181798  6.66538265\n",
            "  2.57895216  4.46900508  2.98049142  2.74614296  4.96612332  6.22862836\n",
            "  5.26107967  5.52658028  4.86743257  7.44254682  4.85112185  4.36075667\n",
            "  6.19768541  6.35445843  6.03688544  2.90927386  4.94280257  3.60087276\n",
            "  3.13088539  4.06147675  3.66125478  6.24425001  3.89154153  3.62220781\n",
            "  3.50421476]\n",
            "[12.6204325  10.62003561  4.04163462  2.66002041  4.43354754  6.46397077\n",
            "  2.7344309   4.86894649  3.29388973  2.92932496  4.70092145  6.2368493\n",
            "  6.02201462  6.13852777  5.6143285   6.82653739  5.83948104  4.12609939\n",
            "  5.66164224  6.26750014  4.8926504   3.00097622  4.20908368  3.06449307\n",
            "  3.65106497  4.25724783  3.69137352  5.58537195  3.31952598  3.1360313\n",
            "  3.04578245]\n",
            "[12.69456358 10.58346028  4.66361691  4.05473701  4.57253973  7.06002168\n",
            "  4.20130701  5.86684419  4.41960482  4.07135673  5.00604861  7.24364784\n",
            "  6.65302593  6.69288877  6.39173094  7.70726689  6.25178542  5.2750976\n",
            "  5.5691401   6.15177103  4.71302973  4.20836853  3.6856548   1.96835904\n",
            "  4.6711133   5.2413268   5.0337731   6.6414502   2.2253662   1.88126453\n",
            "  1.71267164]\n",
            "[14.09097917 12.3656365   2.56545934  1.74024793  5.90321097  5.86486554\n",
            "  2.01431781  3.24543012  2.155054    2.14316641  4.20125353  5.26724459\n",
            "  4.14958324  4.45977067  3.70758826  7.04333264  3.85273504  3.7401219\n",
            "  5.66769342  5.53510829  6.41011903  2.02887188  4.81664275  3.49921548\n",
            "  2.1370902   3.01764485  3.18276355  5.89052166  3.85009279  3.57931901\n",
            "  3.41885317]\n",
            "[12.73121683 10.42755279  3.47082804  3.4028679   3.98893035  5.70304066\n",
            "  3.17887255  4.87418125  3.18068436  2.75423744  3.81924533  5.97447487\n",
            "  6.15200302  6.23589072  5.63160892  6.06202646  5.88889322  4.30583693\n",
            "  5.0834557   5.10569261  4.17171394  3.18019935  2.77141511  1.35680249\n",
            "  3.75677336  4.08829797  4.3172218   5.15424401  1.81455366  1.46691229\n",
            "  1.43141992]\n",
            "[13.60328968 11.91853417  3.32596359  4.15867055  5.83338441  6.08027401\n",
            "  4.09080015  5.07153898  3.38253353  2.91913588  3.66408554  6.53609728\n",
            "  5.59986112  5.91894336  5.15011754  7.24946995  4.83467256  5.22377877\n",
            "  5.98931023  5.86773735  6.02752988  3.87020825  3.97198198  1.43719148\n",
            "  4.61302655  4.31620711  5.11414682  6.15207578  1.75714966  1.36733653\n",
            "  1.20224607]\n"
          ],
          "name": "stdout"
        }
      ]
    },
    {
      "cell_type": "code",
      "metadata": {
        "colab_type": "code",
        "id": "AkWZ5-6oFlpp",
        "outputId": "be1c7aeb-e833-4807-a4b7-60005794c19f",
        "colab": {
          "base_uri": "https://localhost:8080/",
          "height": 537
        }
      },
      "source": [
        "from pyspark.sql import SQLContext\n",
        "\n",
        "# Assign cluster to each Id and extract prediction\n",
        "transformed = model.transform(df_kmeans_).select('id', 'Cluster')\n",
        "\n",
        "# Join cluster predictions back to original dataset\n",
        "df_kmeans_pred_ = df_kmeans_new.join(\n",
        "    transformed, on=['ID'])\n",
        "\n",
        "# Cluster Result in DF for plot\n",
        "df_cluster_result = df_kmeans_pred_.toPandas().set_index('ID')\n",
        "\n",
        "# Plot Results\n",
        "ax = (pd.crosstab(df_cluster_result['Cluster'],\n",
        "                  df_cluster_result['Position_Group'],\n",
        "                  normalize='index')*100).round(1).plot.bar(stacked=True, figsize=(15, 8))\n",
        "plt.title('Position Groups by Cluster \\n [100% Stacked]', pad=15)\n",
        "plt.ylabel('Percentage')\n",
        "plt.xticks(rotation=0)\n",
        "\n",
        "# Annotate Percentages\n",
        "for p in ax.patches:\n",
        "    width, height = p.get_width(), p.get_height()\n",
        "    x, y = p.get_xy()\n",
        "    ax.text(x + width/2,\n",
        "            y + height/2,\n",
        "            '{:.0f}%'.format(height),\n",
        "            horizontalalignment='center',\n",
        "            verticalalignment='center', fontsize=12, color='white', weight='bold')\n",
        "plt.show()"
      ],
      "execution_count": 0,
      "outputs": [
        {
          "output_type": "display_data",
          "data": {
            "image/png": "[encoded data removed]",
            "text/plain": [
              "<Figure size 1080x576 with 1 Axes>"
            ]
          },
          "metadata": {
            "tags": [],
            "needs_background": "light"
          }
        }
      ]
    },
    {
      "cell_type": "markdown",
      "metadata": {
        "colab_type": "text",
        "id": "IiHEevY6IOJz"
      },
      "source": [
        "## Part 3 - Supervised Learning: Classification on Position_Group\n",
        "\n",
        "<a id=\"classification\"></a>\n",
        "***\n",
        "\n",
        "In last part, you use the player's skill set values to segment the players into 8 clusters. Now we want to see whether we could accurately predict the position_group of the player.\n",
        "\n",
        "*Remind: You must only use **PySpark** to complete the following data processing and model building. Otherwise, you lose all marks.*\n",
        "\n",
        "\n",
        "### 3.1 Data Preparation\n",
        "\n",
        "We remove the feature of position and only use the skill set features and the cluster results from Kmeans as the input (you need to create a column for your cluster results and name it as Cluster) for the model. Your target for classification is \"Position_Group\"."
      ]
    },
    {
      "cell_type": "code",
      "metadata": {
        "colab_type": "code",
        "id": "PwtsyrUsI8e_",
        "outputId": "68514821-ef54-43f1-cd64-7df2af600873",
        "colab": {
          "base_uri": "https://localhost:8080/",
          "height": 173
        }
      },
      "source": [
        "FEATURES_COL_ = ['Height(CM)', 'Weight(KG)', \n",
        "                      'Crossing', 'Finishing', 'HeadingAccuracy', \n",
        "                      'ShortPassing', 'Volleys', 'Dribbling', 'Curve',\n",
        "                      'FKAccuracy', 'LongPassing', 'BallControl', \n",
        "                      'Acceleration', 'SprintSpeed', 'Agility', \n",
        "                      'Reactions', 'Balance', 'ShotPower', 'Jumping', \n",
        "                      'Stamina', 'Strength', 'LongShots', 'Aggression', \n",
        "                      'Interceptions', 'Positioning', 'Vision', 'Penalties', \n",
        "                      'Composure', 'Marking', 'StandingTackle', 'SlidingTackle','Cluster']\n",
        "\n",
        "\n",
        "vecAssembler_ = VectorAssembler(inputCols=FEATURES_COL_, outputCol=\"features\")\n",
        "df_class_ = vecAssembler_.transform(df_kmeans_pred_).select('features','Position_Group')\n",
        "df_class_.show(3)"
      ],
      "execution_count": 0,
      "outputs": [
        {
          "output_type": "stream",
          "text": [
            "+--------------------+--------------+\n",
            "|            features|Position_Group|\n",
            "+--------------------+--------------+\n",
            "|[173.735992431640...|           FWD|\n",
            "|[188.975997924804...|           FWD|\n",
            "|[179.832000732421...|           FWD|\n",
            "+--------------------+--------------+\n",
            "only showing top 3 rows\n",
            "\n"
          ],
          "name": "stdout"
        }
      ]
    },
    {
      "cell_type": "markdown",
      "metadata": {
        "colab_type": "text",
        "id": "AklN81TvMKJS"
      },
      "source": [
        "In many data science modelling work, feature scaling is very important.\n",
        "In here, we use standard scaling on the features."
      ]
    },
    {
      "cell_type": "code",
      "metadata": {
        "colab_type": "code",
        "id": "pjQRAHOQMK6V",
        "outputId": "41dd45af-716a-4548-a40a-7ef870615a4c",
        "colab": {
          "base_uri": "https://localhost:8080/",
          "height": 208
        }
      },
      "source": [
        "from pyspark.ml.feature import StandardScaler\n",
        "\n",
        "standardscaler=StandardScaler().setInputCol(\"features\").setOutputCol(\"Scaled_features\")\n",
        "raw_data=standardscaler.fit(df_class_).transform(df_class_)\n",
        "raw_data.select(\"features\",\"Scaled_features\",'Position_Group').show(5)"
      ],
      "execution_count": 0,
      "outputs": [
        {
          "output_type": "stream",
          "text": [
            "+--------------------+--------------------+--------------+\n",
            "|            features|     Scaled_features|Position_Group|\n",
            "+--------------------+--------------------+--------------+\n",
            "|[173.735992431640...|[12.9261366722264...|           FWD|\n",
            "|[188.975997924804...|[14.0600087682323...|           FWD|\n",
            "|[179.832000732421...|[13.3796859647366...|           FWD|\n",
            "|[155.752807617187...|[11.5881692110224...|           MID|\n",
            "|[176.783996582031...|[13.1529113184815...|           FWD|\n",
            "+--------------------+--------------------+--------------+\n",
            "only showing top 5 rows\n",
            "\n"
          ],
          "name": "stdout"
        }
      ]
    },
    {
      "cell_type": "markdown",
      "metadata": {
        "colab_type": "text",
        "id": "DD6wgq2sgiGk"
      },
      "source": [
        "In Spark, you could not use string as Target data type, Please encode the Position_Group column by using following encoding: \n",
        "\n",
        "FWD = 0\n",
        "DEF = 1\n",
        "MID = 2\n",
        "\n",
        "*Hint: Data type after encoding should be numeric.*"
      ]
    },
    {
      "cell_type": "code",
      "metadata": {
        "colab_type": "code",
        "id": "OosmFX9iOc0Z",
        "colab": {}
      },
      "source": [
        "raw_data_ = raw_data.withColumn('Target',when(col(\"Position_Group\") == \"DEF\", 1)\n",
        "      .when(col(\"Position_Group\")== \"FWD\", 0)\n",
        "      .otherwise(2))"
      ],
      "execution_count": 0,
      "outputs": []
    },
    {
      "cell_type": "markdown",
      "metadata": {
        "colab_type": "text",
        "id": "NDfZARUNMW2M"
      },
      "source": [
        "### 3.2 Training Test Evaluation\n",
        "\n",
        "We remove the feature of position and use all other skill set features and the cluster results as the input for the model. The target for classification is \"Position_Group\".\n",
        "\n",
        "Now, we split your data into train/Test, and evaluate one model's performance."
      ]
    },
    {
      "cell_type": "code",
      "metadata": {
        "colab_type": "code",
        "id": "MmbanmwBMUQB",
        "colab": {}
      },
      "source": [
        "train, test = raw_data_.randomSplit([0.7, 0.3], seed=12)"
      ],
      "execution_count": 0,
      "outputs": []
    },
    {
      "cell_type": "code",
      "metadata": {
        "colab_type": "code",
        "id": "apoKm9igMi12",
        "outputId": "565a81ad-67d3-4968-ffe1-32599f66781e",
        "colab": {
          "base_uri": "https://localhost:8080/",
          "height": 294
        }
      },
      "source": [
        "from pyspark.ml.classification import LogisticRegression\n",
        "lr = LogisticRegression(labelCol=\"Target\", featuresCol=\"Scaled_features\",maxIter=10)\n",
        "model=lr.fit(train)\n",
        "\n",
        "predict_train=model.transform(train)\n",
        "predict_test=model.transform(test)\n",
        "predict_test.select(\"Target\",\"prediction\").show(10)"
      ],
      "execution_count": 0,
      "outputs": [
        {
          "output_type": "stream",
          "text": [
            "+------+----------+\n",
            "|Target|prediction|\n",
            "+------+----------+\n",
            "|     2|       2.0|\n",
            "|     2|       2.0|\n",
            "|     0|       2.0|\n",
            "|     2|       2.0|\n",
            "|     2|       2.0|\n",
            "|     2|       2.0|\n",
            "|     2|       2.0|\n",
            "|     1|       2.0|\n",
            "|     0|       0.0|\n",
            "|     2|       2.0|\n",
            "+------+----------+\n",
            "only showing top 10 rows\n",
            "\n"
          ],
          "name": "stdout"
        }
      ]
    },
    {
      "cell_type": "markdown",
      "metadata": {
        "colab_type": "text",
        "id": "wZk-Z7CcP6Ng"
      },
      "source": [
        "\n",
        "****\n",
        "\n",
        "\n",
        "<div class=\"alert alert-block alert-info\">\n",
        "\n",
        "**Code**: \n",
        "    You are required to evaluate the model by using confusion matrix. Please also print out your model's Precision, Recall and F1 score.\n",
        "\n",
        "<div class=\"alert alert-block alert-warning\">\n",
        "    \n",
        "**Report**: \n",
        "    **3.2** In your report with proper section title  '3.2', Please summarize the following:     \n",
        "    <ol>\n",
        "        <li> The confusion matrix </li>\n",
        "        <li> The Precision, Recall and F1 score</li>\n",
        "    </ol>\n",
        "</div>\n",
        "</div>\n",
        "\n",
        "\n"
      ]
    },
    {
      "cell_type": "code",
      "metadata": {
        "colab_type": "code",
        "id": "yPho8CbGQCCm",
        "outputId": "adaf4c09-c0ed-492b-c07e-c7e3ac26e2b8",
        "colab": {
          "base_uri": "https://localhost:8080/",
          "height": 354
        }
      },
      "source": [
        "from sklearn.metrics import confusion_matrix\n",
        "import seaborn as sns\n",
        "\n",
        "# Confusion Matrix & Confusion Matrix Data\n",
        "y_test = predict_test.select('Target').collect()  \n",
        "y_pred = predict_test.select('prediction').collect()  \n",
        "cm = confusion_matrix(y_test, y_pred)\n",
        "\n",
        "# Plot Confusion Matrix\n",
        "ax = plt.subplot()\n",
        "sns.heatmap(cm, annot=True, ax=ax, fmt='g')\n",
        "ax.set_xlabel('Prediction')\n",
        "ax.set_ylabel('Actual')\n",
        "ax.set_title('Confusion Matrix', pad=10, fontsize=14)\n",
        "labels = ['FWD', 'DEF', 'MID']\n",
        "ax.xaxis.set_ticklabels(labels)\n",
        "ax.yaxis.set_ticklabels(labels)\n",
        "plt.show()"
      ],
      "execution_count": 0,
      "outputs": [
        {
          "output_type": "stream",
          "text": [
            "/usr/local/lib/python3.6/dist-packages/statsmodels/tools/_testing.py:19: FutureWarning: pandas.util.testing is deprecated. Use the functions in the public API at pandas.testing instead.\n",
            "  import pandas.util.testing as tm\n"
          ],
          "name": "stderr"
        },
        {
          "output_type": "display_data",
          "data": {
            "image/png": "[encoded data removed]",
            "text/plain": [
              "<Figure size 432x288 with 2 Axes>"
            ]
          },
          "metadata": {
            "tags": [],
            "needs_background": "light"
          }
        }
      ]
    },
    {
      "cell_type": "code",
      "metadata": {
        "colab_type": "code",
        "id": "abdY0SBNQlu2",
        "outputId": "1bbbcb92-4f4e-4ccb-9b86-dd46aedde6d9",
        "colab": {
          "base_uri": "https://localhost:8080/",
          "height": 190
        }
      },
      "source": [
        "from sklearn.metrics import classification_report\n",
        "\n",
        "# Classification Report\n",
        "target_names = ['FWD', 'DEF', 'MID']\n",
        "print(classification_report(y_test, y_pred,target_names=target_names))"
      ],
      "execution_count": 0,
      "outputs": [
        {
          "output_type": "stream",
          "text": [
            "              precision    recall  f1-score   support\n",
            "\n",
            "         FWD       0.79      0.82      0.80      1017\n",
            "         DEF       0.86      0.84      0.85      1717\n",
            "         MID       0.78      0.78      0.78      2082\n",
            "\n",
            "    accuracy                           0.81      4816\n",
            "   macro avg       0.81      0.81      0.81      4816\n",
            "weighted avg       0.81      0.81      0.81      4816\n",
            "\n"
          ],
          "name": "stdout"
        }
      ]
    },
    {
      "cell_type": "markdown",
      "metadata": {
        "colab_type": "text",
        "id": "4Iy-g_68Q8OV"
      },
      "source": [
        "### 3.3 K-fold Cross-Validation\n",
        "\n",
        "We surely missed something during the modelling work -- Hyper-parameter tuning! We can use K-fold cross validation to find out the best hyper-parameter set.\n",
        "\n",
        "****\n",
        "\n",
        "\n",
        "<div class=\"alert alert-block alert-info\">\n",
        "\n",
        "**Code**: \n",
        "    Please implement K-fold cross validation for three (any three) classification models.\n",
        "\n",
        "<div class=\"alert alert-block alert-warning\">\n",
        "    \n",
        "**Report**: \n",
        "    **3.3** In your report with proper section title  '3.3', Please summarize the following:     \n",
        "    <ol>\n",
        "        <li> Your code design and running results </li>\n",
        "        <li> Your findings on hyper-parameters based on this cross-validation results</li>\n",
        "        <li> Any difficulties you had </li>\n",
        "        <li> Any other possible tasks we could do on this dataset </li>\n",
        "    </ol>\n",
        "<b>Remind: fail to list the reference will lead a penalty and possibly plagiarism</b>    \n",
        "</div>\n",
        "</div>\n",
        "\n"
      ]
    },
    {
      "cell_type": "code",
      "metadata": {
        "colab_type": "code",
        "id": "0yCvsy1-jO7x",
        "outputId": "a8787da5-3bc5-4d19-b0f7-1d69d97b5c0b",
        "colab": {
          "base_uri": "https://localhost:8080/",
          "height": 854
        }
      },
      "source": [
        "from pyspark.ml.classification import RandomForestClassifier\n",
        "from pyspark.ml.evaluation import MulticlassClassificationEvaluator\n",
        "from pyspark.ml.tuning import ParamGridBuilder, CrossValidator\n",
        "\n",
        "## RANDOM FOREST MODEL ##\n",
        "\n",
        "# Model Evaluator\n",
        "evaluator = MulticlassClassificationEvaluator(\n",
        "    labelCol='Target', predictionCol='prediction')\n",
        "\n",
        "# Classifier\n",
        "classifier = RandomForestClassifier(\n",
        "    featuresCol='Scaled_features', labelCol='Target', seed=12)\n",
        "\n",
        "# Hyper-parameters Cross Validation\n",
        "paramGrid = (ParamGridBuilder()\n",
        "             .addGrid(classifier.numTrees, range(1, 100))\n",
        "             .build())\n",
        "\n",
        "# Cross Validator\n",
        "cv = CrossValidator(estimator=classifier, estimatorParamMaps=paramGrid,\n",
        "                    evaluator=evaluator, numFolds=5, seed=12, parallelism=32)\n",
        "\n",
        "# Fit Model\n",
        "model = cv.fit(train)\n",
        "\n",
        "# Predict\n",
        "predict_train = model.transform(train)\n",
        "predict_test = model.transform(test)\n",
        "print('Test Set - Sample of Target vs Prediction')\n",
        "predict_test.select('Target', 'prediction').show(10)\n",
        "\n",
        "# Hyper-parameters Tuned\n",
        "print('*** Hyper-parameters *** \\nThe best model has {} trees.\\n'.format(\n",
        "    model.bestModel.getNumTrees))\n",
        "\n",
        "# Confusion Matrix & Confusion Matrix Data\n",
        "y_test = predict_test.select('Target').collect()  \n",
        "y_pred = predict_test.select('prediction').collect()  \n",
        "cm = confusion_matrix(y_test, y_pred)\n",
        "\n",
        "# Plot Confusion Matrix\n",
        "ax = plt.subplot()\n",
        "sns.heatmap(cm, annot=True, ax=ax, fmt='g')\n",
        "ax.set_xlabel('Prediction')\n",
        "ax.set_ylabel('Actual')\n",
        "ax.set_title('Random Forest Confusion Matrix', pad=10, fontsize=14)\n",
        "labels = ['FWD', 'DEF', 'MID']\n",
        "ax.xaxis.set_ticklabels(labels)\n",
        "ax.yaxis.set_ticklabels(labels)\n",
        "plt.show()\n",
        "\n",
        "# Classification Report\n",
        "target_names = ['FWD', 'DEF', 'MID']\n",
        "print('Random Forest Classification Report\\n')\n",
        "print(classification_report(y_test, y_pred, target_names=target_names))\n"
      ],
      "execution_count": 0,
      "outputs": [
        {
          "output_type": "stream",
          "text": [
            "Test Set - Sample of Target vs Prediction\n",
            "+------+----------+\n",
            "|Target|prediction|\n",
            "+------+----------+\n",
            "|     2|       2.0|\n",
            "|     2|       2.0|\n",
            "|     0|       2.0|\n",
            "|     2|       2.0|\n",
            "|     2|       2.0|\n",
            "|     2|       2.0|\n",
            "|     2|       2.0|\n",
            "|     1|       1.0|\n",
            "|     0|       0.0|\n",
            "|     2|       2.0|\n",
            "+------+----------+\n",
            "only showing top 10 rows\n",
            "\n",
            "*** Hyper-parameters *** \n",
            "The best model has 31 trees.\n",
            "\n"
          ],
          "name": "stdout"
        },
        {
          "output_type": "display_data",
          "data": {
            "image/png": "[encoded data removed]",
            "text/plain": [
              "<Figure size 432x288 with 2 Axes>"
            ]
          },
          "metadata": {
            "tags": [],
            "needs_background": "light"
          }
        },
        {
          "output_type": "stream",
          "text": [
            "Random Forest Classification Report\n",
            "\n",
            "              precision    recall  f1-score   support\n",
            "\n",
            "         FWD       0.85      0.76      0.80      1017\n",
            "         DEF       0.86      0.89      0.88      1717\n",
            "         MID       0.80      0.82      0.81      2082\n",
            "\n",
            "    accuracy                           0.83      4816\n",
            "   macro avg       0.84      0.82      0.83      4816\n",
            "weighted avg       0.83      0.83      0.83      4816\n",
            "\n"
          ],
          "name": "stdout"
        }
      ]
    },
    {
      "cell_type": "code",
      "metadata": {
        "id": "1Jf5AgkXCBfK",
        "colab_type": "code",
        "outputId": "8a32b230-12a8-42aa-d761-c94a9c79b758",
        "colab": {
          "base_uri": "https://localhost:8080/",
          "height": 872
        }
      },
      "source": [
        "from pyspark.ml.classification import LogisticRegression\n",
        "\n",
        "## LOGISTIC REGRESSION ##\n",
        "\n",
        "# Classifier\n",
        "classifier = LogisticRegression(\n",
        "    featuresCol='Scaled_features', labelCol='Target')\n",
        "\n",
        "# Hyper-parameters Cross Validation\n",
        "paramGrid = (ParamGridBuilder()\n",
        "             .addGrid(classifier.regParam, [0.0, 0.01, 0.02, 0.2, 0.4, 0.6, 0.8])\n",
        "             .addGrid(classifier.elasticNetParam, [0.0, 0.1, 0.2, 0.3, 0.4, 0.5, 1.0])\n",
        "             .build())\n",
        "\n",
        "# Cross Validator\n",
        "cv = CrossValidator(estimator=classifier, estimatorParamMaps=paramGrid,\n",
        "                    evaluator=evaluator, numFolds=5, seed=12, parallelism=32)\n",
        "\n",
        "# Fit Model\n",
        "logreg_model = cv.fit(train)\n",
        "\n",
        "# Predict\n",
        "predict_train = logreg_model.transform(train)\n",
        "predict_test = logreg_model.transform(test)\n",
        "print('Test Set - Sample of Target vs Prediction')\n",
        "predict_test.select('Target', 'prediction').show(10)\n",
        "\n",
        "# Hyper-parameters Tuned\n",
        "print('*** Hyper-parameters *** \\nThe best model has regParam set at {}.'.format(\n",
        "    logreg_model.bestModel._java_obj.getRegParam()))\n",
        "print('The best model has elasticNetParam set at {}.\\n'.format(\n",
        "    logreg_model.bestModel._java_obj.getElasticNetParam()))\n",
        "\n",
        "# Confusion Matrix & Confusion Matrix Data\n",
        "y_test = predict_test.select('Target').collect()  \n",
        "y_pred = predict_test.select('prediction').collect()  \n",
        "cm = confusion_matrix(y_test, y_pred)\n",
        "\n",
        "# Plot Confusion Matrix\n",
        "ax = plt.subplot()\n",
        "sns.heatmap(cm, annot=True, ax=ax, fmt='g')\n",
        "ax.set_xlabel('Prediction')\n",
        "ax.set_ylabel('Actual')\n",
        "ax.set_title('Logistic Regression Confusion Matrix', pad=10, fontsize=14)\n",
        "labels = ['FWD', 'DEF', 'MID']\n",
        "ax.xaxis.set_ticklabels(labels)\n",
        "ax.yaxis.set_ticklabels(labels)\n",
        "plt.show()\n",
        "\n",
        "# Classification Report\n",
        "target_names = ['FWD', 'DEF', 'MID']\n",
        "print('Logistic Regression Classification Report\\n')\n",
        "print(classification_report(y_test, y_pred, target_names=target_names))"
      ],
      "execution_count": 0,
      "outputs": [
        {
          "output_type": "stream",
          "text": [
            "Test Set - Sample of Target vs Prediction\n",
            "+------+----------+\n",
            "|Target|prediction|\n",
            "+------+----------+\n",
            "|     2|       2.0|\n",
            "|     2|       2.0|\n",
            "|     0|       0.0|\n",
            "|     2|       2.0|\n",
            "|     2|       2.0|\n",
            "|     2|       2.0|\n",
            "|     2|       2.0|\n",
            "|     1|       1.0|\n",
            "|     0|       0.0|\n",
            "|     2|       2.0|\n",
            "+------+----------+\n",
            "only showing top 10 rows\n",
            "\n",
            "*** Hyper-parameters *** \n",
            "The best model has regParam set at 0.0.\n",
            "The best model has elasticNetParam set at 0.2.\n",
            "\n"
          ],
          "name": "stdout"
        },
        {
          "output_type": "display_data",
          "data": {
            "image/png": "[encoded data removed]",
            "text/plain": [
              "<Figure size 432x288 with 2 Axes>"
            ]
          },
          "metadata": {
            "tags": [],
            "needs_background": "light"
          }
        },
        {
          "output_type": "stream",
          "text": [
            "Logistic Regression Classification Report\n",
            "\n",
            "              precision    recall  f1-score   support\n",
            "\n",
            "         FWD       0.82      0.82      0.82      1017\n",
            "         DEF       0.91      0.92      0.91      1717\n",
            "         MID       0.84      0.84      0.84      2082\n",
            "\n",
            "    accuracy                           0.86      4816\n",
            "   macro avg       0.86      0.86      0.86      4816\n",
            "weighted avg       0.86      0.86      0.86      4816\n",
            "\n"
          ],
          "name": "stdout"
        }
      ]
    },
    {
      "cell_type": "code",
      "metadata": {
        "id": "HMWgWTgje6sz",
        "colab_type": "code",
        "outputId": "c646a510-64a6-4646-826f-190702eef633",
        "colab": {
          "base_uri": "https://localhost:8080/",
          "height": 889
        }
      },
      "source": [
        "from pyspark.ml.classification import DecisionTreeClassifier\n",
        "\n",
        "## DECISION TREE ##\n",
        "\n",
        "# Classifier\n",
        "classifier = DecisionTreeClassifier(\n",
        "    featuresCol='Scaled_features', labelCol='Target')\n",
        "\n",
        "# Hyper-parameters Cross Validation\n",
        "paramGrid = (ParamGridBuilder()\n",
        "             .addGrid(classifier.maxDepth, range(1, 30))\n",
        "             .addGrid(classifier.minInfoGain, [0, 0.2, 0.4, 0.6, 0.8])\n",
        "             .build())\n",
        "\n",
        "# Cross Validator\n",
        "cv = CrossValidator(estimator=classifier, estimatorParamMaps=paramGrid,\n",
        "                    evaluator=evaluator, numFolds=5, seed=12, parallelism=32)\n",
        "\n",
        "# Fit Model\n",
        "dt_model = cv.fit(train)\n",
        "\n",
        "# Predict\n",
        "predict_train = dt_model.transform(train)\n",
        "predict_test = dt_model.transform(test)\n",
        "print('Test Set - Sample of Target vs Prediction')\n",
        "predict_test.select('Target', 'prediction').show(10)\n",
        "\n",
        "# Hyper-parameters Tuned\n",
        "print('*** Hyper-parameters *** \\nThe best model has MaxDepth set at {}'.format(\n",
        "    dt_model.bestModel._java_obj.getMaxDepth()))\n",
        "print('The best model has MinInfoGain set at {}'.format(\n",
        "    dt_model.bestModel._java_obj.getMinInfoGain()))\n",
        "print('The best model has MaxBins set at {}\\n'.format(\n",
        "    dt_model.bestModel._java_obj.getMaxBins()))\n",
        "\n",
        "# Confusion Matrix & Confusion Matrix Data\n",
        "y_test = predict_test.select('Target').collect()  \n",
        "y_pred = predict_test.select('prediction').collect() \n",
        "cm = confusion_matrix(y_test, y_pred)\n",
        "\n",
        "# Plot Confusion Matrix\n",
        "ax = plt.subplot()\n",
        "sns.heatmap(cm, annot=True, ax=ax, fmt='g')\n",
        "ax.set_xlabel('Prediction')\n",
        "ax.set_ylabel('Actual')\n",
        "ax.set_title('Decision Tree Confusion Matrix', pad=10, fontsize=14)\n",
        "labels = ['FWD', 'DEF', 'MID']\n",
        "ax.xaxis.set_ticklabels(labels)\n",
        "ax.yaxis.set_ticklabels(labels)\n",
        "plt.show()\n",
        "\n",
        "# Classification Report\n",
        "target_names = ['FWD', 'DEF', 'MID']\n",
        "print('Decision Tree Classification Report\\n')\n",
        "print(classification_report(y_test, y_pred, target_names=target_names))"
      ],
      "execution_count": 0,
      "outputs": [
        {
          "output_type": "stream",
          "text": [
            "Test Set - Sample of Target vs Prediction\n",
            "+------+----------+\n",
            "|Target|prediction|\n",
            "+------+----------+\n",
            "|     2|       2.0|\n",
            "|     2|       2.0|\n",
            "|     0|       2.0|\n",
            "|     2|       2.0|\n",
            "|     2|       2.0|\n",
            "|     2|       2.0|\n",
            "|     2|       2.0|\n",
            "|     1|       1.0|\n",
            "|     0|       0.0|\n",
            "|     2|       2.0|\n",
            "+------+----------+\n",
            "only showing top 10 rows\n",
            "\n",
            "*** Hyper-parameters *** \n",
            "The best model has MaxDepth set at 8\n",
            "The best model has MinInfoGain set at 0.0\n",
            "The best model has MaxBins set at 32\n",
            "\n"
          ],
          "name": "stdout"
        },
        {
          "output_type": "display_data",
          "data": {
            "image/png": "[encoded data removed]",
            "text/plain": [
              "<Figure size 432x288 with 2 Axes>"
            ]
          },
          "metadata": {
            "tags": [],
            "needs_background": "light"
          }
        },
        {
          "output_type": "stream",
          "text": [
            "Decision Tree Classification Report\n",
            "\n",
            "              precision    recall  f1-score   support\n",
            "\n",
            "         FWD       0.77      0.74      0.76      1017\n",
            "         DEF       0.88      0.89      0.88      1717\n",
            "         MID       0.79      0.80      0.79      2082\n",
            "\n",
            "    accuracy                           0.82      4816\n",
            "   macro avg       0.81      0.81      0.81      4816\n",
            "weighted avg       0.82      0.82      0.82      4816\n",
            "\n"
          ],
          "name": "stdout"
        }
      ]
    }
  ]
}