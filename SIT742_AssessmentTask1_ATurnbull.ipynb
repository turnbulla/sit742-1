{
  "nbformat": 4,
  "nbformat_minor": 0,
  "metadata": {
    "colab": {
      "name": "Copy of 2020SIT742Task1Sol.ipynb",
      "provenance": [],
      "collapsed_sections": [],
      "toc_visible": true,
      "include_colab_link": true
    },
    "kernelspec": {
      "display_name": "Python 3",
      "language": "python",
      "name": "python3"
    },
    "language_info": {
      "codemirror_mode": {
        "name": "ipython",
        "version": 3
      },
      "file_extension": ".py",
      "mimetype": "text/x-python",
      "name": "python",
      "nbconvert_exporter": "python",
      "pygments_lexer": "ipython3",
      "version": "3.7.7"
    }
  },
  "cells": [
    {
      "cell_type": "markdown",
      "metadata": {
        "id": "view-in-github",
        "colab_type": "text"
      },
      "source": [
        "<a href=\"https://colab.research.google.com/github/turnbulla/sit742-1/blob/master/SIT742_AssessmentTask1_ATurnbull.ipynb\" target=\"_parent\"><img src=\"https://colab.research.google.com/assets/colab-badge.svg\" alt=\"Open In Colab\"/></a>"
      ]
    },
    {
      "cell_type": "markdown",
      "metadata": {
        "colab_type": "text",
        "id": "EMX0qNbHot1x"
      },
      "source": [
        "# SIT742: Modern Data Science \n",
        "**(2020 Assessment Task 01: Exploration for Data Scientists Survey Data)**\n",
        "\n",
        "---\n",
        "- Materials in this module include resources collected from various open-source online repositories.\n",
        "- You are free to use, change and distribute this package.\n",
        "\n",
        "Prepared by **SIT742 Teaching Team**\n",
        "\n",
        "\n",
        "---\n",
        "\n",
        "<div class=\"alert alert-block alert-info\">\n",
        "Enter your information in the following cell. Please make sure you fill your Student ID and Name correctly.  \n",
        "</div>\n",
        "\n",
        "**Student Information:** Please fill your information below\n",
        "\n",
        "- Name:  \n",
        "- Student ID:  \n",
        "- Email:  \n",
        "- Lab Session and Tutor (for on campus students): \n",
        "\n",
        "---"
      ]
    },
    {
      "cell_type": "markdown",
      "metadata": {
        "colab_type": "text",
        "id": "cHdQMSVzJyip"
      },
      "source": [
        "## Overview\n",
        "\n",
        "In 2017, [Kaggle](https://www.kaggle.com) (a data science community and competition platform) conducted a survey on a large range of users registered as the data scientist in their platform. The survey data are broadly covered the skill set of the data scientists, the demographic of the data scientists, the feedback of the platform and many other information. \n",
        "\n",
        "In this task, you will need to \n",
        "\n",
        "- **Part 1**: Given the following two data sets, you are required to finish some required analysis, with the exploreation data analytics skills as well as visuilization skills\n",
        "     - [MCQResponses.csv](https://github.com/tulip-lab/sit742/raw/master/Assessment/2020/data/MCQResponses.csv): Participants' answers to multiple choice questions. Each column contains the answers of one respondent to a specific question.     \n",
        "     - [ConversionRates.csv](https://github.com/tulip-lab/sit742/raw/master/Assessment/2020/data/ConversionRates.csv): Currency conversion rates to USD. \n",
        "- **Part 2**: Given the following data set, you are required to find out top keywords for hiring the data scientists. \n",
        "    - [JobPostings.csv](https://github.com/tulip-lab/sit742/raw/master/Assessment/2020/data/JobPostings.csv): Data scientists job advertising in US with job descriptions, from JobPikr.\n",
        "\n",
        "\n",
        "You will be required to complete the coding to answer the questions with a neat and clean format, and your commenting and adherence to code standards will also be considered when marking. Further information on Python standards, please visit https://www.python.org/dev/peps/pep-0008/ \n",
        "\n",
        "\n",
        "**Note**: You are not necessary to stick to the partial code provided, and you can write your own code to implement the required tasks. But you should provide sufficient comments.\n"
      ]
    },
    {
      "cell_type": "markdown",
      "metadata": {
        "colab_type": "text",
        "id": "0d3FjO8fJyir"
      },
      "source": [
        "## Part 1 - What we could know about the Data Scientists? "
      ]
    },
    {
      "cell_type": "markdown",
      "metadata": {
        "_cell_guid": "06c9b38b-000e-4b8a-95f0-65a93bb332f2",
        "_uuid": "2bfa8ca86a226c9900a67a02236a072274bc0d18",
        "colab_type": "text",
        "id": "NuDhBkqaot17"
      },
      "source": [
        "### 1.0. Libraries and data files\n",
        "<a id=\"Load data\"></a>\n",
        "***\n"
      ]
    },
    {
      "cell_type": "code",
      "metadata": {
        "colab_type": "code",
        "id": "Tzx_NMcsJyiv",
        "colab": {}
      },
      "source": [
        "!pip install wget"
      ],
      "execution_count": 0,
      "outputs": []
    },
    {
      "cell_type": "code",
      "metadata": {
        "_cell_guid": "bf6d21b3-22d5-48e4-8a62-a50ef36bae42",
        "_kg_hide-input": true,
        "_kg_hide-output": false,
        "_uuid": "76567470049e7d7e878b76d72e81858f56bdbd2a",
        "colab_type": "code",
        "id": "7AVjZqvmot2A",
        "scrolled": true,
        "colab": {}
      },
      "source": [
        "import numpy as np\n",
        "import matplotlib.pyplot as plt\n",
        "import pandas as pd\n",
        "from pandas import datetime\n",
        "import wget\n",
        "import seaborn as sns # you can use other packages such as matplotlib too\n",
        "sns.set(style=\"whitegrid\")"
      ],
      "execution_count": 0,
      "outputs": []
    },
    {
      "cell_type": "code",
      "metadata": {
        "_cell_guid": "bf6d21b3-22d5-48e4-8a62-a50ef36bae42",
        "_kg_hide-input": true,
        "_kg_hide-output": false,
        "_uuid": "76567470049e7d7e878b76d72e81858f56bdbd2a",
        "colab_type": "code",
        "scrolled": true,
        "id": "Sq00_Cxey7FI",
        "colab": {}
      },
      "source": [
        "link_to_data = 'https://github.com/tulip-lab/sit742/raw/master/Assessment/2020/data/MCQResponses.csv'\n",
        "DataSet = wget.download(link_to_data)\n",
        "\n",
        "link_to_data = 'https://github.com/tulip-lab/sit742/raw/master/Assessment/2020/data/ConversionRates.csv'\n",
        "DataSet = wget.download(link_to_data)\n",
        "\n",
        "link_to_data = 'https://github.com/tulip-lab/sit742/raw/master/Assessment/2020/data/JobPostings.csv'\n",
        "DataSet = wget.download(link_to_data)"
      ],
      "execution_count": 0,
      "outputs": []
    },
    {
      "cell_type": "markdown",
      "metadata": {
        "colab_type": "text",
        "id": "xt84oidr-jof"
      },
      "source": [
        " <div class=\"alert alert-block alert-info\">\n",
        "\n",
        "**Code**: \n",
        "    You are required to load MCQResponses.csv into dataframe df_demog, and check the data statistics and general infommation by printing its top 5 rows.\n",
        "</div>"
      ]
    },
    {
      "cell_type": "code",
      "metadata": {
        "colab_type": "code",
        "id": "Xl5VV8v4ot2N",
        "colab": {}
      },
      "source": [
        "# Your code\n",
        "\n",
        "df_demog =  # Your code ...."
      ],
      "execution_count": 0,
      "outputs": []
    },
    {
      "cell_type": "markdown",
      "metadata": {
        "colab_type": "text",
        "id": "7gclqLjREEe7"
      },
      "source": [
        "<div class=\"alert alert-block alert-info\">\n",
        "\n",
        "**Code**: \n",
        "    Check which columns have NAs (don't remove them now), and for each of those columns, display how many records with values (namely, no NULL values)\n",
        "\n",
        "\n",
        "<div class=\"alert alert-block alert-warning\">\n",
        "    \n",
        "**Report**: \n",
        "    **1.0.A** Please include your result for this coding task into your report, with proper section title '1.0.A'.\n",
        "</div>\n",
        "    </div>\n",
        "\n",
        "\n"
      ]
    },
    {
      "cell_type": "code",
      "metadata": {
        "colab_type": "code",
        "id": "jk5oshZLot2U",
        "colab": {}
      },
      "source": [
        "# Your Code\n",
        "\n"
      ],
      "execution_count": 0,
      "outputs": []
    },
    {
      "cell_type": "code",
      "metadata": {
        "colab_type": "code",
        "id": "AXyiiOEGot2a",
        "colab": {}
      },
      "source": [
        "# Your Code\n",
        "\n"
      ],
      "execution_count": 0,
      "outputs": []
    },
    {
      "cell_type": "markdown",
      "metadata": {
        "colab_type": "text",
        "id": "MclqalahEVm-"
      },
      "source": [
        "<div class=\"alert alert-block alert-info\">\n",
        "\n",
        "**Code**: \n",
        "    Select the users whose current job title is 'Data Scientist', and store into variable df_demog_ds    \n",
        "\n",
        "<div class=\"alert alert-block alert-warning\">\n",
        "    \n",
        "**Report**: \n",
        "    **1.0.B** Please include your result of `how many Data Scientists?' into your report, with proper section title  '1.0.B'.\n",
        "</div>\n",
        "</div>\n",
        "\n",
        "\n"
      ]
    },
    {
      "cell_type": "code",
      "metadata": {
        "colab_type": "code",
        "id": "sjdZZOc8ot2g",
        "colab": {}
      },
      "source": [
        "# Your code\n",
        "\n"
      ],
      "execution_count": 0,
      "outputs": []
    },
    {
      "cell_type": "markdown",
      "metadata": {
        "_cell_guid": "3e161447-2816-45ec-872f-3a20da79c042",
        "_uuid": "d6bdc03f0c63a08754efc13378661dc986d2bcb8",
        "colab_type": "text",
        "id": "iuhutBLOot5O"
      },
      "source": [
        "### 1.1. Education\n",
        "<a id=\"education\"></a>\n",
        "***\n",
        "In data scientists job, education is important. Is it reasonable to ask data scientists to have a Master's or Doctoral degree? Let's find out. \n"
      ]
    },
    {
      "cell_type": "markdown",
      "metadata": {
        "colab_type": "text",
        "id": "yHyeeZvDot5Q"
      },
      "source": [
        "<div class=\"alert alert-block alert-info\">\n",
        "\n",
        "**Code**: \n",
        "    Plot and display as text output the number and percentage of data scientist with each type of formal education. \n",
        "\n",
        "<div class=\"alert alert-block alert-warning\">\n",
        "    \n",
        "**Report**: \n",
        "    **1.1** Please include your running result of this coding task into your report, with proper section title  '1.1'.\n",
        "</div>\n",
        "</div>"
      ]
    },
    {
      "cell_type": "code",
      "metadata": {
        "colab_type": "code",
        "id": "lRXfdfvgot5S",
        "colab": {}
      },
      "source": [
        "# Your code\n",
        "\n"
      ],
      "execution_count": 0,
      "outputs": []
    },
    {
      "cell_type": "markdown",
      "metadata": {
        "_cell_guid": "551f7dba-71d3-4f77-8852-fce4f789d644",
        "_uuid": "31449fb18bfea68bb723b010b78dcab6c8fe5439",
        "colab_type": "text",
        "id": "K-yMEEFLot7P"
      },
      "source": [
        "### 1.2. Salary\n",
        "<a id=\"salary\"></a>\n",
        "\n",
        "Data science is considered a very well paying role, let's find out the salary information. Since all of the respondents did not come from one country, we can assume that they gave their salaries in their countries currency. We have filtered the data for you and provided exchange rates in a file called *ConversionRates.csv* which should already be imported. \n",
        "\n",
        "First of all, you need to merge the multiple choice data with the *ConversionRates.csv* by using the compensation currency and originCountry respectively. And then you will need to multiply the compensation amount with exchangeRateAUS to have the Australian dollors."
      ]
    },
    {
      "cell_type": "code",
      "metadata": {
        "colab_type": "code",
        "id": "BZaQ7vykot7U",
        "colab": {}
      },
      "source": [
        "# Your code\n"
      ],
      "execution_count": 0,
      "outputs": []
    },
    {
      "cell_type": "markdown",
      "metadata": {
        "colab_type": "text",
        "id": "6MYDXU6dot7T"
      },
      "source": [
        "<div class=\"alert alert-block alert-info\">\n",
        "\n",
        "**Code**: \n",
        "Use the codes for each country to merge the files so that you can convert the salary data to Australian Dollars (AUD). Print out the maximum and median salary in AUD. Hint: think about what data type you have.\n",
        "    \n",
        "<div class=\"alert alert-block alert-warning\">\n",
        "    \n",
        "**Report**: \n",
        "    **1.2.A** In your report's section '1.2.A', answer what is the maximum and the median salary in AUD (this is for all respondents). \n",
        "</div>\n",
        "</div>\n"
      ]
    },
    {
      "cell_type": "code",
      "metadata": {
        "colab_type": "code",
        "id": "tyMNN-r3Jyjc",
        "colab": {}
      },
      "source": [
        "# Your Code\n",
        " "
      ],
      "execution_count": 0,
      "outputs": []
    },
    {
      "cell_type": "code",
      "metadata": {
        "colab_type": "code",
        "id": "nA9JygJ2ot7v",
        "colab": {}
      },
      "source": [
        "# Your code\n"
      ],
      "execution_count": 0,
      "outputs": []
    },
    {
      "cell_type": "markdown",
      "metadata": {
        "colab_type": "text",
        "id": "kAtIFQgxMcR9"
      },
      "source": [
        "<div class=\"alert alert-block alert-info\">\n",
        "\n",
        "**Code**: \n",
        "Plot a boxplot of the Australian respondents salary distribution. Print out the maximum and median salaries for Australian repsondnts.\n",
        "   \n",
        "<div class=\"alert alert-block alert-warning\">\n",
        "    \n",
        "**Report**: \n",
        "    **1.2.B** In your report's section '1.2.B', answer what is the maximum and median salary in AUD for Australian respondents, and also include your plotted boxplot of this coding task into your report. \n",
        "</div>\n",
        "</div>\n"
      ]
    },
    {
      "cell_type": "code",
      "metadata": {
        "colab_type": "code",
        "id": "44a4HBqvMb_N",
        "colab": {}
      },
      "source": [
        "plt.title(\"Boxplot of salary on Australia\")\n",
        "\n",
        "# Your code\n"
      ],
      "execution_count": 0,
      "outputs": []
    },
    {
      "cell_type": "code",
      "metadata": {
        "colab_type": "code",
        "id": "RZDQMRRfMbSl",
        "colab": {}
      },
      "source": [
        "# Your code\n",
        "\n"
      ],
      "execution_count": 0,
      "outputs": []
    },
    {
      "cell_type": "markdown",
      "metadata": {
        "colab_type": "text",
        "id": "b5TQQt_1LSG2"
      },
      "source": [
        "<div class=\"alert alert-block alert-info\">\n",
        "\n",
        "**Code**: \n",
        "There are some outliers in the Australian salary plot. You are required to filter the salary of Australian respondents by removing any below 40,000 or above 250,000. \n",
        "\n",
        "    \n",
        "<div class=\"alert alert-block alert-warning\">\n",
        "    \n",
        "**Report**: \n",
        "    **1.2.C** In your report's section '1.2.C', answer what is the new maximum and median salary in AUD for Australian respondents after filtering, and also include your plotted boxplot of this coding task into your report. \n",
        "</div>\n",
        "</div>\n"
      ]
    },
    {
      "cell_type": "code",
      "metadata": {
        "colab_type": "code",
        "id": "2OCbrDb9MUdb",
        "colab": {}
      },
      "source": [
        "# your code\n",
        "\n"
      ],
      "execution_count": 0,
      "outputs": []
    },
    {
      "cell_type": "code",
      "metadata": {
        "colab_type": "code",
        "id": "iDkjx7H1NhAj",
        "colab": {}
      },
      "source": [
        "plt.title(\"Boxplot of filtered salary on Australia\")\n",
        "\n",
        "# Your code\n"
      ],
      "execution_count": 0,
      "outputs": []
    },
    {
      "cell_type": "markdown",
      "metadata": {
        "_cell_guid": "06c9b38b-000e-4b8a-95f0-65a93bb332f2",
        "_uuid": "2bfa8ca86a226c9900a67a02236a072274bc0d18",
        "colab_type": "text",
        "id": "WL_oOonnot2l"
      },
      "source": [
        "### 1.3. Exploring the data scientist Demographics\n",
        "<a id=\"demographics\"></a>\n",
        "***\n",
        "\n",
        "#### 1.3.1 Age\n",
        "<a id=\"age\"></a>\n",
        "You will need to build a boxplot to explore the age of all data scientists. \n",
        "Your plot must have a label for each axis, a tittle and also show the outliers."
      ]
    },
    {
      "cell_type": "code",
      "metadata": {
        "colab_type": "code",
        "id": "3qi9JyJHot2o",
        "colab": {}
      },
      "source": [
        "plt.title(\"Boxplot of Age\")\n",
        "\n",
        "ax = sns.boxplot(x=df_demog_ds[\"Age\"])"
      ],
      "execution_count": 0,
      "outputs": []
    },
    {
      "cell_type": "markdown",
      "metadata": {
        "colab_type": "text",
        "id": "sQEUpSEOot2u"
      },
      "source": [
        "<div class=\"alert alert-block alert-info\">\n",
        "\n",
        "**Code**: \n",
        "        <ol>\n",
        "        <li> Calculate the five number summary descriptive statistics for age as shown on the boxplot, as well as the mean. Please round your mean to integer.</li>\n",
        "        <li> Regardless of the errors that the data show, we are interested in working-age data scientists, how many aged between 24 and 60. </li>\n",
        "        <li> How many respondents were under 18?</li>\n",
        "    </ol>\n",
        "    \n",
        "\n",
        "    \n",
        "<div class=\"alert alert-block alert-warning\">\n",
        "    \n",
        "**Report**: \n",
        "    **1.3.A** In your report's section '1.3.A', answer \n",
        "        <ol>\n",
        "        <li> What is the mean age of all data scientists? </li>\n",
        "        <li> What is the median age of all data scientists? </li>\n",
        "        <li> how many data scientists aged between 24 and 60</li>\n",
        "        <li> how many respondents were under 18? </li>\n",
        "    </ol>\n",
        "</div>\n",
        "</div>\n",
        "\n",
        "\n",
        "\n",
        "\n",
        "\n"
      ]
    },
    {
      "cell_type": "code",
      "metadata": {
        "colab_type": "code",
        "id": "NYdZjpklot2w",
        "colab": {}
      },
      "source": [
        "# Your code\n"
      ],
      "execution_count": 0,
      "outputs": []
    },
    {
      "cell_type": "code",
      "metadata": {
        "colab_type": "code",
        "id": "ngjxIviIot21",
        "colab": {}
      },
      "source": [
        "# Your code\n",
        "\n"
      ],
      "execution_count": 0,
      "outputs": []
    },
    {
      "cell_type": "code",
      "metadata": {
        "colab_type": "code",
        "id": "bW7mnijvJyj1",
        "colab": {}
      },
      "source": [
        "# Your code\n",
        "\n"
      ],
      "execution_count": 0,
      "outputs": []
    },
    {
      "cell_type": "code",
      "metadata": {
        "colab_type": "code",
        "id": "RxcGZ97Uot3M",
        "colab": {}
      },
      "source": [
        "# Your code: How many data scientsits aged between 24 and 60\n",
        "\n"
      ],
      "execution_count": 0,
      "outputs": []
    },
    {
      "cell_type": "code",
      "metadata": {
        "colab_type": "code",
        "id": "3fehgZuEJyj8",
        "colab": {}
      },
      "source": [
        "# Your Code: how many respondents under 18?\n"
      ],
      "execution_count": 0,
      "outputs": []
    },
    {
      "cell_type": "markdown",
      "metadata": {
        "colab_type": "text",
        "id": "c-al5HYdot3W"
      },
      "source": [
        "#### 1.3.2 Gender\n",
        "<a id=\"gender\"></a>\n",
        "We are interested in the gender of respondents. Nowadays, the gender equity is important for companies and organizations. \n"
      ]
    },
    {
      "cell_type": "markdown",
      "metadata": {
        "_cell_guid": "4b0c5cbc-a703-4b39-95bd-510f07ece6c0",
        "_uuid": "214cae932a19a586e341914443aa89e62009e6c4",
        "colab_type": "text",
        "id": "aVdtFL5wot3Y"
      },
      "source": [
        "<div class=\"alert alert-block alert-info\">\n",
        "\n",
        "**Code**: \n",
        "Plot the gender distribution of the data scientist users using a bar chart. \n",
        "</div>\n"
      ]
    },
    {
      "cell_type": "code",
      "metadata": {
        "colab_type": "code",
        "id": "OcKUWzqqot3Z",
        "colab": {}
      },
      "source": [
        "plt.title(\"Bar chat of Gender\")\n",
        "\n",
        "# Your code\n"
      ],
      "execution_count": 0,
      "outputs": []
    },
    {
      "cell_type": "markdown",
      "metadata": {
        "id": "YnzZ-upyy7Fy",
        "colab_type": "text"
      },
      "source": [
        "Now let's see if any relationship between gender and age\n",
        "\n",
        "Create a box plot showing the age of all the data scientists according to gender (men, women and other identity)."
      ]
    },
    {
      "cell_type": "code",
      "metadata": {
        "colab_type": "code",
        "id": "fLPvkJt2ot30",
        "colab": {}
      },
      "source": [
        "plt.title(\"Boxplot of Age with GenderSelect\")\n",
        "\n",
        "# Your code here"
      ],
      "execution_count": 0,
      "outputs": []
    },
    {
      "cell_type": "markdown",
      "metadata": {
        "colab_type": "text",
        "id": "MQb_Obrpot3e"
      },
      "source": [
        "<div class=\"alert alert-block alert-info\">\n",
        "\n",
        "**Code**: \n",
        "You are required to use the barchart to show the percentage of men, women and other identity.\n",
        "    \n",
        "    \n",
        "<div class=\"alert alert-block alert-warning\">\n",
        "    \n",
        "**Report**: \n",
        "    **1.3.B** In your report's section '1.3.B', include the bar chart generated from your code.\n",
        "</div>\n",
        "</div>"
      ]
    },
    {
      "cell_type": "code",
      "metadata": {
        "colab_type": "code",
        "id": "H0tU0cJLot3h",
        "colab": {}
      },
      "source": [
        "plt.figure(figsize=(12,8))\n",
        "plt.title('Distribution of Gender')\n",
        "plt.xlabel('Gender Select')\n",
        "plt.ylabel('Percentage [%]')\n",
        "\n",
        "# Your code\n",
        " "
      ],
      "execution_count": 0,
      "outputs": []
    },
    {
      "cell_type": "markdown",
      "metadata": {
        "colab_type": "text",
        "id": "ohxh7aPWot4G"
      },
      "source": [
        "#### 1.3.3 Country\n",
        "<a id=\"country\"></a>\n",
        "The data scientists are working all over the world. The United States is regarded the largest data science community. India, China and some other countries are also having a fast growing recently. Is this true? Let's find out."
      ]
    },
    {
      "cell_type": "markdown",
      "metadata": {
        "colab_type": "text",
        "id": "gcW1HPZlot4J"
      },
      "source": [
        "<div class=\"alert alert-block alert-info\">\n",
        "\n",
        "**Code**: \n",
        "Find the top 5 countries of data scientists.\n",
        "    \n",
        "<div class=\"alert alert-block alert-warning\">\n",
        "    \n",
        "**Report**: \n",
        "    **1.3.C** In your report's section '1.3.C', answer what are those top 5 countries and their corresponding number of data scienists\n",
        "</div>\n",
        "</div>"
      ]
    },
    {
      "cell_type": "code",
      "metadata": {
        "colab_type": "code",
        "id": "e14ly826ot4L",
        "colab": {}
      },
      "source": [
        "# Your Code: create and fill value into df_country\n",
        "\n"
      ],
      "execution_count": 0,
      "outputs": []
    },
    {
      "cell_type": "code",
      "metadata": {
        "_cell_guid": "f3da614f-96e2-45d1-ba78-9d08a58fa136",
        "_kg_hide-input": true,
        "_uuid": "34afcf67184929a6de8358a13a961d0b9ad25b6c",
        "colab_type": "code",
        "id": "4NfzLajkot4X",
        "colab": {}
      },
      "source": [
        "# Show only one suitable plot of country: either Bar plot, count plot, or Boxplot (possible or not?)\n"
      ],
      "execution_count": 0,
      "outputs": []
    },
    {
      "cell_type": "markdown",
      "metadata": {
        "colab_type": "text",
        "id": "t8LLns9IJykS"
      },
      "source": [
        "<div class=\"alert alert-block alert-info\">\n",
        "\n",
        "**Code**: \n",
        "Generate the distribution of top 5 countries of data scientists, using percentage barchart. You can not mannually input the name of top 5 countries (your code should not contain any name of the top 5 countries), and you are required to use python subset functions or many other functions.\n",
        "    \n",
        "<div class=\"alert alert-block alert-warning\">\n",
        "    \n",
        "**Report**: \n",
        "    **1.3.D** In your report's section '1.3.D', including the percentage barchart of those top 5 countries. Here the percentage is calculated based on all countries, not for those top 5 countries. So the sum of top 5 countries' percentage should be less than 1.\n",
        "</div>\n",
        "</div>"
      ]
    },
    {
      "cell_type": "code",
      "metadata": {
        "colab_type": "code",
        "id": "M1g1CA3_ot4l",
        "colab": {}
      },
      "source": [
        "#percentage\n",
        "plt.figure(figsize=(12,8))\n",
        "plt.title('Distribution of Top 5 country with data scientist count')\n",
        "plt.xlabel('Country')\n",
        "plt.ylabel('Percentage [%]')\n",
        "\n",
        "\n",
        "#Your Code: create and fill values into df_country_top5\n",
        "\n"
      ],
      "execution_count": 0,
      "outputs": []
    },
    {
      "cell_type": "markdown",
      "metadata": {
        "colab_type": "text",
        "id": "rQNCS52Aot40"
      },
      "source": [
        "Now we have some understanding about the country, let's see if there is any relationship between country, age and gender.\n",
        "\n",
        "<div class=\"alert alert-block alert-info\">\n",
        "\n",
        "**Code**: \n",
        "You are required to output the mean and median age for each gender for the United States, India, Australia, Pakistan\n",
        "\n",
        "\n",
        "<div class=\"alert alert-block alert-warning\">\n",
        "    \n",
        "**Report**: \n",
        "    **1.3.E** In your report's section '1.3.E', including the results of above coding task.\n",
        "</div>\n",
        "</div>\n",
        "\n",
        "\n"
      ]
    },
    {
      "cell_type": "code",
      "metadata": {
        "colab_type": "code",
        "id": "C8x3hi3xot45",
        "colab": {}
      },
      "source": [
        "# Your Code\n",
        "\n"
      ],
      "execution_count": 0,
      "outputs": []
    },
    {
      "cell_type": "markdown",
      "metadata": {
        "colab_type": "text",
        "id": "gYQNiE5Cot-I"
      },
      "source": [
        "## Part 2 - Data Science Job Advertising Data\n",
        "\n",
        "In this part, you are required to use the text processing skills to find out the insights in data science job adverising Data."
      ]
    },
    {
      "cell_type": "markdown",
      "metadata": {
        "colab_type": "text",
        "id": "LQmiP5-_Nc3b"
      },
      "source": [
        "### 2.1. Load the data and Extract the high frequency words\n",
        "<a id=\"text\"></a>\n",
        "\n",
        "Firstly, you will need to load the [JobPostings.csv](https://github.com/tulip-lab/sit742/raw/master/Assessment/2020/data/JobPostings.csv) data and sub-set out of the job description from it."
      ]
    },
    {
      "cell_type": "code",
      "metadata": {
        "colab_type": "code",
        "id": "zH8XAQ0xYGSc",
        "colab": {}
      },
      "source": [
        "import re\n",
        "import nltk\n",
        "from nltk.tokenize import RegexpTokenizer\n",
        "from nltk.probability import *\n",
        "from itertools import chain\n",
        "#from tqdm import tqdm\n",
        "import codecs\n",
        "from nltk.corpus import stopwords \n",
        "nltk.download('stopwords')"
      ],
      "execution_count": 0,
      "outputs": []
    },
    {
      "cell_type": "code",
      "metadata": {
        "colab_type": "code",
        "id": "p_BSc5WkYcf4",
        "colab": {}
      },
      "source": [
        "df_text = pd.read_csv('JobPostings.csv')"
      ],
      "execution_count": 0,
      "outputs": []
    },
    {
      "cell_type": "markdown",
      "metadata": {
        "colab_type": "text",
        "id": "xm1vdjSKJykj"
      },
      "source": [
        "<div class=\"alert alert-block alert-info\">\n",
        "\n",
        "**Code**: \n",
        "You are required to extract the token and append them into the list 'token'.\n",
        "\n",
        "<div class=\"alert alert-block alert-warning\">\n",
        "    \n",
        "**Report**: \n",
        "    **2.1.A** In your report's section '2.1.A', including your code of this task. You can copy and paster your completed code in the following cell\n",
        "</div>\n",
        "</div>\n"
      ]
    },
    {
      "cell_type": "code",
      "metadata": {
        "colab_type": "code",
        "id": "Rz03Rd-GYYMw",
        "colab": {}
      },
      "source": [
        "lower = []\n",
        "for item in df_text['job_description']:\n",
        "    lower.append(item.lower())           # lowercase description\n",
        "\n",
        "tokens = []\n",
        "\n",
        "# Your code: write your code here to define your tokenize, and add to tokens \n",
        "\n",
        "\n"
      ],
      "execution_count": 0,
      "outputs": []
    },
    {
      "cell_type": "markdown",
      "metadata": {
        "colab_type": "text",
        "id": "VD4z8w8xOKDJ"
      },
      "source": [
        "Secondly, \n",
        "\n",
        "<div class=\"alert alert-block alert-info\">\n",
        "\n",
        "**Code**: \n",
        "You are required to find out the words freqency which is more than 6000 in the job descriptions. (Please use stopwords at beginning)\n",
        "\n",
        "\n",
        "<div class=\"alert alert-block alert-warning\">\n",
        "    \n",
        "**Report**: \n",
        "    **2.1.B** In your report's section '2.1.B', list those words with frequency > 6000.\n",
        "</div>\n",
        "</div>\n",
        "\n",
        "\n"
      ]
    },
    {
      "cell_type": "code",
      "metadata": {
        "colab_type": "code",
        "id": "c-Pag_N7Zew-",
        "colab": {}
      },
      "source": [
        "stop_words = set(stopwords.words('english')) \n",
        "\n",
        "freq6000 = []\n",
        "\n",
        "# Your Code\n",
        "# find top common words with document frequencies > 6000\n",
        "# you may use function FreqDist() and sort()\n"
      ],
      "execution_count": 0,
      "outputs": []
    },
    {
      "cell_type": "code",
      "metadata": {
        "colab_type": "code",
        "id": "S7JzfU6AaSQi",
        "colab": {}
      },
      "source": [
        "freq6000"
      ],
      "execution_count": 0,
      "outputs": []
    },
    {
      "cell_type": "markdown",
      "metadata": {
        "colab_type": "text",
        "id": "EK9-BCbDJyky"
      },
      "source": [
        "Then,\n",
        "\n",
        "<div class=\"alert alert-block alert-info\">\n",
        "\n",
        "**Code**: \n",
        "You are required to sort and display the top 10 high frequency words in 'freq6000'\n",
        "\n",
        "<div class=\"alert alert-block alert-warning\">\n",
        "    \n",
        "**Report**: \n",
        "    **2.1.C** In your report's section '2.1.C', list those top 10 words\n",
        "</div>\n",
        "</div>\n",
        "\n",
        "\n",
        "\n",
        "\n"
      ]
    },
    {
      "cell_type": "code",
      "metadata": {
        "colab_type": "code",
        "id": "doWvhqRmJykz",
        "colab": {}
      },
      "source": [
        "# Your Code to sort and display the top 10 high fequency words in 'freq6000'\n",
        "\n"
      ],
      "execution_count": 0,
      "outputs": []
    },
    {
      "cell_type": "markdown",
      "metadata": {
        "id": "GShJYaHJy7GK",
        "colab_type": "text"
      },
      "source": [
        "Finally,\n",
        "\n",
        "<div class=\"alert alert-block alert-info\">\n",
        "\n",
        "**Code**: \n",
        "You are required to carry out one more analytics on this data set, and implement it below.\n",
        "\n",
        "<div class=\"alert alert-block alert-warning\">\n",
        "    \n",
        "**Report**: \n",
        "    **2.1.D** In your report's section '2.1.D', describe your self-defined text analysis task, and the discovery from your analysis.\n",
        "</div>\n",
        "</div>\n",
        "\n",
        "\n",
        "\n",
        "\n",
        "\n"
      ]
    },
    {
      "cell_type": "code",
      "metadata": {
        "id": "thsYUmBdy7GK",
        "colab_type": "code",
        "colab": {}
      },
      "source": [
        "# Your Code below\n",
        "\n"
      ],
      "execution_count": 0,
      "outputs": []
    }
  ]
}