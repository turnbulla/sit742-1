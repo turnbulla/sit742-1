{
  "nbformat": 4,
  "nbformat_minor": 0,
  "metadata": {
    "colab": {
      "name": "Copy of 2020SIT742Task2Sol.ipynb",
      "provenance": [],
      "collapsed_sections": [],
      "include_colab_link": true
    },
    "kernelspec": {
      "display_name": "Python 3",
      "language": "python",
      "name": "python3"
    },
    "language_info": {
      "codemirror_mode": {
        "name": "ipython",
        "version": 3
      },
      "file_extension": ".py",
      "mimetype": "text/x-python",
      "name": "python",
      "nbconvert_exporter": "python",
      "pygments_lexer": "ipython3",
      "version": "3.7.7"
    }
  },
  "cells": [
    {
      "cell_type": "markdown",
      "metadata": {
        "id": "view-in-github",
        "colab_type": "text"
      },
      "source": [
        "<a href=\"https://colab.research.google.com/github/turnbulla/sit742-1/blob/master/Copy_of_2020SIT742Task2Sol.ipynb\" target=\"_parent\"><img src=\"https://colab.research.google.com/assets/colab-badge.svg\" alt=\"Open In Colab\"/></a>"
      ]
    },
    {
      "cell_type": "markdown",
      "metadata": {
        "colab_type": "text",
        "id": "5PD5Pz3u-6vb"
      },
      "source": [
        "# SIT742: Modern Data Science \n",
        "**(2020 Assessment Task 02: Exploration FIFA2019 Data)**\n",
        "\n",
        "---\n",
        "- Materials in this module include resources collected from various open-source online repositories.\n",
        "- You are free to use, change and distribute this package.\n",
        "\n",
        "Prepared by **SIT742 Teaching Team**\n",
        "\n",
        "\n",
        "---\n",
        "\n",
        "<div class=\"alert alert-block alert-info\">\n",
        "Enter your information in the following cell. Please make sure you fill your Student ID and Name correctly.  \n",
        "</div>\n",
        "\n",
        "**Student Group Information:** Please fill your information below\n",
        "\n",
        "- Names with Student IDs:  \n",
        "- Group ID:  \n",
        "- Emails:   \n",
        "\n",
        "---"
      ]
    },
    {
      "cell_type": "markdown",
      "metadata": {
        "colab_type": "text",
        "id": "2ljGko6N-6vf"
      },
      "source": [
        "## Overview\n",
        "\n",
        "Recently, [Kaggle](https://www.kaggle.com) (a data science community and competition platform) released one data set '[FIFA19](https://www.kaggle.com/karangadiya/fifa19)‘, which consists of 18K+ FIFA 19 player with around 90 attributes extracted from FIFA database. In this assessment task, we make it available as the data set:\n",
        "- [2020T2Data.csv](https://github.com/tulip-lab/sit742/raw/master/Assessment/2020/data/2020T2Data.csv): The data set for this assignment task.\n",
        "\n",
        "In this task, you will need to **use Spark packages**\n",
        "\n",
        "- **Part 1**: Exploratory Data Analysis\n",
        "\n",
        "- **Part 2**: Clustering Analysis, and identify the position profiles of each cluster\n",
        "\n",
        "- **Part 3**: Classification Analysis, and evaluate the performance of different algorithms using cross validation;\n",
        "\n",
        "\n",
        "You will be required to complete the coding to answer the questions with a neat and clean format, and your commenting and adherence to code standards will be considered when marking. Further information on Python standards, please visit https://www.python.org/dev/peps/pep-0008/ \n",
        "\n",
        "\n",
        "**Note**: You are not necessary to stick to the partial code provided, and you can write your own complete code to implement the required tasks. But you should provide sufficient comments.\n",
        "\n"
      ]
    },
    {
      "cell_type": "markdown",
      "metadata": {
        "colab_type": "text",
        "id": "G1vjEdvs-6vh"
      },
      "source": [
        "## Part 1 - What we could know about FIFA 2019 Players? \n",
        "\n",
        "### 1.0. Libraries and data files\n",
        "<a id=\"Load data\"></a>\n",
        "***\n",
        "\n",
        "Import the necessary Spark environment, and load the data set [2020T2Data.csv](https://github.com/tulip-lab/sit742/raw/master/Assessment/2020/data/2020T2Data.csv).\n"
      ]
    },
    {
      "cell_type": "code",
      "metadata": {
        "colab_type": "code",
        "id": "auVRAscVRVrI",
        "outputId": "337a2442-a091-4150-c12f-b4e6f6367d84",
        "colab": {
          "base_uri": "https://localhost:8080/",
          "height": 34
        }
      },
      "source": [
        "!pip install wget\n",
        "!apt-get install openjdk-8-jdk-headless -qq > /dev/null\n",
        "!wget -q https://archive.apache.org/dist/spark/spark-2.4.0/spark-2.4.0-bin-hadoop2.7.tgz\n",
        "!tar xf spark-2.4.0-bin-hadoop2.7.tgz\n",
        "!pip install -q findspark\n",
        "import os,wget\n",
        "os.environ[\"JAVA_HOME\"] = \"/usr/lib/jvm/java-8-openjdk-amd64\"\n",
        "os.environ[\"SPARK_HOME\"] = \"/content/spark-2.4.0-bin-hadoop2.7\"\n",
        "\n",
        "\n",
        "link_to_data = 'https://github.com/tulip-lab/sit742/raw/master/Assessment/2020/data/2020T2Data.csv'\n",
        "DataSet = wget.download(link_to_data)"
      ],
      "execution_count": 58,
      "outputs": [
        {
          "output_type": "stream",
          "text": [
            "Requirement already satisfied: wget in /usr/local/lib/python3.6/dist-packages (3.2)\n"
          ],
          "name": "stdout"
        }
      ]
    },
    {
      "cell_type": "code",
      "metadata": {
        "colab_type": "code",
        "id": "3Gxm5nc6Rz-a",
        "colab": {}
      },
      "source": [
        "import findspark\n",
        "findspark.init()\n",
        "from pyspark.sql import SparkSession"
      ],
      "execution_count": 0,
      "outputs": []
    },
    {
      "cell_type": "markdown",
      "metadata": {
        "colab_type": "text",
        "id": "dSPbqoEGR30v"
      },
      "source": [
        "### 1.1 Data Exploration\n",
        "\n",
        "*Remind: You must only use **PySpark** to complete the following data processing and model building. Otherwise, you lose all marks.*\n",
        "\n",
        "<a id=\"loading\"></a>\n",
        "***\n",
        "\n",
        "<div class=\"alert alert-block alert-info\">\n",
        "\n",
        "**Code**: \n",
        "    import the csv file as a Spark dataframe and name it as df\n",
        "\n",
        "</div>\n",
        "\n"
      ]
    },
    {
      "cell_type": "code",
      "metadata": {
        "colab_type": "code",
        "id": "uuGY6lgWR7B3",
        "outputId": "3bba384f-ae9d-4100-bac4-b6343b7feb7a",
        "colab": {
          "base_uri": "https://localhost:8080/",
          "height": 498
        }
      },
      "source": [
        "# Import the '2020T2Data.csv' as a Spark dataframe and name it as df\n",
        "spark = SparkSession.builder.appName('SIT742T2').getOrCreate()\n",
        "\n",
        "df = spark.read.format('csv').options(header='true', inferSchema=True).load(\"2020T2Data.csv\")\n",
        "\n",
        "df.show()"
      ],
      "execution_count": 60,
      "outputs": [
        {
          "output_type": "stream",
          "text": [
            "+------+-----------------+---+--------------------+-----------+--------------------+-------+---------+-------------------+--------------------+--------+-------+-------+--------------+------------------------+---------+-----------+--------------+----------+---------+--------+-------------+------------+-----------+--------------------+------+----------+------+----------+--------+---------+---------------+------------+-------+---------+-----+----------+-----------+-----------+------------+-----------+-------+---------+-------+---------+-------+-------+--------+---------+----------+-------------+-----------+------+---------+---------+-------+--------------+-------------+--------+----------+---------+-------------+----------+-----------------+\n",
            "|    ID|             Name|Age|               Photo|Nationality|                Flag|Overall|Potential|               Club|           Club Logo|value(M)|wage(K)|Special|Preferred Foot|International Reputation|Weak Foot|Skill Moves|     Work Rate| Body Type|Real Face|Position|Jersey Number|      Joined|Loaned From|Contract Valid Until|Height|Height(CM)|Weight|Weight(KG)|Crossing|Finishing|HeadingAccuracy|ShortPassing|Volleys|Dribbling|Curve|FKAccuracy|LongPassing|BallControl|Acceleration|SprintSpeed|Agility|Reactions|Balance|ShotPower|Jumping|Stamina|Strength|LongShots|Aggression|Interceptions|Positioning|Vision|Penalties|Composure|Marking|StandingTackle|SlidingTackle|GKDiving|GKHandling|GKKicking|GKPositioning|GKReflexes|Release Clause(M)|\n",
            "+------+-----------------+---+--------------------+-----------+--------------------+-------+---------+-------------------+--------------------+--------+-------+-------+--------------+------------------------+---------+-----------+--------------+----------+---------+--------+-------------+------------+-----------+--------------------+------+----------+------+----------+--------+---------+---------------+------------+-------+---------+-----+----------+-----------+-----------+------------+-----------+-------+---------+-------+---------+-------+-------+--------+---------+----------+-------------+-----------+------+---------+---------+-------+--------------+-------------+--------+----------+---------+-------------+----------+-----------------+\n",
            "|158023|         L. Messi| 31|https://cdn.sofif...|  Argentina|https://cdn.sofif...|     94|       94|       FC Barcelona|https://cdn.sofif...|   110.5|    565|   2202|          Left|                       5|        4|          4|Medium/ Medium|     Messi|      Yes|      RF|           10| Jul 1, 2004|       null|                2021|   5.7|   173.736| 159.0| 72.121128|      84|       95|             70|          90|     86|       97|   93|        94|         87|         96|          91|         86|     91|       95|     95|       85|     68|     72|      59|       94|        48|           22|         94|    94|       75|       96|     33|            28|           26|       6|        11|       15|           14|         8|            226.5|\n",
            "| 20801|Cristiano Ronaldo| 33|https://cdn.sofif...|   Portugal|https://cdn.sofif...|     94|       94|           Juventus|https://cdn.sofif...|      77|    405|   2228|         Right|                       5|        4|          5|     High/ Low|C. Ronaldo|      Yes|      ST|            7|Jul 10, 2018|       null|                2022|   6.2|   188.976| 183.0| 83.007336|      84|       94|             89|          81|     87|       88|   81|        76|         77|         94|          89|         91|     87|       96|     70|       95|     95|     88|      79|       93|        63|           29|         95|    82|       85|       95|     28|            31|           23|       7|        11|       15|           14|        11|            127.1|\n",
            "|190871|        Neymar Jr| 26|https://cdn.sofif...|     Brazil|https://cdn.sofif...|     92|       93|Paris Saint-Germain|https://cdn.sofif...|   118.5|    290|   2143|         Right|                       5|        5|          5|  High/ Medium|    Neymar|      Yes|      LW|           10| Aug 3, 2017|       null|                2022|   5.9|   179.832| 150.0|   68.0388|      79|       87|             62|          84|     84|       96|   88|        87|         78|         95|          94|         90|     96|       94|     84|       80|     61|     81|      49|       82|        56|           36|         89|    87|       81|       94|     27|            24|           33|       9|         9|       15|           15|        11|            228.1|\n",
            "|193080|           De Gea| 27|https://cdn.sofif...|      Spain|https://cdn.sofif...|     91|       93|  Manchester United|https://cdn.sofif...|      72|    260|   1471|         Right|                       4|        3|          1|Medium/ Medium|      Lean|      Yes|      GK|            1| Jul 1, 2011|       null|                2020|   6.4|   195.072| 168.0| 76.203456|      17|       13|             21|          50|     13|       18|   21|        19|         51|         42|          57|         58|     60|       90|     43|       31|     67|     43|      64|       12|        38|           30|         12|    68|       40|       68|     15|            21|           13|      90|        85|       87|           88|        94|            138.6|\n",
            "|192985|     K. De Bruyne| 27|https://cdn.sofif...|    Belgium|https://cdn.sofif...|     91|       92|    Manchester City|https://cdn.sofif...|     102|    355|   2281|         Right|                       4|        5|          4|    High/ High|    Normal|      Yes|     RCM|            7|Aug 30, 2015|       null|                2023|  5.11|  155.7528| 154.0| 69.853168|      93|       82|             55|          92|     82|       86|   85|        83|         91|         91|          78|         76|     79|       91|     77|       91|     63|     90|      75|       91|        76|           61|         87|    94|       79|       88|     68|            58|           51|      15|        13|        5|           10|        13|            196.4|\n",
            "|183277|        E. Hazard| 27|https://cdn.sofif...|    Belgium|https://cdn.sofif...|     91|       91|            Chelsea|https://cdn.sofif...|      93|    340|   2142|         Right|                       4|        4|          4|  High/ Medium|    Normal|      Yes|      LF|           10| Jul 1, 2012|       null|                2020|   5.8|   176.784| 163.0| 73.935496|      81|       84|             61|          89|     80|       95|   83|        79|         83|         94|          94|         88|     95|       90|     94|       82|     56|     83|      66|       80|        54|           41|         87|    89|       86|       91|     34|            27|           22|      11|        12|        6|            8|         8|            172.1|\n",
            "|177003|        L. Modri?| 32|https://cdn.sofif...|    Croatia|https://cdn.sofif...|     91|       91|        Real Madrid|https://cdn.sofif...|      67|    420|   2280|         Right|                       4|        4|          4|    High/ High|      Lean|      Yes|     RCM|           10| Aug 1, 2012|       null|                2020|   5.8|   176.784| 146.0| 66.224432|      86|       72|             55|          93|     76|       90|   85|        78|         88|         93|          80|         72|     93|       90|     94|       79|     68|     89|      58|       82|        62|           83|         79|    92|       82|       84|     60|            76|           73|      13|         9|        7|           14|         9|            137.4|\n",
            "|176580|       L. Su��rez| 31|https://cdn.sofif...|    Uruguay|https://cdn.sofif...|     91|       91|       FC Barcelona|https://cdn.sofif...|      80|    455|   2346|         Right|                       5|        4|          3|  High/ Medium|    Normal|      Yes|      RS|            9|Jul 11, 2014|       null|                2021|   6.0|    182.88| 190.0|  86.18248|      77|       93|             77|          82|     88|       87|   86|        84|         64|         90|          86|         75|     82|       92|     83|       86|     69|     90|      83|       85|        87|           41|         92|    84|       85|       85|     62|            45|           38|      27|        25|       31|           33|        37|              164|\n",
            "|155862|     Sergio Ramos| 32|https://cdn.sofif...|      Spain|https://cdn.sofif...|     91|       91|        Real Madrid|https://cdn.sofif...|      51|    380|   2201|         Right|                       4|        3|          3|  High/ Medium|    Normal|      Yes|     RCB|           15| Aug 1, 2005|       null|                2020|   6.0|    182.88| 181.0| 82.100152|      66|       60|             91|          78|     66|       63|   74|        72|         77|         84|          76|         75|     78|       85|     66|       79|     93|     84|      83|       59|        88|           90|         60|    63|       75|       82|     87|            92|           91|      11|         8|        9|            7|        11|            104.6|\n",
            "|200389|         J. Oblak| 25|https://cdn.sofif...|   Slovenia|https://cdn.sofif...|     90|       93|   Atl��tico Madrid|https://cdn.sofif...|      68|     94|   1331|         Right|                       3|        3|          1|Medium/ Medium|    Normal|      Yes|      GK|            1|Jul 16, 2014|       null|                2021|   6.2|   188.976| 192.0| 87.089664|      13|       11|             15|          29|     13|       12|   13|        14|         26|         16|          43|         60|     67|       86|     49|       22|     76|     41|      78|       12|        34|           19|         11|    70|       11|       70|     27|            12|           18|      86|        92|       78|           88|        89|            144.5|\n",
            "|188545|   R. Lewandowski| 29|https://cdn.sofif...|     Poland|https://cdn.sofif...|     90|       90| FC Bayern M��nchen|https://cdn.sofif...|      77|    205|   2152|         Right|                       4|        4|          4|  High/ Medium|    Normal|      Yes|      ST|            9| Jul 1, 2014|       null|                2021|   6.0|    182.88| 176.0| 79.832192|      62|       91|             85|          83|     89|       85|   77|        86|         65|         89|          77|         78|     78|       90|     78|       88|     84|     78|      84|       84|        80|           39|         91|    77|       88|       86|     34|            42|           19|      15|         6|       12|            8|        10|            127.1|\n",
            "|182521|         T. Kroos| 28|https://cdn.sofif...|    Germany|https://cdn.sofif...|     90|       90|        Real Madrid|https://cdn.sofif...|    76.5|    355|   2190|         Right|                       4|        5|          3|Medium/ Medium|    Normal|      Yes|     LCM|            8|Jul 17, 2014|       null|                2022|   6.0|    182.88| 168.0| 76.203456|      88|       76|             54|          92|     82|       81|   86|        84|         93|         90|          64|         62|     70|       89|     71|       87|     30|     75|      73|       92|        60|           82|         79|    86|       73|       85|     72|            79|           69|      10|        11|       13|            7|        10|            156.8|\n",
            "|182493|        D. God��n| 32|https://cdn.sofif...|    Uruguay|https://cdn.sofif...|     90|       90|   Atl��tico Madrid|https://cdn.sofif...|      44|    125|   1946|         Right|                       3|        3|          2|  Medium/ High|      Lean|      Yes|      CB|           10| Aug 4, 2010|       null|                2019|   6.2|   188.976| 172.0| 78.017824|      55|       42|             92|          79|     47|       53|   49|        51|         70|         76|          68|         68|     58|       85|     54|       67|     91|     66|      88|       43|        89|           88|         48|    52|       50|       82|     90|            89|           89|       6|         8|       15|            5|        15|             90.2|\n",
            "|168542|      David Silva| 32|https://cdn.sofif...|      Spain|https://cdn.sofif...|     90|       90|    Manchester City|https://cdn.sofif...|      60|    285|   2115|          Left|                       4|        2|          4|  High/ Medium|    Normal|      Yes|     LCM|           21|Jul 14, 2010|       null|                2020|   5.8|   176.784| 148.0| 67.131616|      84|       76|             54|          93|     82|       89|   82|        77|         87|         94|          70|         64|     92|       90|     90|       72|     64|     78|      52|       75|        57|           50|         89|    92|       75|       93|     59|            53|           29|       6|        15|        7|            6|        12|              111|\n",
            "|215914|        N. Kant��| 27|https://cdn.sofif...|     France|https://cdn.sofif...|     89|       90|            Chelsea|https://cdn.sofif...|      63|    225|   2189|         Right|                       3|        3|          2|  Medium/ High|      Lean|      Yes|     LDM|           13|Jul 16, 2016|       null|                2023|   5.6|   170.688| 159.0| 72.121128|      68|       65|             54|          86|     56|       79|   49|        49|         81|         80|          82|         78|     82|       93|     92|       71|     77|     96|      76|       69|        90|           92|         71|    79|       54|       85|     90|            91|           85|      15|        12|       10|            7|        10|            121.3|\n",
            "|211110|        P. Dybala| 24|https://cdn.sofif...|  Argentina|https://cdn.sofif...|     89|       94|           Juventus|https://cdn.sofif...|      89|    205|   2092|          Left|                       3|        3|          4|  High/ Medium|    Normal|      Yes|      LF|           21| Jul 1, 2015|       null|                2022|   5.1|   155.448| 165.0|  74.84268|      82|       84|             68|          87|     88|       92|   88|        88|         75|         92|          87|         83|     91|       86|     85|       82|     75|     80|      65|       88|        48|           32|         84|    87|       86|       84|     23|            20|           20|       5|         4|        4|            5|         8|            153.5|\n",
            "|202126|          H. Kane| 24|https://cdn.sofif...|    England|https://cdn.sofif...|     89|       91|  Tottenham Hotspur|https://cdn.sofif...|    83.5|    205|   2165|         Right|                       3|        4|          3|    High/ High|    Normal|      Yes|      ST|            9| Jul 1, 2010|       null|                2024|   6.2|   188.976| 196.0| 88.904032|      75|       94|             85|          80|     84|       80|   78|        68|         82|         84|          68|         72|     71|       91|     71|       88|     78|     89|      84|       85|        76|           35|         93|    80|       90|       89|     56|            36|           38|       8|        10|       11|           14|        11|            160.7|\n",
            "|194765|     A. Griezmann| 27|https://cdn.sofif...|     France|https://cdn.sofif...|     89|       90|   Atl��tico Madrid|https://cdn.sofif...|      78|    145|   2246|          Left|                       4|        3|          4|    High/ High|      Lean|      Yes|     CAM|            7|Jul 28, 2014|       null|                2023|   5.9|   179.832| 161.0| 73.028312|      82|       90|             84|          83|     87|       88|   84|        78|         76|         90|          88|         85|     90|       90|     80|       80|     90|     83|      62|       82|        69|           35|         91|    83|       79|       87|     59|            47|           48|      14|         8|       14|           13|        14|            165.8|\n",
            "|192448|    M. ter Stegen| 26|https://cdn.sofif...|    Germany|https://cdn.sofif...|     89|       92|       FC Barcelona|https://cdn.sofif...|      58|    240|   1328|         Right|                       3|        4|          1|Medium/ Medium|    Normal|      Yes|      GK|           22| Jul 1, 2014|       null|                2022|   6.2|   188.976| 187.0| 84.821704|      15|       14|             11|          36|     14|       17|   18|        12|         42|         18|          38|         50|     37|       85|     43|       22|     79|     35|      79|       10|        43|           22|         11|    69|       25|       69|     25|            13|           10|      87|        85|       88|           85|        90|            123.3|\n",
            "|192119|      T. Courtois| 26|https://cdn.sofif...|    Belgium|https://cdn.sofif...|     89|       90|        Real Madrid|https://cdn.sofif...|    53.5|    240|   1311|          Left|                       4|        2|          1|Medium/ Medium|  Courtois|      Yes|      GK|            1| Aug 9, 2018|       null|                2024|   6.6|   201.168| 212.0| 96.161504|      14|       14|             13|          33|     12|       13|   19|        20|         35|         23|          46|         52|     61|       84|     45|       36|     68|     38|      70|       17|        23|           15|         13|    44|       27|       66|     20|            18|           16|      85|        91|       72|           86|        88|            113.7|\n",
            "+------+-----------------+---+--------------------+-----------+--------------------+-------+---------+-------------------+--------------------+--------+-------+-------+--------------+------------------------+---------+-----------+--------------+----------+---------+--------+-------------+------------+-----------+--------------------+------+----------+------+----------+--------+---------+---------------+------------+-------+---------+-----+----------+-----------+-----------+------------+-----------+-------+---------+-------+---------+-------+-------+--------+---------+----------+-------------+-----------+------+---------+---------+-------+--------------+-------------+--------+----------+---------+-------------+----------+-----------------+\n",
            "only showing top 20 rows\n",
            "\n"
          ],
          "name": "stdout"
        }
      ]
    },
    {
      "cell_type": "markdown",
      "metadata": {
        "colab_type": "text",
        "id": "2sXsdZ2wbrAg"
      },
      "source": [
        "****\n",
        "\n",
        "\n",
        "<div class=\"alert alert-block alert-info\">\n",
        "\n",
        "**Code**: \n",
        "    Check statistics (min, mean and max) for features on Age, Overall. Then find out the Avg Overall on Position, Avg Overall on Nationality (Sort by avg Overall on Nationality)\n",
        "\n",
        "<div class=\"alert alert-block alert-warning\">\n",
        "    \n",
        "**Report**: \n",
        "    **1.1.A** Please answer questions with proper section title  '1.1.A':     \n",
        "    <ol>\n",
        "        <li> Which are the (min, mean and max) for Age </li>\n",
        "        <li> Which are the (min, mean and max) for Overall </li>\n",
        "        <li> Find the position having highest Avg Overall (sort Avg Overall by position) </li>\n",
        "        <li> Find the top 3 countries with highest Avg Overall (sort Avg Overall by countries)  </li>\n",
        "    </ol>\n",
        "</div>\n",
        "</div>"
      ]
    },
    {
      "cell_type": "code",
      "metadata": {
        "colab_type": "code",
        "id": "mdWVric-aY-h",
        "outputId": "ab759b34-fed7-4101-e1e7-44f08d96280a",
        "colab": {
          "base_uri": "https://localhost:8080/",
          "height": 123
        }
      },
      "source": [
        "from pyspark.sql import functions as F\n",
        "\n",
        "\n",
        "df.agg(F.avg(F.col(\"Age\")), F.min(F.col(\"Age\")), F.max(F.col(\"Age\"))).show()\n"
      ],
      "execution_count": 61,
      "outputs": [
        {
          "output_type": "stream",
          "text": [
            "+------------------+--------+--------+\n",
            "|          avg(Age)|min(Age)|max(Age)|\n",
            "+------------------+--------+--------+\n",
            "|25.122205745043114|      16|      45|\n",
            "+------------------+--------+--------+\n",
            "\n"
          ],
          "name": "stdout"
        }
      ]
    },
    {
      "cell_type": "code",
      "metadata": {
        "colab_type": "code",
        "id": "-KMLB3sAfkpK",
        "outputId": "25b64253-158a-42f9-9a40-55fc227b4aee",
        "colab": {
          "base_uri": "https://localhost:8080/",
          "height": 123
        }
      },
      "source": [
        "df.agg(F.min(F.col(\"Overall\")), F.avg(F.col(\"Overall\")), F.max(F.col(\"Overall\"))).show()"
      ],
      "execution_count": 62,
      "outputs": [
        {
          "output_type": "stream",
          "text": [
            "+------------+-----------------+------------+\n",
            "|min(Overall)|     avg(Overall)|max(Overall)|\n",
            "+------------+-----------------+------------+\n",
            "|          46|66.23869940132916|          94|\n",
            "+------------+-----------------+------------+\n",
            "\n"
          ],
          "name": "stdout"
        }
      ]
    },
    {
      "cell_type": "code",
      "metadata": {
        "colab_type": "code",
        "id": "S4SMaNc4gX3E",
        "outputId": "b6585b39-79b2-4c8b-92e7-7dd251510d5d",
        "colab": {
          "base_uri": "https://localhost:8080/",
          "height": 141
        }
      },
      "source": [
        "df.groupby(\"Position\").agg(F.avg(F.col(\"Overall\"))).sort(\"avg(Overall)\", ascending = False).show(1)\n",
        "\n",
        "\n"
      ],
      "execution_count": 63,
      "outputs": [
        {
          "output_type": "stream",
          "text": [
            "+--------+-----------------+\n",
            "|Position|     avg(Overall)|\n",
            "+--------+-----------------+\n",
            "|      LF|73.86666666666666|\n",
            "+--------+-----------------+\n",
            "only showing top 1 row\n",
            "\n"
          ],
          "name": "stdout"
        }
      ]
    },
    {
      "cell_type": "code",
      "metadata": {
        "colab_type": "code",
        "id": "B6PYyigEjZwI",
        "outputId": "e0018b66-fec3-4c1a-f673-ff6b892f5db6",
        "colab": {
          "base_uri": "https://localhost:8080/",
          "height": 176
        }
      },
      "source": [
        "df.groupby(\"Nationality\").agg(F.avg(F.col(\"Overall\"))).sort(\"avg(Overall)\", ascending = False).show(3)\n",
        "\n",
        "\n"
      ],
      "execution_count": 64,
      "outputs": [
        {
          "output_type": "stream",
          "text": [
            "+--------------------+-----------------+\n",
            "|         Nationality|     avg(Overall)|\n",
            "+--------------------+-----------------+\n",
            "|United Arab Emirates|             77.0|\n",
            "|Central African Rep.|73.33333333333333|\n",
            "|              Israel|72.14285714285714|\n",
            "+--------------------+-----------------+\n",
            "only showing top 3 rows\n",
            "\n"
          ],
          "name": "stdout"
        }
      ]
    },
    {
      "cell_type": "markdown",
      "metadata": {
        "colab_type": "text",
        "id": "kT8OESOsmQfv"
      },
      "source": [
        "****\n",
        "\n",
        "<div class=\"alert alert-block alert-info\">\n",
        "\n",
        "**Code**: \n",
        "    You are required to find out the Avg Potentials on Country by Positions, and show the top 10 by ordering your results on Country with alphabet? (Hint: you may need to use pivot)\n",
        "\n",
        "<div class=\"alert alert-block alert-warning\">\n",
        "    \n",
        "**Report**: \n",
        "    **1.1.B** Please answer questions with proper section title  '1.1.B':     \n",
        "    <ol>\n",
        "        <li> Show the results on Avg Potentials on Country by Position with ordering the results on country by alphabet</li>\n",
        "        <li> Find position having highest Avg Potential for Australia </li>\n",
        "    </ol>\n",
        "    \n",
        "</div>\n",
        "</div>"
      ]
    },
    {
      "cell_type": "code",
      "metadata": {
        "colab_type": "code",
        "id": "R1RsTYgImPFD",
        "outputId": "c16ca32d-0647-420d-bb14-399e5cb9153e",
        "colab": {
          "base_uri": "https://localhost:8080/",
          "height": 301
        }
      },
      "source": [
        "#Your code for the results on Avg Potentials on Country by Position with ordering the results on country by alphabet (show top 10)\n",
        "df3 = df.groupby(\"Nationality\",\"Position\").agg(F.avg(F.col(\"Potential\"))).orderBy([\"avg(Potential)\", \"Nationality\"], ascending = [False,True])\n",
        "\n",
        "df3_filtered = df3.show(10)\n",
        "\n",
        "\n",
        "#Need to amend code to sort by Nationality\n",
        "\n",
        "\n",
        "\n",
        "\n"
      ],
      "execution_count": 65,
      "outputs": [
        {
          "output_type": "stream",
          "text": [
            "+--------------------+--------+-----------------+\n",
            "|         Nationality|Position|   avg(Potential)|\n",
            "+--------------------+--------+-----------------+\n",
            "|              Poland|      CF|             88.0|\n",
            "|           Argentina|      RF|             87.0|\n",
            "|            Slovakia|     LCM|             87.0|\n",
            "|             Belgium|      LF|             86.0|\n",
            "|             Morocco|     RAM|             86.0|\n",
            "|              Russia|     LDM|             86.0|\n",
            "|              Serbia|      LS|             86.0|\n",
            "|               Wales|     LDM|             86.0|\n",
            "|             Croatia|     LCM|85.33333333333333|\n",
            "|Central African Rep.|      CM|             85.0|\n",
            "+--------------------+--------+-----------------+\n",
            "only showing top 10 rows\n",
            "\n"
          ],
          "name": "stdout"
        }
      ]
    },
    {
      "cell_type": "code",
      "metadata": {
        "id": "lKuDN0rwMuhv",
        "colab_type": "code",
        "colab": {
          "base_uri": "https://localhost:8080/",
          "height": 141
        },
        "outputId": "0e4af133-1639-4301-bcc2-964fe25dca18"
      },
      "source": [
        "#Your Code to identify the position having highest Avg Potential for Australia\n",
        "\n",
        "df.filter(df.Nationality == 'Australia').groupby(\"Position\").agg(F.avg(F.col(\"Potential\"))).orderBy(\"avg(Potential)\", ascending = False).show(1)\n"
      ],
      "execution_count": 66,
      "outputs": [
        {
          "output_type": "stream",
          "text": [
            "+--------+--------------+\n",
            "|Position|avg(Potential)|\n",
            "+--------+--------------+\n",
            "|     RDM|          77.0|\n",
            "+--------+--------------+\n",
            "only showing top 1 row\n",
            "\n"
          ],
          "name": "stdout"
        }
      ]
    },
    {
      "cell_type": "markdown",
      "metadata": {
        "colab_type": "text",
        "id": "lGWtR6Ast7o8"
      },
      "source": [
        "Interesting, is there a age that the player is fully released his potential? If there is, could you find out?\n",
        "\n",
        "****\n",
        "\n",
        "<div class=\"alert alert-block alert-info\">\n",
        "\n",
        "**Code**: \n",
        "    You are required to plot the finding visually by having Age as the x-axis and avg potential on age with avg overall on age at y-axis. (Hint: you may need to select and aggregate on data first and then turn it into pandas for plotting)\n",
        "\n",
        "<div class=\"alert alert-block alert-warning\">\n",
        "    \n",
        "**Report**: \n",
        "    **1.1.C** Please include the following plot into your report with proper section title  '1.1.C':     \n",
        "    <ol>\n",
        "        <li> Plot the finding visually by having Age as the x-axis; the avg potential on age and the avg overall on age at y-axis. </li>\n",
        "        <li> Find the age when the players are fully released their potential in general?\n",
        "    </ol>\n",
        "    \n",
        "</div>\n",
        "</div>"
      ]
    },
    {
      "cell_type": "markdown",
      "metadata": {
        "id": "6HeG9A-OwmvJ",
        "colab_type": "text"
      },
      "source": [
        ""
      ]
    },
    {
      "cell_type": "code",
      "metadata": {
        "colab_type": "code",
        "id": "mRvkk376u-dE",
        "colab": {}
      },
      "source": [
        "import matplotlib.pyplot as plt\n",
        "import numpy as np\n",
        "import pandas as pd\n",
        "\n",
        "\n",
        "\n",
        "\n",
        "\n"
      ],
      "execution_count": 0,
      "outputs": []
    },
    {
      "cell_type": "markdown",
      "metadata": {
        "colab_type": "text",
        "id": "gMqIOge42NI7"
      },
      "source": [
        "## Part 2 - Unsupervised Learning: Kmeans\n",
        "\n",
        "<a id=\"kmeans\"></a>\n",
        "***\n",
        "\n",
        "In this part, you are required to build a Kmeans clustering for exploring the player segmentation. \n",
        "\n",
        "\n",
        "### 2.1 Data Preparation\n",
        "\n",
        "*Remind: You must only use **pyspark** to complete the following data processing and model building. Otherwise, you lose all marks.*"
      ]
    },
    {
      "cell_type": "markdown",
      "metadata": {
        "colab_type": "text",
        "id": "eHi1rU4p-6wK"
      },
      "source": [
        "\n",
        "****\n",
        "\n",
        "<div class=\"alert alert-block alert-info\">\n",
        "\n",
        "**Code**: \n",
        "    You will need to remove the Goal Keepers (Position = 'GK') and use the position attribute, ID attribute (for later processing) and skill-set attributes (Height(CM),\n",
        "Weight(KG),\n",
        "Crossing,\n",
        "Finishing,\n",
        "HeadingAccuracy,\n",
        "ShortPassing,\n",
        "Volleys,\n",
        "Dribbling,\n",
        "Curve,\n",
        "FKAccuracy,\n",
        "LongPassing,\n",
        "BallControl,\n",
        "Acceleration,\n",
        "SprintSpeed,\n",
        "Agility,\n",
        "Reactions,\n",
        "Balance,\n",
        "ShotPower,\n",
        "Jumping,\n",
        "Stamina,\n",
        "Strength,\n",
        "LongShots,\n",
        "Aggression,\n",
        "Interceptions,\n",
        "Positioning,\n",
        "Vision,\n",
        "Penalties,\n",
        "Composure,\n",
        "Marking,\n",
        "StandingTackle,\n",
        "SlidingTackle) \n",
        "\n",
        "</div>\n",
        "\n"
      ]
    },
    {
      "cell_type": "code",
      "metadata": {
        "colab_type": "code",
        "id": "X2LHjTMv3w_7",
        "outputId": "dc0ea6dc-060f-4e5b-a97e-be0e522be0f9",
        "colab": {
          "base_uri": "https://localhost:8080/",
          "height": 498
        }
      },
      "source": [
        "# Your code to select relevant features and filter the data by removing the GK\n",
        "\n",
        "df_filtered = df.filter(df.Position != 'GK')\n",
        "\n",
        "df2 = df_filtered.select('ID','Position','Height(CM)', 'Weight(KG)', 'Crossing', 'Finishing', 'HeadingAccuracy', 'ShortPassing', 'Volleys', 'Dribbling', 'Curve', 'FKAccuracy', 'LongPassing', 'BallControl', 'Acceleration', 'SprintSpeed', 'Agility', 'Reactions', 'Balance', 'ShotPower', 'Jumping', 'Stamina', 'Strength', 'LongShots', 'Aggression', 'Interceptions', 'Positioning', 'Vision', 'Penalties', 'Composure', 'Marking', 'StandingTackle', 'SlidingTackle')\n",
        "\n",
        "df2.show()"
      ],
      "execution_count": 68,
      "outputs": [
        {
          "output_type": "stream",
          "text": [
            "+------+--------+----------+----------+--------+---------+---------------+------------+-------+---------+-----+----------+-----------+-----------+------------+-----------+-------+---------+-------+---------+-------+-------+--------+---------+----------+-------------+-----------+------+---------+---------+-------+--------------+-------------+\n",
            "|    ID|Position|Height(CM)|Weight(KG)|Crossing|Finishing|HeadingAccuracy|ShortPassing|Volleys|Dribbling|Curve|FKAccuracy|LongPassing|BallControl|Acceleration|SprintSpeed|Agility|Reactions|Balance|ShotPower|Jumping|Stamina|Strength|LongShots|Aggression|Interceptions|Positioning|Vision|Penalties|Composure|Marking|StandingTackle|SlidingTackle|\n",
            "+------+--------+----------+----------+--------+---------+---------------+------------+-------+---------+-----+----------+-----------+-----------+------------+-----------+-------+---------+-------+---------+-------+-------+--------+---------+----------+-------------+-----------+------+---------+---------+-------+--------------+-------------+\n",
            "|158023|      RF|   173.736| 72.121128|      84|       95|             70|          90|     86|       97|   93|        94|         87|         96|          91|         86|     91|       95|     95|       85|     68|     72|      59|       94|        48|           22|         94|    94|       75|       96|     33|            28|           26|\n",
            "| 20801|      ST|   188.976| 83.007336|      84|       94|             89|          81|     87|       88|   81|        76|         77|         94|          89|         91|     87|       96|     70|       95|     95|     88|      79|       93|        63|           29|         95|    82|       85|       95|     28|            31|           23|\n",
            "|190871|      LW|   179.832|   68.0388|      79|       87|             62|          84|     84|       96|   88|        87|         78|         95|          94|         90|     96|       94|     84|       80|     61|     81|      49|       82|        56|           36|         89|    87|       81|       94|     27|            24|           33|\n",
            "|192985|     RCM|  155.7528| 69.853168|      93|       82|             55|          92|     82|       86|   85|        83|         91|         91|          78|         76|     79|       91|     77|       91|     63|     90|      75|       91|        76|           61|         87|    94|       79|       88|     68|            58|           51|\n",
            "|183277|      LF|   176.784| 73.935496|      81|       84|             61|          89|     80|       95|   83|        79|         83|         94|          94|         88|     95|       90|     94|       82|     56|     83|      66|       80|        54|           41|         87|    89|       86|       91|     34|            27|           22|\n",
            "|177003|     RCM|   176.784| 66.224432|      86|       72|             55|          93|     76|       90|   85|        78|         88|         93|          80|         72|     93|       90|     94|       79|     68|     89|      58|       82|        62|           83|         79|    92|       82|       84|     60|            76|           73|\n",
            "|176580|      RS|    182.88|  86.18248|      77|       93|             77|          82|     88|       87|   86|        84|         64|         90|          86|         75|     82|       92|     83|       86|     69|     90|      83|       85|        87|           41|         92|    84|       85|       85|     62|            45|           38|\n",
            "|155862|     RCB|    182.88| 82.100152|      66|       60|             91|          78|     66|       63|   74|        72|         77|         84|          76|         75|     78|       85|     66|       79|     93|     84|      83|       59|        88|           90|         60|    63|       75|       82|     87|            92|           91|\n",
            "|188545|      ST|    182.88| 79.832192|      62|       91|             85|          83|     89|       85|   77|        86|         65|         89|          77|         78|     78|       90|     78|       88|     84|     78|      84|       84|        80|           39|         91|    77|       88|       86|     34|            42|           19|\n",
            "|182521|     LCM|    182.88| 76.203456|      88|       76|             54|          92|     82|       81|   86|        84|         93|         90|          64|         62|     70|       89|     71|       87|     30|     75|      73|       92|        60|           82|         79|    86|       73|       85|     72|            79|           69|\n",
            "|182493|      CB|   188.976| 78.017824|      55|       42|             92|          79|     47|       53|   49|        51|         70|         76|          68|         68|     58|       85|     54|       67|     91|     66|      88|       43|        89|           88|         48|    52|       50|       82|     90|            89|           89|\n",
            "|168542|     LCM|   176.784| 67.131616|      84|       76|             54|          93|     82|       89|   82|        77|         87|         94|          70|         64|     92|       90|     90|       72|     64|     78|      52|       75|        57|           50|         89|    92|       75|       93|     59|            53|           29|\n",
            "|215914|     LDM|   170.688| 72.121128|      68|       65|             54|          86|     56|       79|   49|        49|         81|         80|          82|         78|     82|       93|     92|       71|     77|     96|      76|       69|        90|           92|         71|    79|       54|       85|     90|            91|           85|\n",
            "|211110|      LF|   155.448|  74.84268|      82|       84|             68|          87|     88|       92|   88|        88|         75|         92|          87|         83|     91|       86|     85|       82|     75|     80|      65|       88|        48|           32|         84|    87|       86|       84|     23|            20|           20|\n",
            "|202126|      ST|   188.976| 88.904032|      75|       94|             85|          80|     84|       80|   78|        68|         82|         84|          68|         72|     71|       91|     71|       88|     78|     89|      84|       85|        76|           35|         93|    80|       90|       89|     56|            36|           38|\n",
            "|194765|     CAM|   179.832| 73.028312|      82|       90|             84|          83|     87|       88|   84|        78|         76|         90|          88|         85|     90|       90|     80|       80|     90|     83|      62|       82|        69|           35|         91|    83|       79|       87|     59|            47|           48|\n",
            "|189511|     CDM|   188.976| 76.203456|      62|       67|             68|          89|     44|       80|   66|        68|         82|         88|          50|         52|     66|       87|     52|       61|     66|     86|      77|       54|        85|           87|         77|    87|       60|       90|     90|            86|           80|\n",
            "|179813|      LS|   185.928|  77.11064|      70|       89|             89|          78|     90|       80|   77|        76|         52|         82|          75|         76|     77|       91|     59|       87|     88|     92|      78|       79|        84|           48|         93|    77|       85|       82|     52|            45|           39|\n",
            "|153079|      ST|   176.784| 69.853168|      70|       93|             77|          81|     85|       89|   82|        73|         64|         89|          88|         80|     86|       90|     91|       88|     81|     76|      73|       83|        65|           24|         92|    83|       83|       90|     30|            20|           12|\n",
            "|138956|     LCB|   188.976| 84.821704|      58|       33|             83|          59|     45|       58|   60|        31|         59|         57|          63|         75|     54|       82|     55|       78|     89|     65|      89|       49|        92|           88|         28|    50|       50|       84|     93|            93|           90|\n",
            "+------+--------+----------+----------+--------+---------+---------------+------------+-------+---------+-----+----------+-----------+-----------+------------+-----------+-------+---------+-------+---------+-------+-------+--------+---------+----------+-------------+-----------+------+---------+---------+-------+--------------+-------------+\n",
            "only showing top 20 rows\n",
            "\n"
          ],
          "name": "stdout"
        }
      ]
    },
    {
      "cell_type": "markdown",
      "metadata": {
        "colab_type": "text",
        "id": "kVLBzBId9iCk"
      },
      "source": [
        "To make the later stage easier, we define the position group by using the position feature (attributes on Position).\n",
        "- DEF = [LB,LWB,RB,LCB,RCB,CB,RWB] ,\n",
        "- FWD = [RF,LF,LW,RS,RW,LS,CF,ST] ,\n",
        "- MID = [LCM,LM,RDM,CAM,RAM,RCM,CM,CDM,RM,LAM,LDM]\n",
        "\n",
        "****\n",
        "\n",
        "<div class=\"alert alert-block alert-info\">\n",
        "\n",
        "**Code**: \n",
        "    You are required to create a new column called Position_Group with only DEF/FWD/MID in the dataframe you created in previous question\n",
        "\n",
        "</div>\n",
        "\n",
        "</div>"
      ]
    },
    {
      "cell_type": "code",
      "metadata": {
        "colab_type": "code",
        "id": "X4N6edcq5kE_",
        "outputId": "cacdf4bd-f749-4766-c688-7e9b3bf1ee56",
        "colab": {
          "base_uri": "https://localhost:8080/",
          "height": 498
        }
      },
      "source": [
        "from pyspark.sql.functions import when,col\n",
        "\n",
        "# Your code to complete\n",
        "DEF = {'LB', 'LWB', 'RB', 'LCB', 'RCB', 'CB', 'RWB'}\n",
        "FWD = {'RF', 'LF', 'LW', 'RS', 'RW', 'LS', 'CF', 'ST'}\n",
        "MID = {'LCM', 'LM', 'RDM', 'CAM', 'RAM','RCM', 'CM', 'CDM', 'RM', 'LAM', 'LDM'}\n",
        "\n",
        "\n",
        "\n",
        "# Your code here to create a new variable df_kmeans_new with a new column Position_Group, ..\n",
        "\n",
        "\n",
        "df_kmeans_new = df2.withColumn('Position_Group', when(col(\"Position\").isin(DEF), \"DEF\").when(col(\"Position\").isin(FWD), \"FWD\").when(col(\"Position\").isin(MID), \"MID\").otherwise(0))\n",
        "\n",
        "df_kmeans_new.show()\n",
        "\n"
      ],
      "execution_count": 69,
      "outputs": [
        {
          "output_type": "stream",
          "text": [
            "+------+--------+----------+----------+--------+---------+---------------+------------+-------+---------+-----+----------+-----------+-----------+------------+-----------+-------+---------+-------+---------+-------+-------+--------+---------+----------+-------------+-----------+------+---------+---------+-------+--------------+-------------+--------------+\n",
            "|    ID|Position|Height(CM)|Weight(KG)|Crossing|Finishing|HeadingAccuracy|ShortPassing|Volleys|Dribbling|Curve|FKAccuracy|LongPassing|BallControl|Acceleration|SprintSpeed|Agility|Reactions|Balance|ShotPower|Jumping|Stamina|Strength|LongShots|Aggression|Interceptions|Positioning|Vision|Penalties|Composure|Marking|StandingTackle|SlidingTackle|Position_Group|\n",
            "+------+--------+----------+----------+--------+---------+---------------+------------+-------+---------+-----+----------+-----------+-----------+------------+-----------+-------+---------+-------+---------+-------+-------+--------+---------+----------+-------------+-----------+------+---------+---------+-------+--------------+-------------+--------------+\n",
            "|158023|      RF|   173.736| 72.121128|      84|       95|             70|          90|     86|       97|   93|        94|         87|         96|          91|         86|     91|       95|     95|       85|     68|     72|      59|       94|        48|           22|         94|    94|       75|       96|     33|            28|           26|           FWD|\n",
            "| 20801|      ST|   188.976| 83.007336|      84|       94|             89|          81|     87|       88|   81|        76|         77|         94|          89|         91|     87|       96|     70|       95|     95|     88|      79|       93|        63|           29|         95|    82|       85|       95|     28|            31|           23|           FWD|\n",
            "|190871|      LW|   179.832|   68.0388|      79|       87|             62|          84|     84|       96|   88|        87|         78|         95|          94|         90|     96|       94|     84|       80|     61|     81|      49|       82|        56|           36|         89|    87|       81|       94|     27|            24|           33|           FWD|\n",
            "|192985|     RCM|  155.7528| 69.853168|      93|       82|             55|          92|     82|       86|   85|        83|         91|         91|          78|         76|     79|       91|     77|       91|     63|     90|      75|       91|        76|           61|         87|    94|       79|       88|     68|            58|           51|           MID|\n",
            "|183277|      LF|   176.784| 73.935496|      81|       84|             61|          89|     80|       95|   83|        79|         83|         94|          94|         88|     95|       90|     94|       82|     56|     83|      66|       80|        54|           41|         87|    89|       86|       91|     34|            27|           22|           FWD|\n",
            "|177003|     RCM|   176.784| 66.224432|      86|       72|             55|          93|     76|       90|   85|        78|         88|         93|          80|         72|     93|       90|     94|       79|     68|     89|      58|       82|        62|           83|         79|    92|       82|       84|     60|            76|           73|           MID|\n",
            "|176580|      RS|    182.88|  86.18248|      77|       93|             77|          82|     88|       87|   86|        84|         64|         90|          86|         75|     82|       92|     83|       86|     69|     90|      83|       85|        87|           41|         92|    84|       85|       85|     62|            45|           38|           FWD|\n",
            "|155862|     RCB|    182.88| 82.100152|      66|       60|             91|          78|     66|       63|   74|        72|         77|         84|          76|         75|     78|       85|     66|       79|     93|     84|      83|       59|        88|           90|         60|    63|       75|       82|     87|            92|           91|           DEF|\n",
            "|188545|      ST|    182.88| 79.832192|      62|       91|             85|          83|     89|       85|   77|        86|         65|         89|          77|         78|     78|       90|     78|       88|     84|     78|      84|       84|        80|           39|         91|    77|       88|       86|     34|            42|           19|           FWD|\n",
            "|182521|     LCM|    182.88| 76.203456|      88|       76|             54|          92|     82|       81|   86|        84|         93|         90|          64|         62|     70|       89|     71|       87|     30|     75|      73|       92|        60|           82|         79|    86|       73|       85|     72|            79|           69|           MID|\n",
            "|182493|      CB|   188.976| 78.017824|      55|       42|             92|          79|     47|       53|   49|        51|         70|         76|          68|         68|     58|       85|     54|       67|     91|     66|      88|       43|        89|           88|         48|    52|       50|       82|     90|            89|           89|           DEF|\n",
            "|168542|     LCM|   176.784| 67.131616|      84|       76|             54|          93|     82|       89|   82|        77|         87|         94|          70|         64|     92|       90|     90|       72|     64|     78|      52|       75|        57|           50|         89|    92|       75|       93|     59|            53|           29|           MID|\n",
            "|215914|     LDM|   170.688| 72.121128|      68|       65|             54|          86|     56|       79|   49|        49|         81|         80|          82|         78|     82|       93|     92|       71|     77|     96|      76|       69|        90|           92|         71|    79|       54|       85|     90|            91|           85|           MID|\n",
            "|211110|      LF|   155.448|  74.84268|      82|       84|             68|          87|     88|       92|   88|        88|         75|         92|          87|         83|     91|       86|     85|       82|     75|     80|      65|       88|        48|           32|         84|    87|       86|       84|     23|            20|           20|           FWD|\n",
            "|202126|      ST|   188.976| 88.904032|      75|       94|             85|          80|     84|       80|   78|        68|         82|         84|          68|         72|     71|       91|     71|       88|     78|     89|      84|       85|        76|           35|         93|    80|       90|       89|     56|            36|           38|           FWD|\n",
            "|194765|     CAM|   179.832| 73.028312|      82|       90|             84|          83|     87|       88|   84|        78|         76|         90|          88|         85|     90|       90|     80|       80|     90|     83|      62|       82|        69|           35|         91|    83|       79|       87|     59|            47|           48|           MID|\n",
            "|189511|     CDM|   188.976| 76.203456|      62|       67|             68|          89|     44|       80|   66|        68|         82|         88|          50|         52|     66|       87|     52|       61|     66|     86|      77|       54|        85|           87|         77|    87|       60|       90|     90|            86|           80|           MID|\n",
            "|179813|      LS|   185.928|  77.11064|      70|       89|             89|          78|     90|       80|   77|        76|         52|         82|          75|         76|     77|       91|     59|       87|     88|     92|      78|       79|        84|           48|         93|    77|       85|       82|     52|            45|           39|           FWD|\n",
            "|153079|      ST|   176.784| 69.853168|      70|       93|             77|          81|     85|       89|   82|        73|         64|         89|          88|         80|     86|       90|     91|       88|     81|     76|      73|       83|        65|           24|         92|    83|       83|       90|     30|            20|           12|           FWD|\n",
            "|138956|     LCB|   188.976| 84.821704|      58|       33|             83|          59|     45|       58|   60|        31|         59|         57|          63|         75|     54|       82|     55|       78|     89|     65|      89|       49|        92|           88|         28|    50|       50|       84|     93|            93|           90|           DEF|\n",
            "+------+--------+----------+----------+--------+---------+---------------+------------+-------+---------+-----+----------+-----------+-----------+------------+-----------+-------+---------+-------+---------+-------+-------+--------+---------+----------+-------------+-----------+------+---------+---------+-------+--------------+-------------+--------------+\n",
            "only showing top 20 rows\n",
            "\n"
          ],
          "name": "stdout"
        }
      ]
    },
    {
      "cell_type": "markdown",
      "metadata": {
        "colab_type": "text",
        "id": "R-NyFp7IBtGZ"
      },
      "source": [
        "Now, we remove the Position_Group and Position to create the feature for Kmeans\n",
        "\n",
        "\n"
      ]
    },
    {
      "cell_type": "code",
      "metadata": {
        "colab_type": "code",
        "id": "2x_o_w54B-mN",
        "outputId": "7dd4720b-d76b-4968-a5f5-403314963110",
        "colab": {
          "base_uri": "https://localhost:8080/",
          "height": 176
        }
      },
      "source": [
        "from pyspark.ml.clustering import KMeans\n",
        "from pyspark.ml.feature import VectorAssembler\n",
        "\n",
        "FEATURES_COL = ['Height(CM)', 'Weight(KG)', \n",
        "                      'Crossing', 'Finishing', 'HeadingAccuracy', \n",
        "                      'ShortPassing', 'Volleys', 'Dribbling', 'Curve',\n",
        "                      'FKAccuracy', 'LongPassing', 'BallControl', \n",
        "                      'Acceleration', 'SprintSpeed', 'Agility', \n",
        "                      'Reactions', 'Balance', 'ShotPower', 'Jumping', \n",
        "                      'Stamina', 'Strength', 'LongShots', 'Aggression', \n",
        "                      'Interceptions', 'Positioning', 'Vision', 'Penalties', \n",
        "                      'Composure', 'Marking', 'StandingTackle', 'SlidingTackle']\n",
        "\n",
        "# Set columns to float values (numeric) for Vec Assembler to vectorize\n",
        "for i in df_kmeans_new.columns:\n",
        "    if i in FEATURES_COL:\n",
        "        df_kmeans_new = df_kmeans_new.withColumn(\n",
        "            i, df_kmeans_new[i].cast('float'))\n",
        "\n",
        "vecAssembler = VectorAssembler(inputCols=FEATURES_COL, outputCol=\"features\")\n",
        "df_kmeans_ = vecAssembler.transform(df_kmeans_new).select('ID','features')\n",
        "df_kmeans_.show(3)"
      ],
      "execution_count": 70,
      "outputs": [
        {
          "output_type": "stream",
          "text": [
            "+------+--------------------+\n",
            "|    ID|            features|\n",
            "+------+--------------------+\n",
            "|158023|[173.735992431640...|\n",
            "| 20801|[188.975997924804...|\n",
            "|190871|[179.832000732421...|\n",
            "+------+--------------------+\n",
            "only showing top 3 rows\n",
            "\n"
          ],
          "name": "stdout"
        }
      ]
    },
    {
      "cell_type": "markdown",
      "metadata": {
        "colab_type": "text",
        "id": "UniVGeYIDa_k"
      },
      "source": [
        "Now in order to evaluate your Kmeans Model, please plot the elbow plot\n",
        "\n",
        "\n",
        "<div class=\"alert alert-block alert-info\">\n",
        "\n",
        "**Code**: \n",
        "    You are required to plot the elbow plot, with a varying K from 2 to 20.\n",
        "\n",
        "<div class=\"alert alert-block alert-warning\">\n",
        "    \n",
        "**Report**: \n",
        "    **2.1** In your report with proper section title  '2.1', Please include the elbow plot. \n",
        "\n",
        "</div>\n",
        "</div>\n",
        "\n"
      ]
    },
    {
      "cell_type": "code",
      "metadata": {
        "colab_type": "code",
        "id": "UDia7JYyDLhg",
        "colab": {}
      },
      "source": [
        "import matplotlib.pyplot as plt\n",
        "import numpy as np\n",
        "import pandas as pd\n",
        "from pyspark.ml.feature import StandardScaler\n",
        "\n",
        "cost = np.zeros(20)\n",
        "\n",
        "# Your code\n",
        "\n",
        "for k in range(2, 20):\n",
        "    kmeans = KMeans().setK(k).setSeed(1)\n",
        "    model = kmeans.fit(df_kmeans_)\n",
        "    cost[k] = model.computeCost(df_kmeans_)\n"
      ],
      "execution_count": 0,
      "outputs": []
    },
    {
      "cell_type": "code",
      "metadata": {
        "colab_type": "code",
        "id": "Mr-bSnj5EA1l",
        "outputId": "232ca278-db2d-4024-adb3-697e0836af1f",
        "colab": {
          "base_uri": "https://localhost:8080/",
          "height": 404
        }
      },
      "source": [
        "from matplotlib.ticker import MaxNLocator\n",
        "\n",
        "# Elbow Plot\n",
        "fig, ax = plt.subplots(1, 1, figsize=(8,6))\n",
        "ax.plot(range(2,20),cost[2:20])\n",
        "ax.set_xlabel('k')\n",
        "ax.set_ylabel('cost')\n",
        "ax.set_title('Elbow Plot for K Means Model')\n",
        "ax.xaxis.set_major_locator(MaxNLocator(integer=True))\n",
        "plt.show()\n",
        "\n"
      ],
      "execution_count": 84,
      "outputs": [
        {
          "output_type": "display_data",
          "data": {
            "image/png": "[encoded data removed]",
            "text/plain": [
              "<Figure size 576x432 with 1 Axes>"
            ]
          },
          "metadata": {
            "tags": [],
            "needs_background": "light"
          }
        }
      ]
    },
    {
      "cell_type": "markdown",
      "metadata": {
        "colab_type": "text",
        "id": "XupecQFHE5Za"
      },
      "source": [
        "\n",
        "### 2.2 K-Means\n",
        "\n",
        "Could you tell out the optimized K value? \n",
        "\n",
        "\n",
        "\n",
        "\n",
        "****\n",
        "\n",
        "<div class=\"alert alert-block alert-info\">\n",
        "\n",
        "**Code**: \n",
        "    You are required to choose a K value as 8 and then summarize each cluster with the count on each Position_Group.\n",
        "\n",
        "<div class=\"alert alert-block alert-warning\">\n",
        "    \n",
        "**Report**: \n",
        "    **2.2** In your report with proper section title  '2.2', Please summarize the following:     \n",
        "    <ol>\n",
        "        <li> What you could find from those clusters (by cluster central point)? </li>\n",
        "        <li> Is there relationship between Position_Group and a particular Cluster?</li>\n",
        "    </ol>\n",
        "\n",
        "</div>\n",
        "</div>\n",
        "\n",
        "\n"
      ]
    },
    {
      "cell_type": "code",
      "metadata": {
        "colab_type": "code",
        "id": "LxSOxcowE6vB",
        "colab": {}
      },
      "source": [
        "k = 8\n",
        "\n",
        "kmeans2 = KMeans().setK(8).setSeed(1)\n",
        "model2 = kmeans2.fit(df_kmeans_)\n"
      ],
      "execution_count": 0,
      "outputs": []
    },
    {
      "cell_type": "code",
      "metadata": {
        "colab_type": "code",
        "id": "AkWZ5-6oFlpp",
        "colab": {
          "base_uri": "https://localhost:8080/",
          "height": 961
        },
        "outputId": "f488fa96-dfb2-4a6c-85b8-f4056019fc9a"
      },
      "source": [
        "from pyspark.sql import SQLContext\n",
        "cluster = model2.transform(df_kmeans_)\n",
        "cluster.show()\n",
        "\n",
        "df_kmeans_pred_ = df_kmeans_new.join(cluster, on=['ID'], how='left').withColumnRenamed('Prediction', 'Cluster')\n",
        "\n",
        "df_kmeans_pred_.show()\n"
      ],
      "execution_count": 96,
      "outputs": [
        {
          "output_type": "stream",
          "text": [
            "+------+--------------------+--------------------+----------+\n",
            "|    ID|            features|     Scaled_features|prediction|\n",
            "+------+--------------------+--------------------+----------+\n",
            "|158023|[173.735992431640...|[12.9261366722264...|         2|\n",
            "| 20801|[188.975997924804...|[14.0600087682323...|         2|\n",
            "|190871|[179.832000732421...|[13.3796859647366...|         2|\n",
            "|192985|[155.752807617187...|[11.5881692110224...|         4|\n",
            "|183277|[176.783996582031...|[13.1529113184815...|         2|\n",
            "|177003|[176.783996582031...|[13.1529113184815...|         4|\n",
            "|176580|[182.880004882812...|[13.6064606109917...|         2|\n",
            "|155862|[182.880004882812...|[13.6064606109917...|         4|\n",
            "|188545|[182.880004882812...|[13.6064606109917...|         2|\n",
            "|182521|[182.880004882812...|[13.6064606109917...|         4|\n",
            "|182493|[188.975997924804...|[14.0600087682323...|         0|\n",
            "|168542|[176.783996582031...|[13.1529113184815...|         2|\n",
            "|215914|[170.688003540039...|[12.6993631612409...|         4|\n",
            "|211110|[155.447998046875...|[11.5654910652351...|         2|\n",
            "|202126|[188.975997924804...|[14.0600087682323...|         2|\n",
            "|194765|[179.832000732421...|[13.3796859647366...|         2|\n",
            "|189511|[188.975997924804...|[14.0600087682323...|         4|\n",
            "|179813|[185.927993774414...|[13.8332341219772...|         2|\n",
            "|153079|[176.783996582031...|[13.1529113184815...|         2|\n",
            "|138956|[188.975997924804...|[14.0600087682323...|         0|\n",
            "+------+--------------------+--------------------+----------+\n",
            "only showing top 20 rows\n",
            "\n",
            "+------+--------+----------+----------+--------+---------+---------------+------------+-------+---------+-----+----------+-----------+-----------+------------+-----------+-------+---------+-------+---------+-------+-------+--------+---------+----------+-------------+-----------+------+---------+---------+-------+--------------+-------------+--------------+--------------------+--------------------+-------+\n",
            "|    ID|Position|Height(CM)|Weight(KG)|Crossing|Finishing|HeadingAccuracy|ShortPassing|Volleys|Dribbling|Curve|FKAccuracy|LongPassing|BallControl|Acceleration|SprintSpeed|Agility|Reactions|Balance|ShotPower|Jumping|Stamina|Strength|LongShots|Aggression|Interceptions|Positioning|Vision|Penalties|Composure|Marking|StandingTackle|SlidingTackle|Position_Group|            features|     Scaled_features|Cluster|\n",
            "+------+--------+----------+----------+--------+---------+---------------+------------+-------+---------+-----+----------+-----------+-----------+------------+-----------+-------+---------+-------+---------+-------+-------+--------+---------+----------+-------------+-----------+------+---------+---------+-------+--------------+-------------+--------------+--------------------+--------------------+-------+\n",
            "|158023|      RF|   173.736| 72.121124|    84.0|     95.0|           70.0|        90.0|   86.0|     97.0| 93.0|      94.0|       87.0|       96.0|        91.0|       86.0|   91.0|     95.0|   95.0|     85.0|   68.0|   72.0|    59.0|     94.0|      48.0|         22.0|       94.0|  94.0|     75.0|     96.0|   33.0|          28.0|         26.0|           FWD|[173.735992431640...|[12.9261366722264...|      2|\n",
            "| 20801|      ST|   188.976|  83.00734|    84.0|     94.0|           89.0|        81.0|   87.0|     88.0| 81.0|      76.0|       77.0|       94.0|        89.0|       91.0|   87.0|     96.0|   70.0|     95.0|   95.0|   88.0|    79.0|     93.0|      63.0|         29.0|       95.0|  82.0|     85.0|     95.0|   28.0|          31.0|         23.0|           FWD|[188.975997924804...|[14.0600087682323...|      2|\n",
            "|190871|      LW|   179.832|   68.0388|    79.0|     87.0|           62.0|        84.0|   84.0|     96.0| 88.0|      87.0|       78.0|       95.0|        94.0|       90.0|   96.0|     94.0|   84.0|     80.0|   61.0|   81.0|    49.0|     82.0|      56.0|         36.0|       89.0|  87.0|     81.0|     94.0|   27.0|          24.0|         33.0|           FWD|[179.832000732421...|[13.3796859647366...|      2|\n",
            "|192985|     RCM|  155.7528| 69.853165|    93.0|     82.0|           55.0|        92.0|   82.0|     86.0| 85.0|      83.0|       91.0|       91.0|        78.0|       76.0|   79.0|     91.0|   77.0|     91.0|   63.0|   90.0|    75.0|     91.0|      76.0|         61.0|       87.0|  94.0|     79.0|     88.0|   68.0|          58.0|         51.0|           MID|[155.752807617187...|[11.5881692110224...|      4|\n",
            "|183277|      LF|   176.784|  73.93549|    81.0|     84.0|           61.0|        89.0|   80.0|     95.0| 83.0|      79.0|       83.0|       94.0|        94.0|       88.0|   95.0|     90.0|   94.0|     82.0|   56.0|   83.0|    66.0|     80.0|      54.0|         41.0|       87.0|  89.0|     86.0|     91.0|   34.0|          27.0|         22.0|           FWD|[176.783996582031...|[13.1529113184815...|      2|\n",
            "|177003|     RCM|   176.784| 66.224434|    86.0|     72.0|           55.0|        93.0|   76.0|     90.0| 85.0|      78.0|       88.0|       93.0|        80.0|       72.0|   93.0|     90.0|   94.0|     79.0|   68.0|   89.0|    58.0|     82.0|      62.0|         83.0|       79.0|  92.0|     82.0|     84.0|   60.0|          76.0|         73.0|           MID|[176.783996582031...|[13.1529113184815...|      4|\n",
            "|176580|      RS|    182.88|  86.18248|    77.0|     93.0|           77.0|        82.0|   88.0|     87.0| 86.0|      84.0|       64.0|       90.0|        86.0|       75.0|   82.0|     92.0|   83.0|     86.0|   69.0|   90.0|    83.0|     85.0|      87.0|         41.0|       92.0|  84.0|     85.0|     85.0|   62.0|          45.0|         38.0|           FWD|[182.880004882812...|[13.6064606109917...|      2|\n",
            "|155862|     RCB|    182.88|  82.10015|    66.0|     60.0|           91.0|        78.0|   66.0|     63.0| 74.0|      72.0|       77.0|       84.0|        76.0|       75.0|   78.0|     85.0|   66.0|     79.0|   93.0|   84.0|    83.0|     59.0|      88.0|         90.0|       60.0|  63.0|     75.0|     82.0|   87.0|          92.0|         91.0|           DEF|[182.880004882812...|[13.6064606109917...|      4|\n",
            "|188545|      ST|    182.88|  79.83219|    62.0|     91.0|           85.0|        83.0|   89.0|     85.0| 77.0|      86.0|       65.0|       89.0|        77.0|       78.0|   78.0|     90.0|   78.0|     88.0|   84.0|   78.0|    84.0|     84.0|      80.0|         39.0|       91.0|  77.0|     88.0|     86.0|   34.0|          42.0|         19.0|           FWD|[182.880004882812...|[13.6064606109917...|      2|\n",
            "|182521|     LCM|    182.88|  76.20345|    88.0|     76.0|           54.0|        92.0|   82.0|     81.0| 86.0|      84.0|       93.0|       90.0|        64.0|       62.0|   70.0|     89.0|   71.0|     87.0|   30.0|   75.0|    73.0|     92.0|      60.0|         82.0|       79.0|  86.0|     73.0|     85.0|   72.0|          79.0|         69.0|           MID|[182.880004882812...|[13.6064606109917...|      4|\n",
            "|182493|      CB|   188.976|  78.01782|    55.0|     42.0|           92.0|        79.0|   47.0|     53.0| 49.0|      51.0|       70.0|       76.0|        68.0|       68.0|   58.0|     85.0|   54.0|     67.0|   91.0|   66.0|    88.0|     43.0|      89.0|         88.0|       48.0|  52.0|     50.0|     82.0|   90.0|          89.0|         89.0|           DEF|[188.975997924804...|[14.0600087682323...|      0|\n",
            "|168542|     LCM|   176.784| 67.131615|    84.0|     76.0|           54.0|        93.0|   82.0|     89.0| 82.0|      77.0|       87.0|       94.0|        70.0|       64.0|   92.0|     90.0|   90.0|     72.0|   64.0|   78.0|    52.0|     75.0|      57.0|         50.0|       89.0|  92.0|     75.0|     93.0|   59.0|          53.0|         29.0|           MID|[176.783996582031...|[13.1529113184815...|      2|\n",
            "|215914|     LDM|   170.688| 72.121124|    68.0|     65.0|           54.0|        86.0|   56.0|     79.0| 49.0|      49.0|       81.0|       80.0|        82.0|       78.0|   82.0|     93.0|   92.0|     71.0|   77.0|   96.0|    76.0|     69.0|      90.0|         92.0|       71.0|  79.0|     54.0|     85.0|   90.0|          91.0|         85.0|           MID|[170.688003540039...|[12.6993631612409...|      4|\n",
            "|211110|      LF|   155.448|  74.84268|    82.0|     84.0|           68.0|        87.0|   88.0|     92.0| 88.0|      88.0|       75.0|       92.0|        87.0|       83.0|   91.0|     86.0|   85.0|     82.0|   75.0|   80.0|    65.0|     88.0|      48.0|         32.0|       84.0|  87.0|     86.0|     84.0|   23.0|          20.0|         20.0|           FWD|[155.447998046875...|[11.5654910652351...|      2|\n",
            "|202126|      ST|   188.976|  88.90403|    75.0|     94.0|           85.0|        80.0|   84.0|     80.0| 78.0|      68.0|       82.0|       84.0|        68.0|       72.0|   71.0|     91.0|   71.0|     88.0|   78.0|   89.0|    84.0|     85.0|      76.0|         35.0|       93.0|  80.0|     90.0|     89.0|   56.0|          36.0|         38.0|           FWD|[188.975997924804...|[14.0600087682323...|      2|\n",
            "|194765|     CAM|   179.832|  73.02831|    82.0|     90.0|           84.0|        83.0|   87.0|     88.0| 84.0|      78.0|       76.0|       90.0|        88.0|       85.0|   90.0|     90.0|   80.0|     80.0|   90.0|   83.0|    62.0|     82.0|      69.0|         35.0|       91.0|  83.0|     79.0|     87.0|   59.0|          47.0|         48.0|           MID|[179.832000732421...|[13.3796859647366...|      2|\n",
            "|189511|     CDM|   188.976|  76.20345|    62.0|     67.0|           68.0|        89.0|   44.0|     80.0| 66.0|      68.0|       82.0|       88.0|        50.0|       52.0|   66.0|     87.0|   52.0|     61.0|   66.0|   86.0|    77.0|     54.0|      85.0|         87.0|       77.0|  87.0|     60.0|     90.0|   90.0|          86.0|         80.0|           MID|[188.975997924804...|[14.0600087682323...|      4|\n",
            "|179813|      LS|   185.928|  77.11064|    70.0|     89.0|           89.0|        78.0|   90.0|     80.0| 77.0|      76.0|       52.0|       82.0|        75.0|       76.0|   77.0|     91.0|   59.0|     87.0|   88.0|   92.0|    78.0|     79.0|      84.0|         48.0|       93.0|  77.0|     85.0|     82.0|   52.0|          45.0|         39.0|           FWD|[185.927993774414...|[13.8332341219772...|      2|\n",
            "|153079|      ST|   176.784| 69.853165|    70.0|     93.0|           77.0|        81.0|   85.0|     89.0| 82.0|      73.0|       64.0|       89.0|        88.0|       80.0|   86.0|     90.0|   91.0|     88.0|   81.0|   76.0|    73.0|     83.0|      65.0|         24.0|       92.0|  83.0|     83.0|     90.0|   30.0|          20.0|         12.0|           FWD|[176.783996582031...|[13.1529113184815...|      2|\n",
            "|138956|     LCB|   188.976|   84.8217|    58.0|     33.0|           83.0|        59.0|   45.0|     58.0| 60.0|      31.0|       59.0|       57.0|        63.0|       75.0|   54.0|     82.0|   55.0|     78.0|   89.0|   65.0|    89.0|     49.0|      92.0|         88.0|       28.0|  50.0|     50.0|     84.0|   93.0|          93.0|         90.0|           DEF|[188.975997924804...|[14.0600087682323...|      0|\n",
            "+------+--------+----------+----------+--------+---------+---------------+------------+-------+---------+-----+----------+-----------+-----------+------------+-----------+-------+---------+-------+---------+-------+-------+--------+---------+----------+-------------+-----------+------+---------+---------+-------+--------------+-------------+--------------+--------------------+--------------------+-------+\n",
            "only showing top 20 rows\n",
            "\n"
          ],
          "name": "stdout"
        }
      ]
    },
    {
      "cell_type": "code",
      "metadata": {
        "id": "bH7w1bC8ecF0",
        "colab_type": "code",
        "colab": {
          "base_uri": "https://localhost:8080/",
          "height": 514
        },
        "outputId": "eb8e3066-6b2a-41ba-b85f-de46866b6abe"
      },
      "source": [
        "#summarize each cluster with the count on each Position_Group\n",
        "\n",
        "df_kmeans_pred_.groupby([\"Cluster\",\"Position_Group\"]).agg(F.count(F.col(\"Position_Group\"))).sort(\"Cluster\").show(50)"
      ],
      "execution_count": 105,
      "outputs": [
        {
          "output_type": "stream",
          "text": [
            "+-------+--------------+---------------------+\n",
            "|Cluster|Position_Group|count(Position_Group)|\n",
            "+-------+--------------+---------------------+\n",
            "|      0|           MID|                  967|\n",
            "|      0|           DEF|                 1230|\n",
            "|      0|           FWD|                   11|\n",
            "|      1|           FWD|                    2|\n",
            "|      1|           MID|                  117|\n",
            "|      1|           DEF|                 1462|\n",
            "|      2|           FWD|                 1112|\n",
            "|      2|           DEF|                    4|\n",
            "|      2|           MID|                 1195|\n",
            "|      3|           DEF|                 1266|\n",
            "|      3|           MID|                   77|\n",
            "|      3|           FWD|                    1|\n",
            "|      4|           DEF|                  599|\n",
            "|      4|           MID|                 1720|\n",
            "|      4|           FWD|                   71|\n",
            "|      5|           FWD|                  535|\n",
            "|      5|           DEF|                    8|\n",
            "|      5|           MID|                 1486|\n",
            "|      6|           MID|                  135|\n",
            "|      6|           FWD|                 1648|\n",
            "|      7|           FWD|                   38|\n",
            "|      7|           MID|                 1141|\n",
            "|      7|           DEF|                 1297|\n",
            "+-------+--------------+---------------------+\n",
            "\n"
          ],
          "name": "stdout"
        }
      ]
    },
    {
      "cell_type": "code",
      "metadata": {
        "id": "R6j9C-Q7gRPY",
        "colab_type": "code",
        "colab": {
          "base_uri": "https://localhost:8080/",
          "height": 292
        },
        "outputId": "59b4f8f7-a2b9-42fc-bab3-bfe1e8c043ef"
      },
      "source": [
        "df_cluster_result = df_kmeans_pred_.toPandas().set_index('ID')\n",
        "\n",
        "pd.crosstab(df_cluster_result['Cluster'],\n",
        "            df_cluster_result['Position_Group']).plot.bar(stacked=True)\n",
        "plt.title('Position Groups by Cluster')\n",
        "plt.ylabel('Count')\n",
        "plt.show()"
      ],
      "execution_count": 107,
      "outputs": [
        {
          "output_type": "display_data",
          "data": {
            "image/png": "[encoded data removed]",
            "text/plain": [
              "<Figure size 432x288 with 1 Axes>"
            ]
          },
          "metadata": {
            "tags": [],
            "needs_background": "light"
          }
        }
      ]
    },
    {
      "cell_type": "markdown",
      "metadata": {
        "colab_type": "text",
        "id": "IiHEevY6IOJz"
      },
      "source": [
        "## Part 3 - Supervised Learning: Classification on Position_Group\n",
        "\n",
        "<a id=\"classification\"></a>\n",
        "***\n",
        "\n",
        "In last part, you use the player's skill set values to segment the players into 8 clusters. Now we want to see whether we could accurately predict the position_group of the player.\n",
        "\n",
        "*Remind: You must only use **PySpark** to complete the following data processing and model building. Otherwise, you lose all marks.*\n",
        "\n",
        "\n",
        "### 3.1 Data Preparation\n",
        "\n",
        "We remove the feature of position and only use the skill set features and the cluster results from Kmeans as the input (you need to create a column for your cluster results and name it as Cluster) for the model. Your target for classification is \"Position_Group\"."
      ]
    },
    {
      "cell_type": "code",
      "metadata": {
        "colab_type": "code",
        "id": "PwtsyrUsI8e_",
        "outputId": "c0cf2103-f95a-4d59-dff3-ce213992b0ca",
        "colab": {
          "base_uri": "https://localhost:8080/",
          "height": 725
        }
      },
      "source": [
        "FEATURES_COL_ = ['Height(CM)', 'Weight(KG)', \n",
        "                      'Crossing', 'Finishing', 'HeadingAccuracy', \n",
        "                      'ShortPassing', 'Volleys', 'Dribbling', 'Curve',\n",
        "                      'FKAccuracy', 'LongPassing', 'BallControl', \n",
        "                      'Acceleration', 'SprintSpeed', 'Agility', \n",
        "                      'Reactions', 'Balance', 'ShotPower', 'Jumping', \n",
        "                      'Stamina', 'Strength', 'LongShots', 'Aggression', \n",
        "                      'Interceptions', 'Positioning', 'Vision', 'Penalties', \n",
        "                      'Composure', 'Marking', 'StandingTackle', 'SlidingTackle','Cluster']\n",
        "\n",
        "\n",
        "vecAssembler_ = VectorAssembler(inputCols=FEATURES_COL_, outputCol=\"features\")\n",
        "df_class_ = vecAssembler_.transform(df_kmeans_pred_).select('features','Position_Group')\n",
        "df_class_.show(3)\n"
      ],
      "execution_count": 110,
      "outputs": [
        {
          "output_type": "error",
          "ename": "IllegalArgumentException",
          "evalue": "ignored",
          "traceback": [
            "\u001b[0;31m---------------------------------------------------------------------------\u001b[0m",
            "\u001b[0;31mPy4JJavaError\u001b[0m                             Traceback (most recent call last)",
            "\u001b[0;32m/content/spark-2.4.0-bin-hadoop2.7/python/pyspark/sql/utils.py\u001b[0m in \u001b[0;36mdeco\u001b[0;34m(*a, **kw)\u001b[0m\n\u001b[1;32m     62\u001b[0m         \u001b[0;32mtry\u001b[0m\u001b[0;34m:\u001b[0m\u001b[0;34m\u001b[0m\u001b[0;34m\u001b[0m\u001b[0m\n\u001b[0;32m---> 63\u001b[0;31m             \u001b[0;32mreturn\u001b[0m \u001b[0mf\u001b[0m\u001b[0;34m(\u001b[0m\u001b[0;34m*\u001b[0m\u001b[0ma\u001b[0m\u001b[0;34m,\u001b[0m \u001b[0;34m**\u001b[0m\u001b[0mkw\u001b[0m\u001b[0;34m)\u001b[0m\u001b[0;34m\u001b[0m\u001b[0;34m\u001b[0m\u001b[0m\n\u001b[0m\u001b[1;32m     64\u001b[0m         \u001b[0;32mexcept\u001b[0m \u001b[0mpy4j\u001b[0m\u001b[0;34m.\u001b[0m\u001b[0mprotocol\u001b[0m\u001b[0;34m.\u001b[0m\u001b[0mPy4JJavaError\u001b[0m \u001b[0;32mas\u001b[0m \u001b[0me\u001b[0m\u001b[0;34m:\u001b[0m\u001b[0;34m\u001b[0m\u001b[0;34m\u001b[0m\u001b[0m\n",
            "\u001b[0;32m/content/spark-2.4.0-bin-hadoop2.7/python/lib/py4j-0.10.7-src.zip/py4j/protocol.py\u001b[0m in \u001b[0;36mget_return_value\u001b[0;34m(answer, gateway_client, target_id, name)\u001b[0m\n\u001b[1;32m    327\u001b[0m                     \u001b[0;34m\"An error occurred while calling {0}{1}{2}.\\n\"\u001b[0m\u001b[0;34m.\u001b[0m\u001b[0;34m\u001b[0m\u001b[0;34m\u001b[0m\u001b[0m\n\u001b[0;32m--> 328\u001b[0;31m                     format(target_id, \".\", name), value)\n\u001b[0m\u001b[1;32m    329\u001b[0m             \u001b[0;32melse\u001b[0m\u001b[0;34m:\u001b[0m\u001b[0;34m\u001b[0m\u001b[0;34m\u001b[0m\u001b[0m\n",
            "\u001b[0;31mPy4JJavaError\u001b[0m: An error occurred while calling o8766.transform.\n: java.lang.IllegalArgumentException: Output column features already exists.\n\tat org.apache.spark.ml.feature.VectorAssembler.transformSchema(VectorAssembler.scala:172)\n\tat org.apache.spark.ml.PipelineStage.transformSchema(Pipeline.scala:74)\n\tat org.apache.spark.ml.feature.VectorAssembler.transform(VectorAssembler.scala:86)\n\tat sun.reflect.NativeMethodAccessorImpl.invoke0(Native Method)\n\tat sun.reflect.NativeMethodAccessorImpl.invoke(NativeMethodAccessorImpl.java:62)\n\tat sun.reflect.DelegatingMethodAccessorImpl.invoke(DelegatingMethodAccessorImpl.java:43)\n\tat java.lang.reflect.Method.invoke(Method.java:498)\n\tat py4j.reflection.MethodInvoker.invoke(MethodInvoker.java:244)\n\tat py4j.reflection.ReflectionEngine.invoke(ReflectionEngine.java:357)\n\tat py4j.Gateway.invoke(Gateway.java:282)\n\tat py4j.commands.AbstractCommand.invokeMethod(AbstractCommand.java:132)\n\tat py4j.commands.CallCommand.execute(CallCommand.java:79)\n\tat py4j.GatewayConnection.run(GatewayConnection.java:238)\n\tat java.lang.Thread.run(Thread.java:748)\n",
            "\nDuring handling of the above exception, another exception occurred:\n",
            "\u001b[0;31mIllegalArgumentException\u001b[0m                  Traceback (most recent call last)",
            "\u001b[0;32m<ipython-input-110-5c722e9961a0>\u001b[0m in \u001b[0;36m<module>\u001b[0;34m()\u001b[0m\n\u001b[1;32m     11\u001b[0m \u001b[0;34m\u001b[0m\u001b[0m\n\u001b[1;32m     12\u001b[0m \u001b[0mvecAssembler_\u001b[0m \u001b[0;34m=\u001b[0m \u001b[0mVectorAssembler\u001b[0m\u001b[0;34m(\u001b[0m\u001b[0minputCols\u001b[0m\u001b[0;34m=\u001b[0m\u001b[0mFEATURES_COL_\u001b[0m\u001b[0;34m,\u001b[0m \u001b[0moutputCol\u001b[0m\u001b[0;34m=\u001b[0m\u001b[0;34m\"features\"\u001b[0m\u001b[0;34m)\u001b[0m\u001b[0;34m\u001b[0m\u001b[0;34m\u001b[0m\u001b[0m\n\u001b[0;32m---> 13\u001b[0;31m \u001b[0mdf_class_\u001b[0m \u001b[0;34m=\u001b[0m \u001b[0mvecAssembler_\u001b[0m\u001b[0;34m.\u001b[0m\u001b[0mtransform\u001b[0m\u001b[0;34m(\u001b[0m\u001b[0mdf_kmeans_pred_\u001b[0m\u001b[0;34m)\u001b[0m\u001b[0;34m.\u001b[0m\u001b[0mselect\u001b[0m\u001b[0;34m(\u001b[0m\u001b[0;34m'features'\u001b[0m\u001b[0;34m,\u001b[0m\u001b[0;34m'Position_Group'\u001b[0m\u001b[0;34m)\u001b[0m\u001b[0;34m\u001b[0m\u001b[0;34m\u001b[0m\u001b[0m\n\u001b[0m\u001b[1;32m     14\u001b[0m \u001b[0mdf_class_\u001b[0m\u001b[0;34m.\u001b[0m\u001b[0mshow\u001b[0m\u001b[0;34m(\u001b[0m\u001b[0;36m3\u001b[0m\u001b[0;34m)\u001b[0m\u001b[0;34m\u001b[0m\u001b[0;34m\u001b[0m\u001b[0m\n",
            "\u001b[0;32m/content/spark-2.4.0-bin-hadoop2.7/python/pyspark/ml/base.py\u001b[0m in \u001b[0;36mtransform\u001b[0;34m(self, dataset, params)\u001b[0m\n\u001b[1;32m    171\u001b[0m                 \u001b[0;32mreturn\u001b[0m \u001b[0mself\u001b[0m\u001b[0;34m.\u001b[0m\u001b[0mcopy\u001b[0m\u001b[0;34m(\u001b[0m\u001b[0mparams\u001b[0m\u001b[0;34m)\u001b[0m\u001b[0;34m.\u001b[0m\u001b[0m_transform\u001b[0m\u001b[0;34m(\u001b[0m\u001b[0mdataset\u001b[0m\u001b[0;34m)\u001b[0m\u001b[0;34m\u001b[0m\u001b[0;34m\u001b[0m\u001b[0m\n\u001b[1;32m    172\u001b[0m             \u001b[0;32melse\u001b[0m\u001b[0;34m:\u001b[0m\u001b[0;34m\u001b[0m\u001b[0;34m\u001b[0m\u001b[0m\n\u001b[0;32m--> 173\u001b[0;31m                 \u001b[0;32mreturn\u001b[0m \u001b[0mself\u001b[0m\u001b[0;34m.\u001b[0m\u001b[0m_transform\u001b[0m\u001b[0;34m(\u001b[0m\u001b[0mdataset\u001b[0m\u001b[0;34m)\u001b[0m\u001b[0;34m\u001b[0m\u001b[0;34m\u001b[0m\u001b[0m\n\u001b[0m\u001b[1;32m    174\u001b[0m         \u001b[0;32melse\u001b[0m\u001b[0;34m:\u001b[0m\u001b[0;34m\u001b[0m\u001b[0;34m\u001b[0m\u001b[0m\n\u001b[1;32m    175\u001b[0m             \u001b[0;32mraise\u001b[0m \u001b[0mValueError\u001b[0m\u001b[0;34m(\u001b[0m\u001b[0;34m\"Params must be a param map but got %s.\"\u001b[0m \u001b[0;34m%\u001b[0m \u001b[0mtype\u001b[0m\u001b[0;34m(\u001b[0m\u001b[0mparams\u001b[0m\u001b[0;34m)\u001b[0m\u001b[0;34m)\u001b[0m\u001b[0;34m\u001b[0m\u001b[0;34m\u001b[0m\u001b[0m\n",
            "\u001b[0;32m/content/spark-2.4.0-bin-hadoop2.7/python/pyspark/ml/wrapper.py\u001b[0m in \u001b[0;36m_transform\u001b[0;34m(self, dataset)\u001b[0m\n\u001b[1;32m    310\u001b[0m     \u001b[0;32mdef\u001b[0m \u001b[0m_transform\u001b[0m\u001b[0;34m(\u001b[0m\u001b[0mself\u001b[0m\u001b[0;34m,\u001b[0m \u001b[0mdataset\u001b[0m\u001b[0;34m)\u001b[0m\u001b[0;34m:\u001b[0m\u001b[0;34m\u001b[0m\u001b[0;34m\u001b[0m\u001b[0m\n\u001b[1;32m    311\u001b[0m         \u001b[0mself\u001b[0m\u001b[0;34m.\u001b[0m\u001b[0m_transfer_params_to_java\u001b[0m\u001b[0;34m(\u001b[0m\u001b[0;34m)\u001b[0m\u001b[0;34m\u001b[0m\u001b[0;34m\u001b[0m\u001b[0m\n\u001b[0;32m--> 312\u001b[0;31m         \u001b[0;32mreturn\u001b[0m \u001b[0mDataFrame\u001b[0m\u001b[0;34m(\u001b[0m\u001b[0mself\u001b[0m\u001b[0;34m.\u001b[0m\u001b[0m_java_obj\u001b[0m\u001b[0;34m.\u001b[0m\u001b[0mtransform\u001b[0m\u001b[0;34m(\u001b[0m\u001b[0mdataset\u001b[0m\u001b[0;34m.\u001b[0m\u001b[0m_jdf\u001b[0m\u001b[0;34m)\u001b[0m\u001b[0;34m,\u001b[0m \u001b[0mdataset\u001b[0m\u001b[0;34m.\u001b[0m\u001b[0msql_ctx\u001b[0m\u001b[0;34m)\u001b[0m\u001b[0;34m\u001b[0m\u001b[0;34m\u001b[0m\u001b[0m\n\u001b[0m\u001b[1;32m    313\u001b[0m \u001b[0;34m\u001b[0m\u001b[0m\n\u001b[1;32m    314\u001b[0m \u001b[0;34m\u001b[0m\u001b[0m\n",
            "\u001b[0;32m/content/spark-2.4.0-bin-hadoop2.7/python/lib/py4j-0.10.7-src.zip/py4j/java_gateway.py\u001b[0m in \u001b[0;36m__call__\u001b[0;34m(self, *args)\u001b[0m\n\u001b[1;32m   1255\u001b[0m         \u001b[0manswer\u001b[0m \u001b[0;34m=\u001b[0m \u001b[0mself\u001b[0m\u001b[0;34m.\u001b[0m\u001b[0mgateway_client\u001b[0m\u001b[0;34m.\u001b[0m\u001b[0msend_command\u001b[0m\u001b[0;34m(\u001b[0m\u001b[0mcommand\u001b[0m\u001b[0;34m)\u001b[0m\u001b[0;34m\u001b[0m\u001b[0;34m\u001b[0m\u001b[0m\n\u001b[1;32m   1256\u001b[0m         return_value = get_return_value(\n\u001b[0;32m-> 1257\u001b[0;31m             answer, self.gateway_client, self.target_id, self.name)\n\u001b[0m\u001b[1;32m   1258\u001b[0m \u001b[0;34m\u001b[0m\u001b[0m\n\u001b[1;32m   1259\u001b[0m         \u001b[0;32mfor\u001b[0m \u001b[0mtemp_arg\u001b[0m \u001b[0;32min\u001b[0m \u001b[0mtemp_args\u001b[0m\u001b[0;34m:\u001b[0m\u001b[0;34m\u001b[0m\u001b[0;34m\u001b[0m\u001b[0m\n",
            "\u001b[0;32m/content/spark-2.4.0-bin-hadoop2.7/python/pyspark/sql/utils.py\u001b[0m in \u001b[0;36mdeco\u001b[0;34m(*a, **kw)\u001b[0m\n\u001b[1;32m     77\u001b[0m                 \u001b[0;32mraise\u001b[0m \u001b[0mQueryExecutionException\u001b[0m\u001b[0;34m(\u001b[0m\u001b[0ms\u001b[0m\u001b[0;34m.\u001b[0m\u001b[0msplit\u001b[0m\u001b[0;34m(\u001b[0m\u001b[0;34m': '\u001b[0m\u001b[0;34m,\u001b[0m \u001b[0;36m1\u001b[0m\u001b[0;34m)\u001b[0m\u001b[0;34m[\u001b[0m\u001b[0;36m1\u001b[0m\u001b[0;34m]\u001b[0m\u001b[0;34m,\u001b[0m \u001b[0mstackTrace\u001b[0m\u001b[0;34m)\u001b[0m\u001b[0;34m\u001b[0m\u001b[0;34m\u001b[0m\u001b[0m\n\u001b[1;32m     78\u001b[0m             \u001b[0;32mif\u001b[0m \u001b[0ms\u001b[0m\u001b[0;34m.\u001b[0m\u001b[0mstartswith\u001b[0m\u001b[0;34m(\u001b[0m\u001b[0;34m'java.lang.IllegalArgumentException: '\u001b[0m\u001b[0;34m)\u001b[0m\u001b[0;34m:\u001b[0m\u001b[0;34m\u001b[0m\u001b[0;34m\u001b[0m\u001b[0m\n\u001b[0;32m---> 79\u001b[0;31m                 \u001b[0;32mraise\u001b[0m \u001b[0mIllegalArgumentException\u001b[0m\u001b[0;34m(\u001b[0m\u001b[0ms\u001b[0m\u001b[0;34m.\u001b[0m\u001b[0msplit\u001b[0m\u001b[0;34m(\u001b[0m\u001b[0;34m': '\u001b[0m\u001b[0;34m,\u001b[0m \u001b[0;36m1\u001b[0m\u001b[0;34m)\u001b[0m\u001b[0;34m[\u001b[0m\u001b[0;36m1\u001b[0m\u001b[0;34m]\u001b[0m\u001b[0;34m,\u001b[0m \u001b[0mstackTrace\u001b[0m\u001b[0;34m)\u001b[0m\u001b[0;34m\u001b[0m\u001b[0;34m\u001b[0m\u001b[0m\n\u001b[0m\u001b[1;32m     80\u001b[0m             \u001b[0;32mraise\u001b[0m\u001b[0;34m\u001b[0m\u001b[0;34m\u001b[0m\u001b[0m\n\u001b[1;32m     81\u001b[0m     \u001b[0;32mreturn\u001b[0m \u001b[0mdeco\u001b[0m\u001b[0;34m\u001b[0m\u001b[0;34m\u001b[0m\u001b[0m\n",
            "\u001b[0;31mIllegalArgumentException\u001b[0m: 'Output column features already exists.'"
          ]
        }
      ]
    },
    {
      "cell_type": "markdown",
      "metadata": {
        "colab_type": "text",
        "id": "AklN81TvMKJS"
      },
      "source": [
        "In many data science modelling work, feature scaling is very important.\n",
        "In here, we use standard scaling on the features."
      ]
    },
    {
      "cell_type": "code",
      "metadata": {
        "colab_type": "code",
        "id": "pjQRAHOQMK6V",
        "colab": {
          "base_uri": "https://localhost:8080/",
          "height": 221
        },
        "outputId": "6a97dc0b-7c0d-42a0-8c1a-b73bb4910420"
      },
      "source": [
        "from pyspark.ml.feature import StandardScaler\n",
        "\n",
        "standardscaler=StandardScaler().setInputCol(\"features\").setOutputCol(\"Scaled_features\")\n",
        "raw_data=standardscaler.fit(df_class_).transform(df_class_)\n",
        "raw_data.select(\"features\",\"Scaled_features\",'Position_Group').show(5)"
      ],
      "execution_count": 109,
      "outputs": [
        {
          "output_type": "error",
          "ename": "NameError",
          "evalue": "ignored",
          "traceback": [
            "\u001b[0;31m---------------------------------------------------------------------------\u001b[0m",
            "\u001b[0;31mNameError\u001b[0m                                 Traceback (most recent call last)",
            "\u001b[0;32m<ipython-input-109-385a2538e361>\u001b[0m in \u001b[0;36m<module>\u001b[0;34m()\u001b[0m\n\u001b[1;32m      2\u001b[0m \u001b[0;34m\u001b[0m\u001b[0m\n\u001b[1;32m      3\u001b[0m \u001b[0mstandardscaler\u001b[0m\u001b[0;34m=\u001b[0m\u001b[0mStandardScaler\u001b[0m\u001b[0;34m(\u001b[0m\u001b[0;34m)\u001b[0m\u001b[0;34m.\u001b[0m\u001b[0msetInputCol\u001b[0m\u001b[0;34m(\u001b[0m\u001b[0;34m\"features\"\u001b[0m\u001b[0;34m)\u001b[0m\u001b[0;34m.\u001b[0m\u001b[0msetOutputCol\u001b[0m\u001b[0;34m(\u001b[0m\u001b[0;34m\"Scaled_features\"\u001b[0m\u001b[0;34m)\u001b[0m\u001b[0;34m\u001b[0m\u001b[0;34m\u001b[0m\u001b[0m\n\u001b[0;32m----> 4\u001b[0;31m \u001b[0mraw_data\u001b[0m\u001b[0;34m=\u001b[0m\u001b[0mstandardscaler\u001b[0m\u001b[0;34m.\u001b[0m\u001b[0mfit\u001b[0m\u001b[0;34m(\u001b[0m\u001b[0mdf_class_\u001b[0m\u001b[0;34m)\u001b[0m\u001b[0;34m.\u001b[0m\u001b[0mtransform\u001b[0m\u001b[0;34m(\u001b[0m\u001b[0mdf_class_\u001b[0m\u001b[0;34m)\u001b[0m\u001b[0;34m\u001b[0m\u001b[0;34m\u001b[0m\u001b[0m\n\u001b[0m\u001b[1;32m      5\u001b[0m \u001b[0mraw_data\u001b[0m\u001b[0;34m.\u001b[0m\u001b[0mselect\u001b[0m\u001b[0;34m(\u001b[0m\u001b[0;34m\"features\"\u001b[0m\u001b[0;34m,\u001b[0m\u001b[0;34m\"Scaled_features\"\u001b[0m\u001b[0;34m,\u001b[0m\u001b[0;34m'Position_Group'\u001b[0m\u001b[0;34m)\u001b[0m\u001b[0;34m.\u001b[0m\u001b[0mshow\u001b[0m\u001b[0;34m(\u001b[0m\u001b[0;36m5\u001b[0m\u001b[0;34m)\u001b[0m\u001b[0;34m\u001b[0m\u001b[0;34m\u001b[0m\u001b[0m\n",
            "\u001b[0;31mNameError\u001b[0m: name 'df_class_' is not defined"
          ]
        }
      ]
    },
    {
      "cell_type": "markdown",
      "metadata": {
        "colab_type": "text",
        "id": "DD6wgq2sgiGk"
      },
      "source": [
        "In Spark, you could not use string as Target data type, Please encode the Position_Group column by using following encoding: \n",
        "\n",
        "FWD = 0\n",
        "DEF = 1\n",
        "MID = 2\n",
        "\n",
        "*Hint: Data type after encoding should be numeric.*"
      ]
    },
    {
      "cell_type": "code",
      "metadata": {
        "colab_type": "code",
        "id": "OosmFX9iOc0Z",
        "colab": {}
      },
      "source": [
        "raw_data_ = raw_data.withColumn('Target',when(col(\"Position_Group\") == \"DEF\", 1)\n",
        "      .when(col(\"Position_Group\")== \"FWD\", 0)\n",
        "      .otherwise(2))"
      ],
      "execution_count": 0,
      "outputs": []
    },
    {
      "cell_type": "markdown",
      "metadata": {
        "colab_type": "text",
        "id": "NDfZARUNMW2M"
      },
      "source": [
        "### 3.2 Training Test Evaluation\n",
        "\n",
        "We remove the feature of position and use all other skill set features and the cluster results as the input for the model. The target for classification is \"Position_Group\".\n",
        "\n",
        "Now, we split your data into train/Test, and evaluate one model's performance."
      ]
    },
    {
      "cell_type": "code",
      "metadata": {
        "colab_type": "code",
        "id": "MmbanmwBMUQB",
        "colab": {}
      },
      "source": [
        "train, test = raw_data_.randomSplit([0.7, 0.3], seed=12)"
      ],
      "execution_count": 0,
      "outputs": []
    },
    {
      "cell_type": "code",
      "metadata": {
        "colab_type": "code",
        "id": "apoKm9igMi12",
        "colab": {}
      },
      "source": [
        "from pyspark.ml.classification import LogisticRegression\n",
        "lr = LogisticRegression(labelCol=\"Target\", featuresCol=\"Scaled_features\",maxIter=10)\n",
        "model=lr.fit(train)\n",
        "\n",
        "predict_train=model.transform(train)\n",
        "predict_test=model.transform(test)\n",
        "predict_test.select(\"Target\",\"prediction\").show(10)"
      ],
      "execution_count": 0,
      "outputs": []
    },
    {
      "cell_type": "markdown",
      "metadata": {
        "colab_type": "text",
        "id": "wZk-Z7CcP6Ng"
      },
      "source": [
        "\n",
        "****\n",
        "\n",
        "\n",
        "<div class=\"alert alert-block alert-info\">\n",
        "\n",
        "**Code**: \n",
        "    You are required to evaluate the model by using confusion matrix. Please also print out your model's Precision, Recall and F1 score.\n",
        "\n",
        "<div class=\"alert alert-block alert-warning\">\n",
        "    \n",
        "**Report**: \n",
        "    **3.2** In your report with proper section title  '3.2', Please summarize the following:     \n",
        "    <ol>\n",
        "        <li> The confusion matrix </li>\n",
        "        <li> The Precision, Recall and F1 score</li>\n",
        "    </ol>\n",
        "</div>\n",
        "</div>\n",
        "\n",
        "\n"
      ]
    },
    {
      "cell_type": "code",
      "metadata": {
        "colab_type": "code",
        "id": "yPho8CbGQCCm",
        "colab": {}
      },
      "source": [
        "from sklearn.metrics import confusion_matrix\n",
        "\n",
        "\n",
        "# Your Code\n"
      ],
      "execution_count": 0,
      "outputs": []
    },
    {
      "cell_type": "code",
      "metadata": {
        "colab_type": "code",
        "id": "abdY0SBNQlu2",
        "colab": {}
      },
      "source": [
        ""
      ],
      "execution_count": 0,
      "outputs": []
    },
    {
      "cell_type": "code",
      "metadata": {
        "colab_type": "code",
        "id": "d95nOilARR8H",
        "colab": {}
      },
      "source": [
        "from sklearn.metrics import classification_report\n",
        "\n",
        "# Your Code\n",
        "\n"
      ],
      "execution_count": 0,
      "outputs": []
    },
    {
      "cell_type": "markdown",
      "metadata": {
        "colab_type": "text",
        "id": "4Iy-g_68Q8OV"
      },
      "source": [
        "### 3.3 K-fold Cross-Validation\n",
        "\n",
        "We surely missed something during the modelling work -- Hyper-parameter tuning! We can use K-fold cross validation to find out the best hyper-parameter set.\n",
        "\n",
        "****\n",
        "\n",
        "\n",
        "<div class=\"alert alert-block alert-info\">\n",
        "\n",
        "**Code**: \n",
        "    Please implement K-fold cross validation for three (any three) classification models.\n",
        "\n",
        "<div class=\"alert alert-block alert-warning\">\n",
        "    \n",
        "**Report**: \n",
        "    **3.3** In your report with proper section title  '3.3', Please summarize the following:     \n",
        "    <ol>\n",
        "        <li> Your code design and running results </li>\n",
        "        <li> Your findings on hyper-parameters based on this cross-validation results</li>\n",
        "        <li> Any difficulties you had </li>\n",
        "        <li> Any other possible tasks we could do on this dataset </li>\n",
        "    </ol>\n",
        "<b>Remind: fail to list the reference will lead a penalty and possibly plagiarism</b>    \n",
        "</div>\n",
        "</div>\n",
        "\n"
      ]
    },
    {
      "cell_type": "code",
      "metadata": {
        "colab_type": "code",
        "id": "0yCvsy1-jO7x",
        "colab": {}
      },
      "source": [
        "from pyspark.ml import Pipeline\n",
        "from pyspark.ml.classification import RandomForestClassifier\n",
        "from pyspark.ml.evaluation import MulticlassClassificationEvaluator\n",
        "from pyspark.ml.tuning import ParamGridBuilder, CrossValidator\n",
        "\n",
        "# Your code \n"
      ],
      "execution_count": 0,
      "outputs": []
    },
    {
      "cell_type": "code",
      "metadata": {
        "id": "4JSoUAB9M_Uw",
        "colab_type": "code",
        "colab": {}
      },
      "source": [
        ""
      ],
      "execution_count": 0,
      "outputs": []
    },
    {
      "cell_type": "code",
      "metadata": {
        "id": "NphHoY8PtW_L",
        "colab_type": "code",
        "colab": {}
      },
      "source": [
        "# Your code"
      ],
      "execution_count": 0,
      "outputs": []
    }
  ]
}